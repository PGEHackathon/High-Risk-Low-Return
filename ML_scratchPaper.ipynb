{
 "cells": [
  {
   "cell_type": "code",
   "execution_count": 1,
   "id": "human-writer",
   "metadata": {},
   "outputs": [],
   "source": [
    "import matplotlib.pyplot as plt\n",
    "import pandas as pd\n",
    "\n",
    "import numpy as np\n",
    "import seaborn as sns"
   ]
  },
  {
   "cell_type": "code",
   "execution_count": 30,
   "id": "weekly-ticket",
   "metadata": {},
   "outputs": [],
   "source": [
    "df_preproducer_imputed = pd.read_csv(\"producer_imputedData.csv\", index_col=[0])\n",
    "df_preproducer_imputed.head()\n",
    "df_prodHist = pd.read_csv(\"production_history.csv\")\n"
   ]
  },
  {
   "cell_type": "code",
   "execution_count": 32,
   "id": "comic-signal",
   "metadata": {},
   "outputs": [
    {
     "data": {
      "text/html": [
       "<div>\n",
       "<style scoped>\n",
       "    .dataframe tbody tr th:only-of-type {\n",
       "        vertical-align: middle;\n",
       "    }\n",
       "\n",
       "    .dataframe tbody tr th {\n",
       "        vertical-align: top;\n",
       "    }\n",
       "\n",
       "    .dataframe thead th {\n",
       "        text-align: right;\n",
       "    }\n",
       "</style>\n",
       "<table border=\"1\" class=\"dataframe\">\n",
       "  <thead>\n",
       "    <tr style=\"text-align: right;\">\n",
       "      <th></th>\n",
       "      <th>Well_ID</th>\n",
       "      <th>X, m</th>\n",
       "      <th>Y, m</th>\n",
       "      <th>Depth, m</th>\n",
       "      <th>Porosity, fraction</th>\n",
       "      <th>Permeability, mD</th>\n",
       "      <th>Acoustic Impedance, kg*s/m^2</th>\n",
       "      <th>Density, g/cm3</th>\n",
       "      <th>Compressible velocity, m/s</th>\n",
       "      <th>Youngs modulus, GPa</th>\n",
       "      <th>Shear velocity, m/s</th>\n",
       "      <th>Shear modulus, GPa</th>\n",
       "      <th>Vclay</th>\n",
       "      <th>Cumulative oil production (1 yr), MSTB</th>\n",
       "      <th>Cumulative oil production (2 yr), MSTB</th>\n",
       "      <th>Cumulative oil production (3 yr), MSTB</th>\n",
       "      <th>Cumulative Water production (1 yr), MSTB</th>\n",
       "      <th>Cumulative Water production (2 yr), MSTB</th>\n",
       "      <th>Cumulative Water production (3 yr), MSTB</th>\n",
       "    </tr>\n",
       "  </thead>\n",
       "  <tbody>\n",
       "    <tr>\n",
       "      <th>0</th>\n",
       "      <td>Well_no_1</td>\n",
       "      <td>7325</td>\n",
       "      <td>7175</td>\n",
       "      <td>3057.550000</td>\n",
       "      <td>0.133426</td>\n",
       "      <td>115.099143</td>\n",
       "      <td>7.221834e+06</td>\n",
       "      <td>2.141876</td>\n",
       "      <td>3392.897466</td>\n",
       "      <td>25.333611</td>\n",
       "      <td>1656.844649</td>\n",
       "      <td>6.192136</td>\n",
       "      <td>0.133335</td>\n",
       "      <td>450.98</td>\n",
       "      <td>684.20</td>\n",
       "      <td>847.33</td>\n",
       "      <td>494.89</td>\n",
       "      <td>1236.40</td>\n",
       "      <td>2108.7</td>\n",
       "    </tr>\n",
       "    <tr>\n",
       "      <th>1</th>\n",
       "      <td>Well_no_10</td>\n",
       "      <td>3725</td>\n",
       "      <td>1575</td>\n",
       "      <td>3057.820000</td>\n",
       "      <td>0.112654</td>\n",
       "      <td>74.651251</td>\n",
       "      <td>7.474489e+06</td>\n",
       "      <td>1.827084</td>\n",
       "      <td>4038.679249</td>\n",
       "      <td>30.218813</td>\n",
       "      <td>1682.659828</td>\n",
       "      <td>5.592101</td>\n",
       "      <td>0.399980</td>\n",
       "      <td>229.35</td>\n",
       "      <td>388.35</td>\n",
       "      <td>518.27</td>\n",
       "      <td>222.51</td>\n",
       "      <td>528.21</td>\n",
       "      <td>880.8</td>\n",
       "    </tr>\n",
       "    <tr>\n",
       "      <th>2</th>\n",
       "      <td>Well_no_11</td>\n",
       "      <td>4275</td>\n",
       "      <td>5675</td>\n",
       "      <td>3050.470000</td>\n",
       "      <td>0.128556</td>\n",
       "      <td>92.894287</td>\n",
       "      <td>7.286664e+06</td>\n",
       "      <td>2.086964</td>\n",
       "      <td>3527.987993</td>\n",
       "      <td>26.446185</td>\n",
       "      <td>1681.960101</td>\n",
       "      <td>6.187106</td>\n",
       "      <td>0.233325</td>\n",
       "      <td>512.80</td>\n",
       "      <td>791.55</td>\n",
       "      <td>978.14</td>\n",
       "      <td>189.40</td>\n",
       "      <td>589.27</td>\n",
       "      <td>1120.3</td>\n",
       "    </tr>\n",
       "    <tr>\n",
       "      <th>3</th>\n",
       "      <td>Well_no_12</td>\n",
       "      <td>1625</td>\n",
       "      <td>3775</td>\n",
       "      <td>3057.797368</td>\n",
       "      <td>0.126319</td>\n",
       "      <td>108.875384</td>\n",
       "      <td>7.324012e+06</td>\n",
       "      <td>1.918122</td>\n",
       "      <td>3841.739107</td>\n",
       "      <td>29.032313</td>\n",
       "      <td>1627.507010</td>\n",
       "      <td>5.216026</td>\n",
       "      <td>0.280689</td>\n",
       "      <td>422.81</td>\n",
       "      <td>659.42</td>\n",
       "      <td>840.47</td>\n",
       "      <td>380.47</td>\n",
       "      <td>987.10</td>\n",
       "      <td>1714.1</td>\n",
       "    </tr>\n",
       "    <tr>\n",
       "      <th>4</th>\n",
       "      <td>Well_no_13</td>\n",
       "      <td>5175</td>\n",
       "      <td>8875</td>\n",
       "      <td>3058.566316</td>\n",
       "      <td>0.137389</td>\n",
       "      <td>105.816837</td>\n",
       "      <td>7.299270e+06</td>\n",
       "      <td>2.077762</td>\n",
       "      <td>3742.859030</td>\n",
       "      <td>26.852747</td>\n",
       "      <td>1667.159259</td>\n",
       "      <td>5.869177</td>\n",
       "      <td>0.175437</td>\n",
       "      <td>357.06</td>\n",
       "      <td>569.71</td>\n",
       "      <td>732.29</td>\n",
       "      <td>536.04</td>\n",
       "      <td>1243.10</td>\n",
       "      <td>2049.9</td>\n",
       "    </tr>\n",
       "  </tbody>\n",
       "</table>\n",
       "</div>"
      ],
      "text/plain": [
       "      Well_ID  X, m  Y, m     Depth, m  Porosity, fraction  Permeability, mD  \\\n",
       "0   Well_no_1  7325  7175  3057.550000            0.133426        115.099143   \n",
       "1  Well_no_10  3725  1575  3057.820000            0.112654         74.651251   \n",
       "2  Well_no_11  4275  5675  3050.470000            0.128556         92.894287   \n",
       "3  Well_no_12  1625  3775  3057.797368            0.126319        108.875384   \n",
       "4  Well_no_13  5175  8875  3058.566316            0.137389        105.816837   \n",
       "\n",
       "   Acoustic Impedance, kg*s/m^2  Density, g/cm3  Compressible velocity, m/s  \\\n",
       "0                  7.221834e+06        2.141876                 3392.897466   \n",
       "1                  7.474489e+06        1.827084                 4038.679249   \n",
       "2                  7.286664e+06        2.086964                 3527.987993   \n",
       "3                  7.324012e+06        1.918122                 3841.739107   \n",
       "4                  7.299270e+06        2.077762                 3742.859030   \n",
       "\n",
       "   Youngs modulus, GPa  Shear velocity, m/s  Shear modulus, GPa     Vclay  \\\n",
       "0            25.333611          1656.844649            6.192136  0.133335   \n",
       "1            30.218813          1682.659828            5.592101  0.399980   \n",
       "2            26.446185          1681.960101            6.187106  0.233325   \n",
       "3            29.032313          1627.507010            5.216026  0.280689   \n",
       "4            26.852747          1667.159259            5.869177  0.175437   \n",
       "\n",
       "   Cumulative oil production (1 yr), MSTB  \\\n",
       "0                                  450.98   \n",
       "1                                  229.35   \n",
       "2                                  512.80   \n",
       "3                                  422.81   \n",
       "4                                  357.06   \n",
       "\n",
       "   Cumulative oil production (2 yr), MSTB  \\\n",
       "0                                  684.20   \n",
       "1                                  388.35   \n",
       "2                                  791.55   \n",
       "3                                  659.42   \n",
       "4                                  569.71   \n",
       "\n",
       "   Cumulative oil production (3 yr), MSTB  \\\n",
       "0                                  847.33   \n",
       "1                                  518.27   \n",
       "2                                  978.14   \n",
       "3                                  840.47   \n",
       "4                                  732.29   \n",
       "\n",
       "   Cumulative Water production (1 yr), MSTB  \\\n",
       "0                                    494.89   \n",
       "1                                    222.51   \n",
       "2                                    189.40   \n",
       "3                                    380.47   \n",
       "4                                    536.04   \n",
       "\n",
       "   Cumulative Water production (2 yr), MSTB  \\\n",
       "0                                   1236.40   \n",
       "1                                    528.21   \n",
       "2                                    589.27   \n",
       "3                                    987.10   \n",
       "4                                   1243.10   \n",
       "\n",
       "   Cumulative Water production (3 yr), MSTB  \n",
       "0                                    2108.7  \n",
       "1                                     880.8  \n",
       "2                                    1120.3  \n",
       "3                                    1714.1  \n",
       "4                                    2049.9  "
      ]
     },
     "execution_count": 32,
     "metadata": {},
     "output_type": "execute_result"
    }
   ],
   "source": [
    "## Aggregation feature function\n",
    "df_agg = df_preproducer_imputed.drop([\"Rock facies\"], axis = 1)\n",
    "df_agg = df_agg.groupby(\"Well_ID\").agg(\"mean\")\n",
    "df_agg.head()\n",
    "\n",
    "df_agg_merge = df_agg.merge(df_prodHist, how = 'inner', on = 'Well_ID')\n",
    "df_agg_merge.head()"
   ]
  },
  {
   "cell_type": "code",
   "execution_count": 48,
   "id": "driven-trainer",
   "metadata": {},
   "outputs": [],
   "source": [
    "dropData = [\"Well_ID\", \"Cumulative oil production (1 yr), MSTB\", \"Cumulative oil production (2 yr), MSTB\",\n",
    "           \"Cumulative oil production (3 yr), MSTB\", \"Cumulative Water production (1 yr), MSTB\",\n",
    "           \"Cumulative Water production (2 yr), MSTB\", \"Cumulative Water production (3 yr), MSTB\"]\n",
    "\n",
    "df_agg_data = df_agg_merge.drop(dropData, axis = 1)\n",
    "df_agg_target = df_agg_merge[\"Cumulative oil production (3 yr), MSTB\"]\n",
    "\n",
    "from sklearn.model_selection import train_test_split, cross_val_score, GridSearchCV\n",
    "train, test, target, target_test = train_test_split(df_agg_data, df_agg_target, test_size=0.2, random_state=0)"
   ]
  },
  {
   "cell_type": "code",
   "execution_count": 36,
   "id": "gothic-clear",
   "metadata": {},
   "outputs": [
    {
     "data": {
      "text/plain": [
       "array([-128.4298    , -216.91765833, -293.52255   , -124.69565455,\n",
       "       -178.28121818])"
      ]
     },
     "execution_count": 36,
     "metadata": {},
     "output_type": "execute_result"
    }
   ],
   "source": [
    "from sklearn.ensemble import RandomForestRegressor\n",
    "randomF = RandomForestRegressor(max_depth = 300, random_state=0)\n",
    "score = cross_val_score(randomF, train, target, cv = 5, scoring='neg_mean_absolute_error')\n",
    "\n",
    "score"
   ]
  },
  {
   "cell_type": "code",
   "execution_count": 37,
   "id": "congressional-hypothetical",
   "metadata": {},
   "outputs": [
    {
     "data": {
      "text/plain": [
       "RandomForestRegressor(max_depth=2, random_state=0)"
      ]
     },
     "execution_count": 37,
     "metadata": {},
     "output_type": "execute_result"
    }
   ],
   "source": [
    "from sklearn.ensemble import RandomForestRegressor\n",
    "\n",
    "regr = RandomForestRegressor(max_depth=2, random_state=0)\n",
    "regr.fit(train, target)"
   ]
  },
  {
   "cell_type": "code",
   "execution_count": 38,
   "id": "accessory-lawsuit",
   "metadata": {},
   "outputs": [
    {
     "data": {
      "text/plain": [
       "Text(0, 0.5, 'Abs Percent error (%)')"
      ]
     },
     "execution_count": 38,
     "metadata": {},
     "output_type": "execute_result"
    },
    {
     "data": {
      "image/png": "[encoded data removed]",
      "text/plain": [
       "<Figure size 720x720 with 2 Axes>"
      ]
     },
     "metadata": {
      "needs_background": "light"
     },
     "output_type": "display_data"
    }
   ],
   "source": [
    "fig, ax = plt.subplots(nrows = 2, ncols = 1, figsize = (10, 10))\n",
    "ax[0].plot(np.arange(test.shape[0]), regr.predict(test)) \n",
    "ax[0].plot(np.arange(test.shape[0]), target_test) \n",
    "ax[0].set_xlabel('Well')\n",
    "ax[0].set_ylabel('3yr MSTB')\n",
    "\n",
    "ax[1].plot(np.arange(test.shape[0]), np.abs(regr.predict(test) - target_test)/target_test * 100)\n",
    "ax[1].set_ylabel('Abs Percent error (%)')"
   ]
  },
  {
   "cell_type": "code",
   "execution_count": 39,
   "id": "broad-survey",
   "metadata": {},
   "outputs": [
    {
     "data": {
      "text/plain": [
       "188.3308324494577"
      ]
     },
     "execution_count": 39,
     "metadata": {},
     "output_type": "execute_result"
    }
   ],
   "source": [
    "np.mean(np.abs(regr.predict(test) - target_test))"
   ]
  },
  {
   "cell_type": "code",
   "execution_count": 49,
   "id": "effective-cycling",
   "metadata": {},
   "outputs": [
    {
     "data": {
      "text/plain": [
       "DecisionTreeRegressor(max_leaf_nodes=150)"
      ]
     },
     "execution_count": 49,
     "metadata": {},
     "output_type": "execute_result"
    }
   ],
   "source": [
    "from sklearn.tree import DecisionTreeRegressor\n",
    "regs = DecisionTreeRegressor(criterion='mse', splitter='best', max_leaf_nodes = 150)\n",
    "regs.fit(train, target)"
   ]
  },
  {
   "cell_type": "code",
   "execution_count": 57,
   "id": "under-plumbing",
   "metadata": {},
   "outputs": [
    {
     "ename": "ValueError",
     "evalue": "Expected 2D array, got 1D array instead:\narray=[2124.8  1372.2   781.4   307.12 1122.1   780.12  749.4   835.5  1098.1\n  608.09 1500.    668.02  470.12  723.75 1573.2 ].\nReshape your data either using array.reshape(-1, 1) if your data has a single feature or array.reshape(1, -1) if it contains a single sample.",
     "output_type": "error",
     "traceback": [
      "\u001b[1;31m---------------------------------------------------------------------------\u001b[0m",
      "\u001b[1;31mValueError\u001b[0m                                Traceback (most recent call last)",
      "\u001b[1;32m<ipython-input-57-41def1307c4c>\u001b[0m in \u001b[0;36m<module>\u001b[1;34m\u001b[0m\n\u001b[0;32m      1\u001b[0m \u001b[0myPred\u001b[0m \u001b[1;33m=\u001b[0m \u001b[0mregs\u001b[0m\u001b[1;33m.\u001b[0m\u001b[0mpredict\u001b[0m\u001b[1;33m(\u001b[0m\u001b[0mtest\u001b[0m\u001b[1;33m)\u001b[0m\u001b[1;33m\u001b[0m\u001b[1;33m\u001b[0m\u001b[0m\n\u001b[1;32m----> 2\u001b[1;33m \u001b[0mregs\u001b[0m\u001b[1;33m.\u001b[0m\u001b[0mscore\u001b[0m\u001b[1;33m(\u001b[0m\u001b[0mtarget_test\u001b[0m\u001b[1;33m,\u001b[0m \u001b[0myPred\u001b[0m\u001b[1;33m)\u001b[0m\u001b[1;33m\u001b[0m\u001b[1;33m\u001b[0m\u001b[0m\n\u001b[0m\u001b[0;32m      3\u001b[0m \u001b[1;33m\u001b[0m\u001b[0m\n\u001b[0;32m      4\u001b[0m \u001b[0mfig\u001b[0m\u001b[1;33m,\u001b[0m \u001b[0max\u001b[0m \u001b[1;33m=\u001b[0m \u001b[0mplt\u001b[0m\u001b[1;33m.\u001b[0m\u001b[0msubplots\u001b[0m\u001b[1;33m(\u001b[0m\u001b[0mnrows\u001b[0m \u001b[1;33m=\u001b[0m \u001b[1;36m1\u001b[0m\u001b[1;33m,\u001b[0m \u001b[0mncols\u001b[0m \u001b[1;33m=\u001b[0m \u001b[1;36m1\u001b[0m\u001b[1;33m,\u001b[0m \u001b[0mfigsize\u001b[0m \u001b[1;33m=\u001b[0m \u001b[1;33m(\u001b[0m\u001b[1;36m10\u001b[0m\u001b[1;33m,\u001b[0m \u001b[1;36m10\u001b[0m\u001b[1;33m)\u001b[0m\u001b[1;33m)\u001b[0m\u001b[1;33m\u001b[0m\u001b[1;33m\u001b[0m\u001b[0m\n\u001b[0;32m      5\u001b[0m \u001b[0max\u001b[0m\u001b[1;33m[\u001b[0m\u001b[1;36m0\u001b[0m\u001b[1;33m]\u001b[0m\u001b[1;33m.\u001b[0m\u001b[0mplot\u001b[0m\u001b[1;33m(\u001b[0m\u001b[0mnp\u001b[0m\u001b[1;33m.\u001b[0m\u001b[0marange\u001b[0m\u001b[1;33m(\u001b[0m\u001b[0mtest\u001b[0m\u001b[1;33m.\u001b[0m\u001b[0mshape\u001b[0m\u001b[1;33m[\u001b[0m\u001b[1;36m0\u001b[0m\u001b[1;33m]\u001b[0m\u001b[1;33m)\u001b[0m\u001b[1;33m,\u001b[0m \u001b[0myPred\u001b[0m\u001b[1;33m)\u001b[0m\u001b[1;33m\u001b[0m\u001b[1;33m\u001b[0m\u001b[0m\n",
      "\u001b[1;32m~\\miniconda3\\envs\\datathon\\lib\\site-packages\\sklearn\\base.py\u001b[0m in \u001b[0;36mscore\u001b[1;34m(self, X, y, sample_weight)\u001b[0m\n\u001b[0;32m    549\u001b[0m \u001b[1;33m\u001b[0m\u001b[0m\n\u001b[0;32m    550\u001b[0m         \u001b[1;32mfrom\u001b[0m \u001b[1;33m.\u001b[0m\u001b[0mmetrics\u001b[0m \u001b[1;32mimport\u001b[0m \u001b[0mr2_score\u001b[0m\u001b[1;33m\u001b[0m\u001b[1;33m\u001b[0m\u001b[0m\n\u001b[1;32m--> 551\u001b[1;33m         \u001b[0my_pred\u001b[0m \u001b[1;33m=\u001b[0m \u001b[0mself\u001b[0m\u001b[1;33m.\u001b[0m\u001b[0mpredict\u001b[0m\u001b[1;33m(\u001b[0m\u001b[0mX\u001b[0m\u001b[1;33m)\u001b[0m\u001b[1;33m\u001b[0m\u001b[1;33m\u001b[0m\u001b[0m\n\u001b[0m\u001b[0;32m    552\u001b[0m         \u001b[1;32mreturn\u001b[0m \u001b[0mr2_score\u001b[0m\u001b[1;33m(\u001b[0m\u001b[0my\u001b[0m\u001b[1;33m,\u001b[0m \u001b[0my_pred\u001b[0m\u001b[1;33m,\u001b[0m \u001b[0msample_weight\u001b[0m\u001b[1;33m=\u001b[0m\u001b[0msample_weight\u001b[0m\u001b[1;33m)\u001b[0m\u001b[1;33m\u001b[0m\u001b[1;33m\u001b[0m\u001b[0m\n\u001b[0;32m    553\u001b[0m \u001b[1;33m\u001b[0m\u001b[0m\n",
      "\u001b[1;32m~\\miniconda3\\envs\\datathon\\lib\\site-packages\\sklearn\\tree\\_classes.py\u001b[0m in \u001b[0;36mpredict\u001b[1;34m(self, X, check_input)\u001b[0m\n\u001b[0;32m    425\u001b[0m         \"\"\"\n\u001b[0;32m    426\u001b[0m         \u001b[0mcheck_is_fitted\u001b[0m\u001b[1;33m(\u001b[0m\u001b[0mself\u001b[0m\u001b[1;33m)\u001b[0m\u001b[1;33m\u001b[0m\u001b[1;33m\u001b[0m\u001b[0m\n\u001b[1;32m--> 427\u001b[1;33m         \u001b[0mX\u001b[0m \u001b[1;33m=\u001b[0m \u001b[0mself\u001b[0m\u001b[1;33m.\u001b[0m\u001b[0m_validate_X_predict\u001b[0m\u001b[1;33m(\u001b[0m\u001b[0mX\u001b[0m\u001b[1;33m,\u001b[0m \u001b[0mcheck_input\u001b[0m\u001b[1;33m)\u001b[0m\u001b[1;33m\u001b[0m\u001b[1;33m\u001b[0m\u001b[0m\n\u001b[0m\u001b[0;32m    428\u001b[0m         \u001b[0mproba\u001b[0m \u001b[1;33m=\u001b[0m \u001b[0mself\u001b[0m\u001b[1;33m.\u001b[0m\u001b[0mtree_\u001b[0m\u001b[1;33m.\u001b[0m\u001b[0mpredict\u001b[0m\u001b[1;33m(\u001b[0m\u001b[0mX\u001b[0m\u001b[1;33m)\u001b[0m\u001b[1;33m\u001b[0m\u001b[1;33m\u001b[0m\u001b[0m\n\u001b[0;32m    429\u001b[0m         \u001b[0mn_samples\u001b[0m \u001b[1;33m=\u001b[0m \u001b[0mX\u001b[0m\u001b[1;33m.\u001b[0m\u001b[0mshape\u001b[0m\u001b[1;33m[\u001b[0m\u001b[1;36m0\u001b[0m\u001b[1;33m]\u001b[0m\u001b[1;33m\u001b[0m\u001b[1;33m\u001b[0m\u001b[0m\n",
      "\u001b[1;32m~\\miniconda3\\envs\\datathon\\lib\\site-packages\\sklearn\\tree\\_classes.py\u001b[0m in \u001b[0;36m_validate_X_predict\u001b[1;34m(self, X, check_input)\u001b[0m\n\u001b[0;32m    386\u001b[0m         \u001b[1;34m\"\"\"Validate X whenever one tries to predict, apply, predict_proba\"\"\"\u001b[0m\u001b[1;33m\u001b[0m\u001b[1;33m\u001b[0m\u001b[0m\n\u001b[0;32m    387\u001b[0m         \u001b[1;32mif\u001b[0m \u001b[0mcheck_input\u001b[0m\u001b[1;33m:\u001b[0m\u001b[1;33m\u001b[0m\u001b[1;33m\u001b[0m\u001b[0m\n\u001b[1;32m--> 388\u001b[1;33m             \u001b[0mX\u001b[0m \u001b[1;33m=\u001b[0m \u001b[0mcheck_array\u001b[0m\u001b[1;33m(\u001b[0m\u001b[0mX\u001b[0m\u001b[1;33m,\u001b[0m \u001b[0mdtype\u001b[0m\u001b[1;33m=\u001b[0m\u001b[0mDTYPE\u001b[0m\u001b[1;33m,\u001b[0m \u001b[0maccept_sparse\u001b[0m\u001b[1;33m=\u001b[0m\u001b[1;34m\"csr\"\u001b[0m\u001b[1;33m)\u001b[0m\u001b[1;33m\u001b[0m\u001b[1;33m\u001b[0m\u001b[0m\n\u001b[0m\u001b[0;32m    389\u001b[0m             if issparse(X) and (X.indices.dtype != np.intc or\n\u001b[0;32m    390\u001b[0m                                 X.indptr.dtype != np.intc):\n",
      "\u001b[1;32m~\\miniconda3\\envs\\datathon\\lib\\site-packages\\sklearn\\utils\\validation.py\u001b[0m in \u001b[0;36minner_f\u001b[1;34m(*args, **kwargs)\u001b[0m\n\u001b[0;32m     70\u001b[0m                           FutureWarning)\n\u001b[0;32m     71\u001b[0m         \u001b[0mkwargs\u001b[0m\u001b[1;33m.\u001b[0m\u001b[0mupdate\u001b[0m\u001b[1;33m(\u001b[0m\u001b[1;33m{\u001b[0m\u001b[0mk\u001b[0m\u001b[1;33m:\u001b[0m \u001b[0marg\u001b[0m \u001b[1;32mfor\u001b[0m \u001b[0mk\u001b[0m\u001b[1;33m,\u001b[0m \u001b[0marg\u001b[0m \u001b[1;32min\u001b[0m \u001b[0mzip\u001b[0m\u001b[1;33m(\u001b[0m\u001b[0msig\u001b[0m\u001b[1;33m.\u001b[0m\u001b[0mparameters\u001b[0m\u001b[1;33m,\u001b[0m \u001b[0margs\u001b[0m\u001b[1;33m)\u001b[0m\u001b[1;33m}\u001b[0m\u001b[1;33m)\u001b[0m\u001b[1;33m\u001b[0m\u001b[1;33m\u001b[0m\u001b[0m\n\u001b[1;32m---> 72\u001b[1;33m         \u001b[1;32mreturn\u001b[0m \u001b[0mf\u001b[0m\u001b[1;33m(\u001b[0m\u001b[1;33m**\u001b[0m\u001b[0mkwargs\u001b[0m\u001b[1;33m)\u001b[0m\u001b[1;33m\u001b[0m\u001b[1;33m\u001b[0m\u001b[0m\n\u001b[0m\u001b[0;32m     73\u001b[0m     \u001b[1;32mreturn\u001b[0m \u001b[0minner_f\u001b[0m\u001b[1;33m\u001b[0m\u001b[1;33m\u001b[0m\u001b[0m\n\u001b[0;32m     74\u001b[0m \u001b[1;33m\u001b[0m\u001b[0m\n",
      "\u001b[1;32m~\\miniconda3\\envs\\datathon\\lib\\site-packages\\sklearn\\utils\\validation.py\u001b[0m in \u001b[0;36mcheck_array\u001b[1;34m(array, accept_sparse, accept_large_sparse, dtype, order, copy, force_all_finite, ensure_2d, allow_nd, ensure_min_samples, ensure_min_features, estimator)\u001b[0m\n\u001b[0;32m    617\u001b[0m             \u001b[1;31m# If input is 1D raise error\u001b[0m\u001b[1;33m\u001b[0m\u001b[1;33m\u001b[0m\u001b[1;33m\u001b[0m\u001b[0m\n\u001b[0;32m    618\u001b[0m             \u001b[1;32mif\u001b[0m \u001b[0marray\u001b[0m\u001b[1;33m.\u001b[0m\u001b[0mndim\u001b[0m \u001b[1;33m==\u001b[0m \u001b[1;36m1\u001b[0m\u001b[1;33m:\u001b[0m\u001b[1;33m\u001b[0m\u001b[1;33m\u001b[0m\u001b[0m\n\u001b[1;32m--> 619\u001b[1;33m                 raise ValueError(\n\u001b[0m\u001b[0;32m    620\u001b[0m                     \u001b[1;34m\"Expected 2D array, got 1D array instead:\\narray={}.\\n\"\u001b[0m\u001b[1;33m\u001b[0m\u001b[1;33m\u001b[0m\u001b[0m\n\u001b[0;32m    621\u001b[0m                     \u001b[1;34m\"Reshape your data either using array.reshape(-1, 1) if \"\u001b[0m\u001b[1;33m\u001b[0m\u001b[1;33m\u001b[0m\u001b[0m\n",
      "\u001b[1;31mValueError\u001b[0m: Expected 2D array, got 1D array instead:\narray=[2124.8  1372.2   781.4   307.12 1122.1   780.12  749.4   835.5  1098.1\n  608.09 1500.    668.02  470.12  723.75 1573.2 ].\nReshape your data either using array.reshape(-1, 1) if your data has a single feature or array.reshape(1, -1) if it contains a single sample."
     ]
    }
   ],
   "source": [
    "yPred = regs.predict(test)\n",
    "regs.score(target_test, yPred)\n",
    "\n",
    "fig, ax = plt.subplots(nrows = 1, ncols = 1, figsize = (10, 10))\n",
    "ax[0].plot(np.arange(test.shape[0]), yPred) \n",
    "ax[0].plot(np.arange(test.shape[0]), target_test) \n",
    "ax[0].set_xlabel('Well')\n",
    "ax[0].set_ylabel('3yr MSTB')\n"
   ]
  },
  {
   "cell_type": "code",
   "execution_count": 56,
   "id": "critical-maldives",
   "metadata": {},
   "outputs": [
    {
     "data": {
      "text/plain": [
       "748191.7507999999"
      ]
     },
     "execution_count": 56,
     "metadata": {},
     "output_type": "execute_result"
    }
   ],
   "source": []
  },
  {
   "cell_type": "code",
   "execution_count": 55,
   "id": "understood-compound",
   "metadata": {},
   "outputs": [
    {
     "data": {
      "text/plain": [
       "(15,)"
      ]
     },
     "execution_count": 55,
     "metadata": {},
     "output_type": "execute_result"
    }
   ],
   "source": [
    "target_test.shape"
   ]
  },
  {
   "cell_type": "code",
   "execution_count": 45,
   "id": "statutory-qualification",
   "metadata": {},
   "outputs": [
    {
     "data": {
      "text/plain": [
       "Text(0, 0.5, 'Abs Percent error (%)')"
      ]
     },
     "execution_count": 45,
     "metadata": {},
     "output_type": "execute_result"
    },
    {
     "data": {
      "image/png": "[encoded data removed]",
      "text/plain": [
       "<Figure size 720x720 with 2 Axes>"
      ]
     },
     "metadata": {
      "needs_background": "light"
     },
     "output_type": "display_data"
    }
   ],
   "source": [
    "fig, ax = plt.subplots(nrows = 2, ncols = 1, figsize = (10, 10))\n",
    "ax[0].plot(np.arange(test.shape[0]), regs.predict(test)) \n",
    "ax[0].plot(np.arange(test.shape[0]), target_test) \n",
    "ax[0].set_xlabel('Well')\n",
    "ax[0].set_ylabel('3yr MSTB')\n",
    "\n",
    "ax[1].plot(np.arange(test.shape[0]), np.abs(regs.predict(test) - target_test)/target_test * 100)\n",
    "ax[1].set_ylabel('Abs Percent error (%)')"
   ]
  },
  {
   "cell_type": "markdown",
   "id": "indie-minority",
   "metadata": {},
   "source": [
    "## Kriging map"
   ]
  },
  {
   "cell_type": "code",
   "execution_count": 62,
   "id": "unable-gender",
   "metadata": {},
   "outputs": [
    {
     "data": {
      "text/html": [
       "<div>\n",
       "<style scoped>\n",
       "    .dataframe tbody tr th:only-of-type {\n",
       "        vertical-align: middle;\n",
       "    }\n",
       "\n",
       "    .dataframe tbody tr th {\n",
       "        vertical-align: top;\n",
       "    }\n",
       "\n",
       "    .dataframe thead th {\n",
       "        text-align: right;\n",
       "    }\n",
       "</style>\n",
       "<table border=\"1\" class=\"dataframe\">\n",
       "  <thead>\n",
       "    <tr style=\"text-align: right;\">\n",
       "      <th></th>\n",
       "      <th>X, m</th>\n",
       "      <th>Y, m</th>\n",
       "      <th>Depth, m</th>\n",
       "      <th>Porosity, fraction</th>\n",
       "      <th>Permeability, mD</th>\n",
       "      <th>Acoustic Impedance, kg*s/m^2</th>\n",
       "      <th>Density, g/cm3</th>\n",
       "      <th>Compressible velocity, m/s</th>\n",
       "      <th>Youngs modulus, GPa</th>\n",
       "      <th>Shear velocity, m/s</th>\n",
       "      <th>Shear modulus, GPa</th>\n",
       "      <th>Vclay</th>\n",
       "    </tr>\n",
       "  </thead>\n",
       "  <tbody>\n",
       "    <tr>\n",
       "      <th>0</th>\n",
       "      <td>7325</td>\n",
       "      <td>7175</td>\n",
       "      <td>3057.55</td>\n",
       "      <td>0.133426</td>\n",
       "      <td>115.099143</td>\n",
       "      <td>7.221834e+06</td>\n",
       "      <td>2.141876</td>\n",
       "      <td>3392.897466</td>\n",
       "      <td>25.333611</td>\n",
       "      <td>1656.844649</td>\n",
       "      <td>6.192136</td>\n",
       "      <td>0.133335</td>\n",
       "    </tr>\n",
       "    <tr>\n",
       "      <th>1</th>\n",
       "      <td>3725</td>\n",
       "      <td>1575</td>\n",
       "      <td>3057.82</td>\n",
       "      <td>0.112654</td>\n",
       "      <td>74.651251</td>\n",
       "      <td>7.474489e+06</td>\n",
       "      <td>1.827084</td>\n",
       "      <td>4038.679249</td>\n",
       "      <td>30.218813</td>\n",
       "      <td>1682.659828</td>\n",
       "      <td>5.592101</td>\n",
       "      <td>0.399980</td>\n",
       "    </tr>\n",
       "  </tbody>\n",
       "</table>\n",
       "</div>"
      ],
      "text/plain": [
       "   X, m  Y, m  Depth, m  Porosity, fraction  Permeability, mD  \\\n",
       "0  7325  7175   3057.55            0.133426        115.099143   \n",
       "1  3725  1575   3057.82            0.112654         74.651251   \n",
       "\n",
       "   Acoustic Impedance, kg*s/m^2  Density, g/cm3  Compressible velocity, m/s  \\\n",
       "0                  7.221834e+06        2.141876                 3392.897466   \n",
       "1                  7.474489e+06        1.827084                 4038.679249   \n",
       "\n",
       "   Youngs modulus, GPa  Shear velocity, m/s  Shear modulus, GPa     Vclay  \n",
       "0            25.333611          1656.844649            6.192136  0.133335  \n",
       "1            30.218813          1682.659828            5.592101  0.399980  "
      ]
     },
     "execution_count": 62,
     "metadata": {},
     "output_type": "execute_result"
    }
   ],
   "source": [
    "df_agg_data.head(2)"
   ]
  },
  {
   "cell_type": "code",
   "execution_count": 63,
   "id": "thousand-insert",
   "metadata": {},
   "outputs": [
    {
     "data": {
      "text/plain": [
       "0    847.33\n",
       "1    518.27\n",
       "Name: Cumulative oil production (3 yr), MSTB, dtype: float64"
      ]
     },
     "execution_count": 63,
     "metadata": {},
     "output_type": "execute_result"
    }
   ],
   "source": [
    "df_agg_target.head(2)"
   ]
  },
  {
   "cell_type": "code",
   "execution_count": null,
   "id": "lasting-corruption",
   "metadata": {},
   "outputs": [],
   "source": [
    "from itertools import product\n",
    "import numpy as np\n",
    "from matplotlib import pyplot as plt\n",
    "from mpl_toolkits.mplot3d import Axes3D\n",
    "\n",
    "\n",
    "\n",
    "# Input space\n",
    "X = np.array(list(zip(df_agg_data['X, m'], df_agg_data['Y, m'])))\n",
    "X = X/10000\n",
    "x1 = np.linspace(X[:,0].min(), X[:,0].max()) #p\n",
    "x2 = np.linspace(X[:,1].min(), X[:,1].max()) #q\n",
    "x = (np.array([x1, x2])).T\n",
    "\n",
    "kernel = C(1.0, (1e-3, 1e3)) * RBF([2,2], (1e-2, 1e2))\n",
    "gp = GaussianProcessRegressor(kernel=kernel, n_restarts_optimizer=15)\n",
    "\n",
    "gp.fit(X, y)\n",
    "\n",
    "x1x2 = np.array(list(product(x1, x2)))\n",
    "y_pred, MSE = gp.predict(x1x2, return_std=True)\n",
    "\n",
    "X0p, X1p = x1x2[:,0].reshape(50,50), x1x2[:,1].reshape(50,50)\n",
    "Zp = np.reshape(y_pred,(50,50))\n",
    "\n",
    "# alternative way to generate equivalent X0p, X1p, Zp\n",
    "# X0p, X1p = np.meshgrid(x1, x2)\n",
    "# Zp = [gp.predict([(X0p[i, j], X1p[i, j]) for i in range(X0p.shape[0])]) for j in range(X0p.shape[1])]\n",
    "# Zp = np.array(Zp).T\n",
    "\n",
    "fig = plt.figure(figsize=(10,8))\n",
    "ax = fig.add_subplot(111)\n",
    "ax.pcolormesh(X0p, X1p, Zp)\n",
    "plt.gca().invert_yaxis()\n",
    "\n",
    "plt.show()"
   ]
  },
  {
   "cell_type": "code",
   "execution_count": 95,
   "id": "mediterranean-omaha",
   "metadata": {},
   "outputs": [
    {
     "data": {
      "text/plain": [
       "GaussianProcessRegressor(n_restarts_optimizer=15)"
      ]
     },
     "execution_count": 95,
     "metadata": {},
     "output_type": "execute_result"
    }
   ],
   "source": [
    "from sklearn.gaussian_process import GaussianProcessRegressor\n",
    "from sklearn.gaussian_process.kernels import RBF, ConstantKernel as C\n",
    "\n",
    "df_agg_data2 = df_agg_data.copy()\n",
    "df_agg_data2['Permeability, mD'].apply(np.log)\n",
    "\n",
    "df_scaled = (df_agg_data2 - df_agg_data2.min())/ (df_agg_data2.max() - df_agg_data2.min())\n",
    "df_scaled.head()\n",
    "\n",
    "X_train, X_test, y_train, y_test = train_test_split(df_scaled, df_agg_target, test_size=0.20, random_state=0)\n",
    "gp = GaussianProcessRegressor(n_restarts_optimizer=15)\n",
    "\n",
    "gp.fit(X_train, y_train)"
   ]
  },
  {
   "cell_type": "code",
   "execution_count": 96,
   "id": "specific-subscriber",
   "metadata": {},
   "outputs": [
    {
     "data": {
      "text/plain": [
       "array([2119.64337345, 1636.76352441,  863.35189385,  315.83430104,\n",
       "        820.78118267,  950.05254851,  779.7889025 ,  817.60629944,\n",
       "        669.03195372,  505.21153826, 1283.91063213,  844.55215959,\n",
       "        578.99002951,  929.42331073, 1494.06165538])"
      ]
     },
     "execution_count": 96,
     "metadata": {},
     "output_type": "execute_result"
    }
   ],
   "source": [
    "y_pred, MSE = gp.predict(X_test, return_std=True)\n",
    "y_pred"
   ]
  },
  {
   "cell_type": "code",
   "execution_count": 97,
   "id": "worldwide-railway",
   "metadata": {},
   "outputs": [
    {
     "data": {
      "text/plain": [
       "16.074074423209858"
      ]
     },
     "execution_count": 97,
     "metadata": {},
     "output_type": "execute_result"
    }
   ],
   "source": [
    "np.mean(np.abs(y_pred - y_test)/y_test * 100)"
   ]
  },
  {
   "cell_type": "code",
   "execution_count": null,
   "id": "laden-proxy",
   "metadata": {},
   "outputs": [],
   "source": []
  }
 ],
 "metadata": {
  "kernelspec": {
   "display_name": "Python 3",
   "language": "python",
   "name": "python3"
  },
  "language_info": {
   "codemirror_mode": {
    "name": "ipython",
    "version": 3
   },
   "file_extension": ".py",
   "mimetype": "text/x-python",
   "name": "python",
   "nbconvert_exporter": "python",
   "pygments_lexer": "ipython3",
   "version": "3.8.5"
  }
 },
 "nbformat": 4,
 "nbformat_minor": 5
}
