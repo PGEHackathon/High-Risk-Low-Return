{
 "cells": [
  {
   "cell_type": "code",
   "execution_count": 1,
   "id": "promotional-framing",
   "metadata": {},
   "outputs": [],
   "source": [
    "import matplotlib.pyplot as plt\n",
    "import pandas as pd\n",
    "\n",
    "import numpy as np\n",
    "import seaborn as sns"
   ]
  },
  {
   "cell_type": "code",
   "execution_count": 30,
   "id": "choice-robert",
   "metadata": {},
   "outputs": [],
   "source": [
    "df_preproducer_imputed = pd.read_csv(\"producer_imputedData.csv\", index_col=[0])\n",
    "df_preproducer_imputed.head()\n",
    "df_prodHist = pd.read_csv(\"production_history.csv\")\n"
   ]
  },
  {
   "cell_type": "code",
   "execution_count": 32,
   "id": "dried-bosnia",
   "metadata": {},
   "outputs": [
    {
     "data": {
      "text/html": [
       "<div>\n",
       "<style scoped>\n",
       "    .dataframe tbody tr th:only-of-type {\n",
       "        vertical-align: middle;\n",
       "    }\n",
       "\n",
       "    .dataframe tbody tr th {\n",
       "        vertical-align: top;\n",
       "    }\n",
       "\n",
       "    .dataframe thead th {\n",
       "        text-align: right;\n",
       "    }\n",
       "</style>\n",
       "<table border=\"1\" class=\"dataframe\">\n",
       "  <thead>\n",
       "    <tr style=\"text-align: right;\">\n",
       "      <th></th>\n",
       "      <th>Well_ID</th>\n",
       "      <th>X, m</th>\n",
       "      <th>Y, m</th>\n",
       "      <th>Depth, m</th>\n",
       "      <th>Porosity, fraction</th>\n",
       "      <th>Permeability, mD</th>\n",
       "      <th>Acoustic Impedance, kg*s/m^2</th>\n",
       "      <th>Density, g/cm3</th>\n",
       "      <th>Compressible velocity, m/s</th>\n",
       "      <th>Youngs modulus, GPa</th>\n",
       "      <th>Shear velocity, m/s</th>\n",
       "      <th>Shear modulus, GPa</th>\n",
       "      <th>Vclay</th>\n",
       "      <th>Cumulative oil production (1 yr), MSTB</th>\n",
       "      <th>Cumulative oil production (2 yr), MSTB</th>\n",
       "      <th>Cumulative oil production (3 yr), MSTB</th>\n",
       "      <th>Cumulative Water production (1 yr), MSTB</th>\n",
       "      <th>Cumulative Water production (2 yr), MSTB</th>\n",
       "      <th>Cumulative Water production (3 yr), MSTB</th>\n",
       "    </tr>\n",
       "  </thead>\n",
       "  <tbody>\n",
       "    <tr>\n",
       "      <th>0</th>\n",
       "      <td>Well_no_1</td>\n",
       "      <td>7325</td>\n",
       "      <td>7175</td>\n",
       "      <td>3057.550000</td>\n",
       "      <td>0.133426</td>\n",
       "      <td>115.099143</td>\n",
       "      <td>7.221834e+06</td>\n",
       "      <td>2.141876</td>\n",
       "      <td>3392.897466</td>\n",
       "      <td>25.333611</td>\n",
       "      <td>1656.844649</td>\n",
       "      <td>6.192136</td>\n",
       "      <td>0.133335</td>\n",
       "      <td>450.98</td>\n",
       "      <td>684.20</td>\n",
       "      <td>847.33</td>\n",
       "      <td>494.89</td>\n",
       "      <td>1236.40</td>\n",
       "      <td>2108.7</td>\n",
       "    </tr>\n",
       "    <tr>\n",
       "      <th>1</th>\n",
       "      <td>Well_no_10</td>\n",
       "      <td>3725</td>\n",
       "      <td>1575</td>\n",
       "      <td>3057.820000</td>\n",
       "      <td>0.112654</td>\n",
       "      <td>74.651251</td>\n",
       "      <td>7.474489e+06</td>\n",
       "      <td>1.827084</td>\n",
       "      <td>4038.679249</td>\n",
       "      <td>30.218813</td>\n",
       "      <td>1682.659828</td>\n",
       "      <td>5.592101</td>\n",
       "      <td>0.399980</td>\n",
       "      <td>229.35</td>\n",
       "      <td>388.35</td>\n",
       "      <td>518.27</td>\n",
       "      <td>222.51</td>\n",
       "      <td>528.21</td>\n",
       "      <td>880.8</td>\n",
       "    </tr>\n",
       "    <tr>\n",
       "      <th>2</th>\n",
       "      <td>Well_no_11</td>\n",
       "      <td>4275</td>\n",
       "      <td>5675</td>\n",
       "      <td>3050.470000</td>\n",
       "      <td>0.128556</td>\n",
       "      <td>92.894287</td>\n",
       "      <td>7.286664e+06</td>\n",
       "      <td>2.086964</td>\n",
       "      <td>3527.987993</td>\n",
       "      <td>26.446185</td>\n",
       "      <td>1681.960101</td>\n",
       "      <td>6.187106</td>\n",
       "      <td>0.233325</td>\n",
       "      <td>512.80</td>\n",
       "      <td>791.55</td>\n",
       "      <td>978.14</td>\n",
       "      <td>189.40</td>\n",
       "      <td>589.27</td>\n",
       "      <td>1120.3</td>\n",
       "    </tr>\n",
       "    <tr>\n",
       "      <th>3</th>\n",
       "      <td>Well_no_12</td>\n",
       "      <td>1625</td>\n",
       "      <td>3775</td>\n",
       "      <td>3057.797368</td>\n",
       "      <td>0.126319</td>\n",
       "      <td>108.875384</td>\n",
       "      <td>7.324012e+06</td>\n",
       "      <td>1.918122</td>\n",
       "      <td>3841.739107</td>\n",
       "      <td>29.032313</td>\n",
       "      <td>1627.507010</td>\n",
       "      <td>5.216026</td>\n",
       "      <td>0.280689</td>\n",
       "      <td>422.81</td>\n",
       "      <td>659.42</td>\n",
       "      <td>840.47</td>\n",
       "      <td>380.47</td>\n",
       "      <td>987.10</td>\n",
       "      <td>1714.1</td>\n",
       "    </tr>\n",
       "    <tr>\n",
       "      <th>4</th>\n",
       "      <td>Well_no_13</td>\n",
       "      <td>5175</td>\n",
       "      <td>8875</td>\n",
       "      <td>3058.566316</td>\n",
       "      <td>0.137389</td>\n",
       "      <td>105.816837</td>\n",
       "      <td>7.299270e+06</td>\n",
       "      <td>2.077762</td>\n",
       "      <td>3742.859030</td>\n",
       "      <td>26.852747</td>\n",
       "      <td>1667.159259</td>\n",
       "      <td>5.869177</td>\n",
       "      <td>0.175437</td>\n",
       "      <td>357.06</td>\n",
       "      <td>569.71</td>\n",
       "      <td>732.29</td>\n",
       "      <td>536.04</td>\n",
       "      <td>1243.10</td>\n",
       "      <td>2049.9</td>\n",
       "    </tr>\n",
       "  </tbody>\n",
       "</table>\n",
       "</div>"
      ],
      "text/plain": [
       "      Well_ID  X, m  Y, m     Depth, m  Porosity, fraction  Permeability, mD  \\\n",
       "0   Well_no_1  7325  7175  3057.550000            0.133426        115.099143   \n",
       "1  Well_no_10  3725  1575  3057.820000            0.112654         74.651251   \n",
       "2  Well_no_11  4275  5675  3050.470000            0.128556         92.894287   \n",
       "3  Well_no_12  1625  3775  3057.797368            0.126319        108.875384   \n",
       "4  Well_no_13  5175  8875  3058.566316            0.137389        105.816837   \n",
       "\n",
       "   Acoustic Impedance, kg*s/m^2  Density, g/cm3  Compressible velocity, m/s  \\\n",
       "0                  7.221834e+06        2.141876                 3392.897466   \n",
       "1                  7.474489e+06        1.827084                 4038.679249   \n",
       "2                  7.286664e+06        2.086964                 3527.987993   \n",
       "3                  7.324012e+06        1.918122                 3841.739107   \n",
       "4                  7.299270e+06        2.077762                 3742.859030   \n",
       "\n",
       "   Youngs modulus, GPa  Shear velocity, m/s  Shear modulus, GPa     Vclay  \\\n",
       "0            25.333611          1656.844649            6.192136  0.133335   \n",
       "1            30.218813          1682.659828            5.592101  0.399980   \n",
       "2            26.446185          1681.960101            6.187106  0.233325   \n",
       "3            29.032313          1627.507010            5.216026  0.280689   \n",
       "4            26.852747          1667.159259            5.869177  0.175437   \n",
       "\n",
       "   Cumulative oil production (1 yr), MSTB  \\\n",
       "0                                  450.98   \n",
       "1                                  229.35   \n",
       "2                                  512.80   \n",
       "3                                  422.81   \n",
       "4                                  357.06   \n",
       "\n",
       "   Cumulative oil production (2 yr), MSTB  \\\n",
       "0                                  684.20   \n",
       "1                                  388.35   \n",
       "2                                  791.55   \n",
       "3                                  659.42   \n",
       "4                                  569.71   \n",
       "\n",
       "   Cumulative oil production (3 yr), MSTB  \\\n",
       "0                                  847.33   \n",
       "1                                  518.27   \n",
       "2                                  978.14   \n",
       "3                                  840.47   \n",
       "4                                  732.29   \n",
       "\n",
       "   Cumulative Water production (1 yr), MSTB  \\\n",
       "0                                    494.89   \n",
       "1                                    222.51   \n",
       "2                                    189.40   \n",
       "3                                    380.47   \n",
       "4                                    536.04   \n",
       "\n",
       "   Cumulative Water production (2 yr), MSTB  \\\n",
       "0                                   1236.40   \n",
       "1                                    528.21   \n",
       "2                                    589.27   \n",
       "3                                    987.10   \n",
       "4                                   1243.10   \n",
       "\n",
       "   Cumulative Water production (3 yr), MSTB  \n",
       "0                                    2108.7  \n",
       "1                                     880.8  \n",
       "2                                    1120.3  \n",
       "3                                    1714.1  \n",
       "4                                    2049.9  "
      ]
     },
     "execution_count": 32,
     "metadata": {},
     "output_type": "execute_result"
    }
   ],
   "source": [
    "## Aggregation feature function\n",
    "df_agg = df_preproducer_imputed.drop([\"Rock facies\"], axis = 1)\n",
    "df_agg = df_agg.groupby(\"Well_ID\").agg(\"mean\")\n",
    "df_agg.head()\n",
    "\n",
    "df_agg_merge = df_agg.merge(df_prodHist, how = 'inner', on = 'Well_ID')\n",
    "df_agg_merge.head()"
   ]
  },
  {
   "cell_type": "code",
   "execution_count": 48,
   "id": "related-building",
   "metadata": {},
   "outputs": [],
   "source": [
    "dropData = [\"Well_ID\", \"Cumulative oil production (1 yr), MSTB\", \"Cumulative oil production (2 yr), MSTB\",\n",
    "           \"Cumulative oil production (3 yr), MSTB\", \"Cumulative Water production (1 yr), MSTB\",\n",
    "           \"Cumulative Water production (2 yr), MSTB\", \"Cumulative Water production (3 yr), MSTB\"]\n",
    "\n",
    "df_agg_data = df_agg_merge.drop(dropData, axis = 1)\n",
    "df_agg_target = df_agg_merge[\"Cumulative oil production (3 yr), MSTB\"]\n",
    "\n",
    "from sklearn.model_selection import train_test_split, cross_val_score, GridSearchCV\n",
    "train, test, target, target_test = train_test_split(df_agg_data, df_agg_target, test_size=0.2, random_state=0)"
   ]
  },
  {
   "cell_type": "code",
   "execution_count": 36,
   "id": "thousand-domain",
   "metadata": {},
   "outputs": [
    {
     "data": {
      "text/plain": [
       "array([-128.4298    , -216.91765833, -293.52255   , -124.69565455,\n",
       "       -178.28121818])"
      ]
     },
     "execution_count": 36,
     "metadata": {},
     "output_type": "execute_result"
    }
   ],
   "source": [
    "from sklearn.ensemble import RandomForestRegressor\n",
    "randomF = RandomForestRegressor(max_depth = 300, random_state=0)\n",
    "score = cross_val_score(randomF, train, target, cv = 5, scoring='neg_mean_absolute_error')\n",
    "\n",
    "score"
   ]
  },
  {
   "cell_type": "code",
   "execution_count": 37,
   "id": "italic-absolute",
   "metadata": {},
   "outputs": [
    {
     "data": {
      "text/plain": [
       "RandomForestRegressor(max_depth=2, random_state=0)"
      ]
     },
     "execution_count": 37,
     "metadata": {},
     "output_type": "execute_result"
    }
   ],
   "source": [
    "from sklearn.ensemble import RandomForestRegressor\n",
    "\n",
    "regr = RandomForestRegressor(max_depth=2, random_state=0)\n",
    "regr.fit(train, target)"
   ]
  },
  {
   "cell_type": "code",
   "execution_count": 38,
   "id": "structured-herald",
   "metadata": {},
   "outputs": [
    {
     "data": {
      "text/plain": [
       "Text(0, 0.5, 'Abs Percent error (%)')"
      ]
     },
     "execution_count": 38,
     "metadata": {},
     "output_type": "execute_result"
    },
    {
     "data": {
      "image/png": "[encoded data removed]",
      "text/plain": [
       "<Figure size 720x720 with 2 Axes>"
      ]
     },
     "metadata": {
      "needs_background": "light"
     },
     "output_type": "display_data"
    }
   ],
   "source": [
    "fig, ax = plt.subplots(nrows = 2, ncols = 1, figsize = (10, 10))\n",
    "ax[0].plot(np.arange(test.shape[0]), regr.predict(test)) \n",
    "ax[0].plot(np.arange(test.shape[0]), target_test) \n",
    "ax[0].set_xlabel('Well')\n",
    "ax[0].set_ylabel('3yr MSTB')\n",
    "\n",
    "ax[1].plot(np.arange(test.shape[0]), np.abs(regr.predict(test) - target_test)/target_test * 100)\n",
    "ax[1].set_ylabel('Abs Percent error (%)')"
   ]
  },
  {
   "cell_type": "code",
   "execution_count": 39,
   "id": "burning-deployment",
   "metadata": {},
   "outputs": [
    {
     "data": {
      "text/plain": [
       "188.3308324494577"
      ]
     },
     "execution_count": 39,
     "metadata": {},
     "output_type": "execute_result"
    }
   ],
   "source": [
    "np.mean(np.abs(regr.predict(test) - target_test))"
   ]
  },
  {
   "cell_type": "code",
   "execution_count": 49,
   "id": "incredible-stations",
   "metadata": {},
   "outputs": [
    {
     "data": {
      "text/plain": [
       "DecisionTreeRegressor(max_leaf_nodes=150)"
      ]
     },
     "execution_count": 49,
     "metadata": {},
     "output_type": "execute_result"
    }
   ],
   "source": [
    "from sklearn.tree import DecisionTreeRegressor\n",
    "regs = DecisionTreeRegressor(criterion='mse', splitter='best', max_leaf_nodes = 150)\n",
    "regs.fit(train, target)"
   ]
  },
  {
   "cell_type": "code",
   "execution_count": 57,
   "id": "ongoing-savings",
   "metadata": {},
   "outputs": [
    {
     "ename": "ValueError",
     "evalue": "Expected 2D array, got 1D array instead:\narray=[2124.8  1372.2   781.4   307.12 1122.1   780.12  749.4   835.5  1098.1\n  608.09 1500.    668.02  470.12  723.75 1573.2 ].\nReshape your data either using array.reshape(-1, 1) if your data has a single feature or array.reshape(1, -1) if it contains a single sample.",
     "output_type": "error",
     "traceback": [
      "\u001b[1;31m---------------------------------------------------------------------------\u001b[0m",
      "\u001b[1;31mValueError\u001b[0m                                Traceback (most recent call last)",
      "\u001b[1;32m<ipython-input-57-41def1307c4c>\u001b[0m in \u001b[0;36m<module>\u001b[1;34m\u001b[0m\n\u001b[0;32m      1\u001b[0m \u001b[0myPred\u001b[0m \u001b[1;33m=\u001b[0m \u001b[0mregs\u001b[0m\u001b[1;33m.\u001b[0m\u001b[0mpredict\u001b[0m\u001b[1;33m(\u001b[0m\u001b[0mtest\u001b[0m\u001b[1;33m)\u001b[0m\u001b[1;33m\u001b[0m\u001b[1;33m\u001b[0m\u001b[0m\n\u001b[1;32m----> 2\u001b[1;33m \u001b[0mregs\u001b[0m\u001b[1;33m.\u001b[0m\u001b[0mscore\u001b[0m\u001b[1;33m(\u001b[0m\u001b[0mtarget_test\u001b[0m\u001b[1;33m,\u001b[0m \u001b[0myPred\u001b[0m\u001b[1;33m)\u001b[0m\u001b[1;33m\u001b[0m\u001b[1;33m\u001b[0m\u001b[0m\n\u001b[0m\u001b[0;32m      3\u001b[0m \u001b[1;33m\u001b[0m\u001b[0m\n\u001b[0;32m      4\u001b[0m \u001b[0mfig\u001b[0m\u001b[1;33m,\u001b[0m \u001b[0max\u001b[0m \u001b[1;33m=\u001b[0m \u001b[0mplt\u001b[0m\u001b[1;33m.\u001b[0m\u001b[0msubplots\u001b[0m\u001b[1;33m(\u001b[0m\u001b[0mnrows\u001b[0m \u001b[1;33m=\u001b[0m \u001b[1;36m1\u001b[0m\u001b[1;33m,\u001b[0m \u001b[0mncols\u001b[0m \u001b[1;33m=\u001b[0m \u001b[1;36m1\u001b[0m\u001b[1;33m,\u001b[0m \u001b[0mfigsize\u001b[0m \u001b[1;33m=\u001b[0m \u001b[1;33m(\u001b[0m\u001b[1;36m10\u001b[0m\u001b[1;33m,\u001b[0m \u001b[1;36m10\u001b[0m\u001b[1;33m)\u001b[0m\u001b[1;33m)\u001b[0m\u001b[1;33m\u001b[0m\u001b[1;33m\u001b[0m\u001b[0m\n\u001b[0;32m      5\u001b[0m \u001b[0max\u001b[0m\u001b[1;33m[\u001b[0m\u001b[1;36m0\u001b[0m\u001b[1;33m]\u001b[0m\u001b[1;33m.\u001b[0m\u001b[0mplot\u001b[0m\u001b[1;33m(\u001b[0m\u001b[0mnp\u001b[0m\u001b[1;33m.\u001b[0m\u001b[0marange\u001b[0m\u001b[1;33m(\u001b[0m\u001b[0mtest\u001b[0m\u001b[1;33m.\u001b[0m\u001b[0mshape\u001b[0m\u001b[1;33m[\u001b[0m\u001b[1;36m0\u001b[0m\u001b[1;33m]\u001b[0m\u001b[1;33m)\u001b[0m\u001b[1;33m,\u001b[0m \u001b[0myPred\u001b[0m\u001b[1;33m)\u001b[0m\u001b[1;33m\u001b[0m\u001b[1;33m\u001b[0m\u001b[0m\n",
      "\u001b[1;32m~\\miniconda3\\envs\\datathon\\lib\\site-packages\\sklearn\\base.py\u001b[0m in \u001b[0;36mscore\u001b[1;34m(self, X, y, sample_weight)\u001b[0m\n\u001b[0;32m    549\u001b[0m \u001b[1;33m\u001b[0m\u001b[0m\n\u001b[0;32m    550\u001b[0m         \u001b[1;32mfrom\u001b[0m \u001b[1;33m.\u001b[0m\u001b[0mmetrics\u001b[0m \u001b[1;32mimport\u001b[0m \u001b[0mr2_score\u001b[0m\u001b[1;33m\u001b[0m\u001b[1;33m\u001b[0m\u001b[0m\n\u001b[1;32m--> 551\u001b[1;33m         \u001b[0my_pred\u001b[0m \u001b[1;33m=\u001b[0m \u001b[0mself\u001b[0m\u001b[1;33m.\u001b[0m\u001b[0mpredict\u001b[0m\u001b[1;33m(\u001b[0m\u001b[0mX\u001b[0m\u001b[1;33m)\u001b[0m\u001b[1;33m\u001b[0m\u001b[1;33m\u001b[0m\u001b[0m\n\u001b[0m\u001b[0;32m    552\u001b[0m         \u001b[1;32mreturn\u001b[0m \u001b[0mr2_score\u001b[0m\u001b[1;33m(\u001b[0m\u001b[0my\u001b[0m\u001b[1;33m,\u001b[0m \u001b[0my_pred\u001b[0m\u001b[1;33m,\u001b[0m \u001b[0msample_weight\u001b[0m\u001b[1;33m=\u001b[0m\u001b[0msample_weight\u001b[0m\u001b[1;33m)\u001b[0m\u001b[1;33m\u001b[0m\u001b[1;33m\u001b[0m\u001b[0m\n\u001b[0;32m    553\u001b[0m \u001b[1;33m\u001b[0m\u001b[0m\n",
      "\u001b[1;32m~\\miniconda3\\envs\\datathon\\lib\\site-packages\\sklearn\\tree\\_classes.py\u001b[0m in \u001b[0;36mpredict\u001b[1;34m(self, X, check_input)\u001b[0m\n\u001b[0;32m    425\u001b[0m         \"\"\"\n\u001b[0;32m    426\u001b[0m         \u001b[0mcheck_is_fitted\u001b[0m\u001b[1;33m(\u001b[0m\u001b[0mself\u001b[0m\u001b[1;33m)\u001b[0m\u001b[1;33m\u001b[0m\u001b[1;33m\u001b[0m\u001b[0m\n\u001b[1;32m--> 427\u001b[1;33m         \u001b[0mX\u001b[0m \u001b[1;33m=\u001b[0m \u001b[0mself\u001b[0m\u001b[1;33m.\u001b[0m\u001b[0m_validate_X_predict\u001b[0m\u001b[1;33m(\u001b[0m\u001b[0mX\u001b[0m\u001b[1;33m,\u001b[0m \u001b[0mcheck_input\u001b[0m\u001b[1;33m)\u001b[0m\u001b[1;33m\u001b[0m\u001b[1;33m\u001b[0m\u001b[0m\n\u001b[0m\u001b[0;32m    428\u001b[0m         \u001b[0mproba\u001b[0m \u001b[1;33m=\u001b[0m \u001b[0mself\u001b[0m\u001b[1;33m.\u001b[0m\u001b[0mtree_\u001b[0m\u001b[1;33m.\u001b[0m\u001b[0mpredict\u001b[0m\u001b[1;33m(\u001b[0m\u001b[0mX\u001b[0m\u001b[1;33m)\u001b[0m\u001b[1;33m\u001b[0m\u001b[1;33m\u001b[0m\u001b[0m\n\u001b[0;32m    429\u001b[0m         \u001b[0mn_samples\u001b[0m \u001b[1;33m=\u001b[0m \u001b[0mX\u001b[0m\u001b[1;33m.\u001b[0m\u001b[0mshape\u001b[0m\u001b[1;33m[\u001b[0m\u001b[1;36m0\u001b[0m\u001b[1;33m]\u001b[0m\u001b[1;33m\u001b[0m\u001b[1;33m\u001b[0m\u001b[0m\n",
      "\u001b[1;32m~\\miniconda3\\envs\\datathon\\lib\\site-packages\\sklearn\\tree\\_classes.py\u001b[0m in \u001b[0;36m_validate_X_predict\u001b[1;34m(self, X, check_input)\u001b[0m\n\u001b[0;32m    386\u001b[0m         \u001b[1;34m\"\"\"Validate X whenever one tries to predict, apply, predict_proba\"\"\"\u001b[0m\u001b[1;33m\u001b[0m\u001b[1;33m\u001b[0m\u001b[0m\n\u001b[0;32m    387\u001b[0m         \u001b[1;32mif\u001b[0m \u001b[0mcheck_input\u001b[0m\u001b[1;33m:\u001b[0m\u001b[1;33m\u001b[0m\u001b[1;33m\u001b[0m\u001b[0m\n\u001b[1;32m--> 388\u001b[1;33m             \u001b[0mX\u001b[0m \u001b[1;33m=\u001b[0m \u001b[0mcheck_array\u001b[0m\u001b[1;33m(\u001b[0m\u001b[0mX\u001b[0m\u001b[1;33m,\u001b[0m \u001b[0mdtype\u001b[0m\u001b[1;33m=\u001b[0m\u001b[0mDTYPE\u001b[0m\u001b[1;33m,\u001b[0m \u001b[0maccept_sparse\u001b[0m\u001b[1;33m=\u001b[0m\u001b[1;34m\"csr\"\u001b[0m\u001b[1;33m)\u001b[0m\u001b[1;33m\u001b[0m\u001b[1;33m\u001b[0m\u001b[0m\n\u001b[0m\u001b[0;32m    389\u001b[0m             if issparse(X) and (X.indices.dtype != np.intc or\n\u001b[0;32m    390\u001b[0m                                 X.indptr.dtype != np.intc):\n",
      "\u001b[1;32m~\\miniconda3\\envs\\datathon\\lib\\site-packages\\sklearn\\utils\\validation.py\u001b[0m in \u001b[0;36minner_f\u001b[1;34m(*args, **kwargs)\u001b[0m\n\u001b[0;32m     70\u001b[0m                           FutureWarning)\n\u001b[0;32m     71\u001b[0m         \u001b[0mkwargs\u001b[0m\u001b[1;33m.\u001b[0m\u001b[0mupdate\u001b[0m\u001b[1;33m(\u001b[0m\u001b[1;33m{\u001b[0m\u001b[0mk\u001b[0m\u001b[1;33m:\u001b[0m \u001b[0marg\u001b[0m \u001b[1;32mfor\u001b[0m \u001b[0mk\u001b[0m\u001b[1;33m,\u001b[0m \u001b[0marg\u001b[0m \u001b[1;32min\u001b[0m \u001b[0mzip\u001b[0m\u001b[1;33m(\u001b[0m\u001b[0msig\u001b[0m\u001b[1;33m.\u001b[0m\u001b[0mparameters\u001b[0m\u001b[1;33m,\u001b[0m \u001b[0margs\u001b[0m\u001b[1;33m)\u001b[0m\u001b[1;33m}\u001b[0m\u001b[1;33m)\u001b[0m\u001b[1;33m\u001b[0m\u001b[1;33m\u001b[0m\u001b[0m\n\u001b[1;32m---> 72\u001b[1;33m         \u001b[1;32mreturn\u001b[0m \u001b[0mf\u001b[0m\u001b[1;33m(\u001b[0m\u001b[1;33m**\u001b[0m\u001b[0mkwargs\u001b[0m\u001b[1;33m)\u001b[0m\u001b[1;33m\u001b[0m\u001b[1;33m\u001b[0m\u001b[0m\n\u001b[0m\u001b[0;32m     73\u001b[0m     \u001b[1;32mreturn\u001b[0m \u001b[0minner_f\u001b[0m\u001b[1;33m\u001b[0m\u001b[1;33m\u001b[0m\u001b[0m\n\u001b[0;32m     74\u001b[0m \u001b[1;33m\u001b[0m\u001b[0m\n",
      "\u001b[1;32m~\\miniconda3\\envs\\datathon\\lib\\site-packages\\sklearn\\utils\\validation.py\u001b[0m in \u001b[0;36mcheck_array\u001b[1;34m(array, accept_sparse, accept_large_sparse, dtype, order, copy, force_all_finite, ensure_2d, allow_nd, ensure_min_samples, ensure_min_features, estimator)\u001b[0m\n\u001b[0;32m    617\u001b[0m             \u001b[1;31m# If input is 1D raise error\u001b[0m\u001b[1;33m\u001b[0m\u001b[1;33m\u001b[0m\u001b[1;33m\u001b[0m\u001b[0m\n\u001b[0;32m    618\u001b[0m             \u001b[1;32mif\u001b[0m \u001b[0marray\u001b[0m\u001b[1;33m.\u001b[0m\u001b[0mndim\u001b[0m \u001b[1;33m==\u001b[0m \u001b[1;36m1\u001b[0m\u001b[1;33m:\u001b[0m\u001b[1;33m\u001b[0m\u001b[1;33m\u001b[0m\u001b[0m\n\u001b[1;32m--> 619\u001b[1;33m                 raise ValueError(\n\u001b[0m\u001b[0;32m    620\u001b[0m                     \u001b[1;34m\"Expected 2D array, got 1D array instead:\\narray={}.\\n\"\u001b[0m\u001b[1;33m\u001b[0m\u001b[1;33m\u001b[0m\u001b[0m\n\u001b[0;32m    621\u001b[0m                     \u001b[1;34m\"Reshape your data either using array.reshape(-1, 1) if \"\u001b[0m\u001b[1;33m\u001b[0m\u001b[1;33m\u001b[0m\u001b[0m\n",
      "\u001b[1;31mValueError\u001b[0m: Expected 2D array, got 1D array instead:\narray=[2124.8  1372.2   781.4   307.12 1122.1   780.12  749.4   835.5  1098.1\n  608.09 1500.    668.02  470.12  723.75 1573.2 ].\nReshape your data either using array.reshape(-1, 1) if your data has a single feature or array.reshape(1, -1) if it contains a single sample."
     ]
    }
   ],
   "source": [
    "yPred = regs.predict(test)\n",
    "regs.score(target_test, yPred)\n",
    "\n",
    "fig, ax = plt.subplots(nrows = 1, ncols = 1, figsize = (10, 10))\n",
    "ax[0].plot(np.arange(test.shape[0]), yPred) \n",
    "ax[0].plot(np.arange(test.shape[0]), target_test) \n",
    "ax[0].set_xlabel('Well')\n",
    "ax[0].set_ylabel('3yr MSTB')\n"
   ]
  },
  {
   "cell_type": "code",
   "execution_count": 56,
   "id": "preceding-sudan",
   "metadata": {},
   "outputs": [
    {
     "data": {
      "text/plain": [
       "748191.7507999999"
      ]
     },
     "execution_count": 56,
     "metadata": {},
     "output_type": "execute_result"
    }
   ],
   "source": []
  },
  {
   "cell_type": "code",
   "execution_count": 55,
   "id": "scenic-breathing",
   "metadata": {},
   "outputs": [
    {
     "data": {
      "text/plain": [
       "(15,)"
      ]
     },
     "execution_count": 55,
     "metadata": {},
     "output_type": "execute_result"
    }
   ],
   "source": [
    "target_test.shape"
   ]
  },
  {
   "cell_type": "code",
   "execution_count": 45,
   "id": "minimal-garden",
   "metadata": {},
   "outputs": [
    {
     "data": {
      "text/plain": [
       "Text(0, 0.5, 'Abs Percent error (%)')"
      ]
     },
     "execution_count": 45,
     "metadata": {},
     "output_type": "execute_result"
    },
    {
     "data": {
      "image/png": "[encoded data removed]",
      "text/plain": [
       "<Figure size 720x720 with 2 Axes>"
      ]
     },
     "metadata": {
      "needs_background": "light"
     },
     "output_type": "display_data"
    }
   ],
   "source": [
    "fig, ax = plt.subplots(nrows = 2, ncols = 1, figsize = (10, 10))\n",
    "ax[0].plot(np.arange(test.shape[0]), regs.predict(test)) \n",
    "ax[0].plot(np.arange(test.shape[0]), target_test) \n",
    "ax[0].set_xlabel('Well')\n",
    "ax[0].set_ylabel('3yr MSTB')\n",
    "\n",
    "ax[1].plot(np.arange(test.shape[0]), np.abs(regs.predict(test) - target_test)/target_test * 100)\n",
    "ax[1].set_ylabel('Abs Percent error (%)')"
   ]
  },
  {
   "cell_type": "markdown",
   "id": "korean-bundle",
   "metadata": {},
   "source": [
    "## Kriging map"
   ]
  },
  {
   "cell_type": "code",
   "execution_count": 62,
   "id": "nuclear-slide",
   "metadata": {},
   "outputs": [
    {
     "data": {
      "text/html": [
       "<div>\n",
       "<style scoped>\n",
       "    .dataframe tbody tr th:only-of-type {\n",
       "        vertical-align: middle;\n",
       "    }\n",
       "\n",
       "    .dataframe tbody tr th {\n",
       "        vertical-align: top;\n",
       "    }\n",
       "\n",
       "    .dataframe thead th {\n",
       "        text-align: right;\n",
       "    }\n",
       "</style>\n",
       "<table border=\"1\" class=\"dataframe\">\n",
       "  <thead>\n",
       "    <tr style=\"text-align: right;\">\n",
       "      <th></th>\n",
       "      <th>X, m</th>\n",
       "      <th>Y, m</th>\n",
       "      <th>Depth, m</th>\n",
       "      <th>Porosity, fraction</th>\n",
       "      <th>Permeability, mD</th>\n",
       "      <th>Acoustic Impedance, kg*s/m^2</th>\n",
       "      <th>Density, g/cm3</th>\n",
       "      <th>Compressible velocity, m/s</th>\n",
       "      <th>Youngs modulus, GPa</th>\n",
       "      <th>Shear velocity, m/s</th>\n",
       "      <th>Shear modulus, GPa</th>\n",
       "      <th>Vclay</th>\n",
       "    </tr>\n",
       "  </thead>\n",
       "  <tbody>\n",
       "    <tr>\n",
       "      <th>0</th>\n",
       "      <td>7325</td>\n",
       "      <td>7175</td>\n",
       "      <td>3057.55</td>\n",
       "      <td>0.133426</td>\n",
       "      <td>115.099143</td>\n",
       "      <td>7.221834e+06</td>\n",
       "      <td>2.141876</td>\n",
       "      <td>3392.897466</td>\n",
       "      <td>25.333611</td>\n",
       "      <td>1656.844649</td>\n",
       "      <td>6.192136</td>\n",
       "      <td>0.133335</td>\n",
       "    </tr>\n",
       "    <tr>\n",
       "      <th>1</th>\n",
       "      <td>3725</td>\n",
       "      <td>1575</td>\n",
       "      <td>3057.82</td>\n",
       "      <td>0.112654</td>\n",
       "      <td>74.651251</td>\n",
       "      <td>7.474489e+06</td>\n",
       "      <td>1.827084</td>\n",
       "      <td>4038.679249</td>\n",
       "      <td>30.218813</td>\n",
       "      <td>1682.659828</td>\n",
       "      <td>5.592101</td>\n",
       "      <td>0.399980</td>\n",
       "    </tr>\n",
       "  </tbody>\n",
       "</table>\n",
       "</div>"
      ],
      "text/plain": [
       "   X, m  Y, m  Depth, m  Porosity, fraction  Permeability, mD  \\\n",
       "0  7325  7175   3057.55            0.133426        115.099143   \n",
       "1  3725  1575   3057.82            0.112654         74.651251   \n",
       "\n",
       "   Acoustic Impedance, kg*s/m^2  Density, g/cm3  Compressible velocity, m/s  \\\n",
       "0                  7.221834e+06        2.141876                 3392.897466   \n",
       "1                  7.474489e+06        1.827084                 4038.679249   \n",
       "\n",
       "   Youngs modulus, GPa  Shear velocity, m/s  Shear modulus, GPa     Vclay  \n",
       "0            25.333611          1656.844649            6.192136  0.133335  \n",
       "1            30.218813          1682.659828            5.592101  0.399980  "
      ]
     },
     "execution_count": 62,
     "metadata": {},
     "output_type": "execute_result"
    }
   ],
   "source": [
    "df_agg_data.head(2)"
   ]
  },
  {
   "cell_type": "code",
   "execution_count": 63,
   "id": "received-graham",
   "metadata": {},
   "outputs": [
    {
     "data": {
      "text/plain": [
       "0    847.33\n",
       "1    518.27\n",
       "Name: Cumulative oil production (3 yr), MSTB, dtype: float64"
      ]
     },
     "execution_count": 63,
     "metadata": {},
     "output_type": "execute_result"
    }
   ],
   "source": [
    "df_agg_target.head(2)"
   ]
  },
  {
   "cell_type": "code",
   "execution_count": null,
   "id": "corporate-notebook",
   "metadata": {},
   "outputs": [],
   "source": [
    "from itertools import product\n",
    "import numpy as np\n",
    "from matplotlib import pyplot as plt\n",
    "from mpl_toolkits.mplot3d import Axes3D\n",
    "\n",
    "\n",
    "\n",
    "# Input space\n",
    "X = np.array(list(zip(df_agg_data['X, m'], df_agg_data['Y, m'])))\n",
    "X = X/10000\n",
    "x1 = np.linspace(X[:,0].min(), X[:,0].max()) #p\n",
    "x2 = np.linspace(X[:,1].min(), X[:,1].max()) #q\n",
    "x = (np.array([x1, x2])).T\n",
    "\n",
    "kernel = C(1.0, (1e-3, 1e3)) * RBF([2,2], (1e-2, 1e2))\n",
    "gp = GaussianProcessRegressor(kernel=kernel, n_restarts_optimizer=15)\n",
    "\n",
    "gp.fit(X, y)\n",
    "\n",
    "x1x2 = np.array(list(product(x1, x2)))\n",
    "y_pred, MSE = gp.predict(x1x2, return_std=True)\n",
    "\n",
    "X0p, X1p = x1x2[:,0].reshape(50,50), x1x2[:,1].reshape(50,50)\n",
    "Zp = np.reshape(y_pred,(50,50))\n",
    "\n",
    "# alternative way to generate equivalent X0p, X1p, Zp\n",
    "# X0p, X1p = np.meshgrid(x1, x2)\n",
    "# Zp = [gp.predict([(X0p[i, j], X1p[i, j]) for i in range(X0p.shape[0])]) for j in range(X0p.shape[1])]\n",
    "# Zp = np.array(Zp).T\n",
    "\n",
    "fig = plt.figure(figsize=(10,8))\n",
    "ax = fig.add_subplot(111)\n",
    "ax.pcolormesh(X0p, X1p, Zp)\n",
    "plt.gca().invert_yaxis()\n",
    "\n",
    "plt.show()"
   ]
  },
  {
   "cell_type": "code",
   "execution_count": 95,
   "id": "lightweight-impression",
   "metadata": {},
   "outputs": [
    {
     "data": {
      "text/plain": [
       "GaussianProcessRegressor(n_restarts_optimizer=15)"
      ]
     },
     "execution_count": 95,
     "metadata": {},
     "output_type": "execute_result"
    }
   ],
   "source": [
    "from sklearn.gaussian_process import GaussianProcessRegressor\n",
    "from sklearn.gaussian_process.kernels import RBF, ConstantKernel as C\n",
    "\n",
    "df_agg_data2 = df_agg_data.copy()\n",
    "df_agg_data2['Permeability, mD'].apply(np.log)\n",
    "\n",
    "df_scaled = (df_agg_data2 - df_agg_data2.min())/ (df_agg_data2.max() - df_agg_data2.min())\n",
    "df_scaled.head()\n",
    "\n",
    "X_train, X_test, y_train, y_test = train_test_split(df_scaled, df_agg_target, test_size=0.20, random_state=0)\n",
    "gp = GaussianProcessRegressor(n_restarts_optimizer=15)\n",
    "\n",
    "gp.fit(X_train, y_train)"
   ]
  },
  {
   "cell_type": "code",
   "execution_count": 96,
   "id": "random-operation",
   "metadata": {},
   "outputs": [
    {
     "data": {
      "text/plain": [
       "array([2119.64337345, 1636.76352441,  863.35189385,  315.83430104,\n",
       "        820.78118267,  950.05254851,  779.7889025 ,  817.60629944,\n",
       "        669.03195372,  505.21153826, 1283.91063213,  844.55215959,\n",
       "        578.99002951,  929.42331073, 1494.06165538])"
      ]
     },
     "execution_count": 96,
     "metadata": {},
     "output_type": "execute_result"
    }
   ],
   "source": [
    "y_pred, MSE = gp.predict(X_test, return_std=True)\n",
    "y_pred"
   ]
  },
  {
   "cell_type": "code",
   "execution_count": 97,
   "id": "greenhouse-charleston",
   "metadata": {},
   "outputs": [
    {
     "data": {
      "text/plain": [
       "16.074074423209858"
      ]
     },
     "execution_count": 97,
     "metadata": {},
     "output_type": "execute_result"
    }
   ],
   "source": [
    "np.mean(np.abs(y_pred - y_test)/y_test * 100)"
   ]
  },
  {
   "cell_type": "code",
   "execution_count": null,
   "id": "adopted-nomination",
   "metadata": {},
   "outputs": [],
   "source": [
    "df_preProducer_imputed.to_csv(\"IMPUTED_wellbore_data_preproducer.csv\")\n",
    "df_producer_imputed.to_csv(\"IMPUTED_wellbore_data_producer.csv\")"
   ]
  },
  {
   "cell_type": "code",
   "execution_count": null,
   "id": "promising-strap",
   "metadata": {},
   "outputs": [],
   "source": []
  },
  {
   "cell_type": "code",
   "execution_count": null,
   "id": "hindu-examination",
   "metadata": {},
   "outputs": [],
   "source": []
  },
  {
   "cell_type": "code",
   "execution_count": null,
   "id": "stock-watershed",
   "metadata": {},
   "outputs": [],
   "source": []
  },
  {
   "cell_type": "code",
   "execution_count": null,
   "id": "functioning-straight",
   "metadata": {},
   "outputs": [],
   "source": []
  },
  {
   "cell_type": "code",
   "execution_count": 483,
   "id": "together-resort",
   "metadata": {},
   "outputs": [],
   "source": [
    "df_preProducer_imputed = pd.read_csv(\"IMPUTED_wellbore_data_preproducer.csv\", index_col=[0]).drop(\"Rock facies\", axis = 1)\n",
    "df_producer_imputed = pd.read_csv(\"IMPUTED_wellbore_data_producer.csv\", index_col=[0]).drop(\"Rock facies\", axis = 1)\n",
    "\n",
    "df_merge = pd.concat([df_preProducer_imputed, df_producer_imputed],axis=0).sort_values(['Well_ID', 'Depth, m'])\n",
    "\n",
    "df_merge_scaled = df_merge.copy()\n",
    "\n",
    "df_merge_scaled['X, m'] = df_merge['X, m']/10000 \n",
    "df_merge_scaled['Y, m'] = df_merge['Y, m']/10000 \n",
    "\n",
    "def minMaxScaling(df, targetFeature):\n",
    "    return ( df[targetFeature] - df[targetFeature].min() ) / ( df[targetFeature].max() - df[targetFeature].min())\n",
    "\n",
    "def logMinMaxScaling(df, targetFeature):\n",
    "    return ( np.log(df[targetFeature]) - np.log(df[targetFeature]).min() ) / ( np.log(df[targetFeature]).max() - np.log(df[targetFeature]).min() )\n",
    "\n",
    "\n",
    "df_merge_scaled['Depth, m'] = minMaxScaling(df_merge, 'Depth, m')\n",
    "df_merge_scaled['Porosity, fraction'] = minMaxScaling(df_merge, 'Porosity, fraction')\n",
    "df_merge_scaled['Density, g/cm3'] = minMaxScaling(df_merge, 'Density, g/cm3')\n",
    "df_merge_scaled['Permeability, mD'] = logMinMaxScaling(df_merge, 'Permeability, mD')\n",
    "df_merge_scaled['Acoustic Impedance, kg*s/m^2'] = minMaxScaling(df_merge, 'Density, g/cm3')\n",
    "df_merge_scaled['Compressible velocity, m/s'] = minMaxScaling(df_merge, 'Compressible velocity, m/s')\n",
    "df_merge_scaled['Youngs modulus, GPa'] = minMaxScaling(df_merge, 'Youngs modulus, GPa')\n",
    "df_merge_scaled['Shear velocity, m/s'] = minMaxScaling(df_merge, 'Shear velocity, m/s')\n",
    "df_merge_scaled['Shear modulus, GPa'] = minMaxScaling(df_merge, 'Shear modulus, GPa')\n",
    "df_merge_scaled['Vclay'] = minMaxScaling(df_merge, 'Vclay')\n",
    "\n",
    "\n",
    "## Putting the data back  \n",
    "preProducer_Well_ID = ['Well_no_{}'.format(x) for x in range(74, 84)]\n",
    "df_preProducer_imputed_scale = df_merge_scaled[df_merge_scaled['Well_ID'].isin(preProducer_Well_ID)]\n",
    "df_producer_imputed_scale = df_merge_scaled[~df_merge_scaled['Well_ID'].isin(preProducer_Well_ID)]"
   ]
  },
  {
   "cell_type": "code",
   "execution_count": 484,
   "id": "executed-expansion",
   "metadata": {},
   "outputs": [],
   "source": [
    "df_prodHist = pd.read_csv(\"production_history.csv\")\n",
    "\n",
    "## Training dataset \n",
    "df_agg_producer = df_producer_imputed_scale.copy()\n",
    "df_agg_producer = df_agg_producer.groupby(\"Well_ID\").agg(\"mean\")\n",
    "\n",
    "df_agg_merge_producer = df_agg_producer.merge(df_prodHist, how = 'inner', on = 'Well_ID')\n",
    "df_agg_merge_producer.head()\n",
    "\n",
    "dropData = [\"Well_ID\", \"Cumulative oil production (1 yr), MSTB\", \"Cumulative oil production (2 yr), MSTB\",\n",
    "           \"Cumulative oil production (3 yr), MSTB\", \"Cumulative Water production (1 yr), MSTB\",\n",
    "           \"Cumulative Water production (2 yr), MSTB\", \"Cumulative Water production (3 yr), MSTB\"]\n",
    "           #'Compressible velocity, m/s', 'Youngs modulus, GPa', 'Shear velocity, m/s', 'Shear modulus, GPa', 'Vclay', 'Depth, m']\n",
    "\n",
    "dropData2 = [\"Well_ID\"]\n",
    "             #'Compressible velocity, m/s', 'Youngs modulus, GPa', 'Shear velocity, m/s', 'Shear modulus, GPa', 'Vclay', 'Depth, m']\n",
    "\n",
    "df_agg_merge_producer_train = df_agg_merge_producer.drop(dropData, axis = 1)\n",
    "df_agg_merge_producer_target = df_agg_merge_producer[\"Cumulative oil production (3 yr), MSTB\"]\n",
    "\n",
    "\n",
    "### Testing dataset\n",
    "df_agg_preProducer = df_preProducer_imputed_scale.copy()\n",
    "df_agg_preProducer = df_agg_preProducer.groupby(\"Well_ID\").agg(\"mean\").reset_index()\n",
    "\n",
    "df_agg_preProducer = df_agg_preProducer.drop(dropData2, axis = 1)"
   ]
  },
  {
   "cell_type": "code",
   "execution_count": 485,
   "id": "provincial-opportunity",
   "metadata": {},
   "outputs": [
    {
     "name": "stdout",
     "output_type": "stream",
     "text": [
      "-414.4209392250551\n",
      "-189.97127330412286\n",
      "-314.4545581259876\n"
     ]
    }
   ],
   "source": [
    "##Make prediction map \n",
    "from sklearn.gaussian_process import GaussianProcessRegressor\n",
    "from sklearn.gaussian_process.kernels import RBF, ConstantKernel as C\n",
    "from sklearn.model_selection import cross_val_score\n",
    "\n",
    "gp = GaussianProcessRegressor(n_restarts_optimizer=15)\n",
    "gp.fit(df_agg_merge_producer_train, df_agg_merge_producer_target)\n",
    "result = gp.predict(df_agg_preProducer)\n",
    "print(cross_val_score(gp, df_agg_merge_producer_train, df_agg_merge_producer_target, scoring='neg_mean_absolute_error').mean())\n",
    "\n",
    "from sklearn.ensemble import RandomForestRegressor\n",
    "randomForest = RandomForestRegressor(n_estimators=200, max_depth=10, random_state=0)\n",
    "randomForest.fit(df_agg_merge_producer_train, df_agg_merge_producer_target)\n",
    "result2 = randomForest.predict(df_agg_preProducer)\n",
    "print(cross_val_score(randomForest, df_agg_merge_producer_train, df_agg_merge_producer_target, scoring='neg_mean_absolute_error').mean())\n",
    "\n",
    "from sklearn.svm import SVR\n",
    "supportVR = SVR(kernel = 'rbf')\n",
    "supportVR.fit(df_agg_merge_producer_train, df_agg_merge_producer_target)\n",
    "result3 = supportVR.predict(df_agg_preProducer)\n",
    "print(cross_val_score(supportVR, df_agg_merge_producer_train, df_agg_merge_producer_target, scoring='neg_mean_absolute_error').mean())"
   ]
  },
  {
   "cell_type": "code",
   "execution_count": 486,
   "id": "dress-hometown",
   "metadata": {},
   "outputs": [
    {
     "data": {
      "image/png": "[encoded data removed]",
      "text/plain": [
       "<Figure size 504x432 with 2 Axes>"
      ]
     },
     "metadata": {
      "needs_background": "light"
     },
     "output_type": "display_data"
    }
   ],
   "source": [
    "from scipy.interpolate import interp2d\n",
    "from scipy.interpolate import LinearNDInterpolator\n",
    "\n",
    "##Aggregate the data tfor plotting purpuse \n",
    "X_data = np.hstack((df_agg_merge_producer_train['X, m'].values, df_agg_preProducer['X, m'].values))\n",
    "Y_data = np.hstack((df_agg_merge_producer_train['Y, m'].values, df_agg_preProducer['Y, m'].values))\n",
    "Z_data = np.hstack((df_agg_merge_producer_target.values, result))\n",
    "\n",
    "X_prod3 = np.linspace(min(X_data), max(X_data))\n",
    "Y_prod3 = np.linspace(min(Y_data), max(Y_data))\n",
    "X_prod3, Y_prod3 = np.meshgrid(X_prod3, Y_prod3) \n",
    "interp = LinearNDInterpolator(list(zip(X_data, Y_data)), Z_data)\n",
    "Z_prod3 = interp(X_prod3, Y_prod3)\n",
    "\n",
    "fig, ax = plt.subplots(figsize = (7, 6))\n",
    "im0 = ax.pcolormesh(X_prod3, Y_prod3, Z_prod3, shading='auto', alpha = 0.5) \n",
    "ax.plot([10000/10000, 1750/10000], [1750/10000, 10000/10000], 'r')\n",
    "im1 = ax.scatter(df_preProducer_imputed_scale['X, m'], df_preProducer_imputed_scale['Y, m'], c = 'red')\n",
    "im2 = ax.scatter(df_producer_imputed_scale['X, m'], df_producer_imputed_scale['Y, m'], c = 'blue')\n",
    "\n",
    "#Plotting Well Number\n",
    "#wellNumberMarker = [x.split(\"_\")[-1] for x in df_producer['Well_ID'].values]\n",
    "#for i, txt in enumerate(wellNumberMarker):\n",
    "#    ax.annotate(txt, ((df_producer['X, m'][i], df_producer['Y, m'][i])))\n",
    "#wellNumberMarker = [x.split(\"_\")[-1] for x in df_preProc['Well_ID'].values]\n",
    "#for i, txt in enumerate(wellNumberMarker):\n",
    "#    ax.annotate(txt, ((df_preProc['X, m'][i], df_preProc['Y, m'][i])))\n",
    "\n",
    "ax.set_xlabel('x [km]')\n",
    "ax.set_ylabel('y [km]')\n",
    "ax.set_title('3yr production map [MSTB]_kriging')\n",
    "ax.legend([im1, im2], ['Testing Well', 'Training Well'])\n",
    "\n",
    "fig.colorbar(im0, ax = ax, shrink=0.9)\n",
    "plt.gca().invert_yaxis()"
   ]
  },
  {
   "cell_type": "code",
   "execution_count": 487,
   "id": "completed-index",
   "metadata": {},
   "outputs": [
    {
     "data": {
      "image/png": "[encoded data removed]",
      "text/plain": [
       "<Figure size 504x432 with 2 Axes>"
      ]
     },
     "metadata": {
      "needs_background": "light"
     },
     "output_type": "display_data"
    }
   ],
   "source": [
    "from scipy.interpolate import interp2d\n",
    "from scipy.interpolate import LinearNDInterpolator\n",
    "\n",
    "##Aggregate the data tfor plotting purpuse \n",
    "X_data = np.hstack((df_agg_merge_producer_train['X, m'].values, df_agg_preProducer['X, m'].values))\n",
    "Y_data = np.hstack((df_agg_merge_producer_train['Y, m'].values, df_agg_preProducer['Y, m'].values))\n",
    "Z_data = np.hstack((df_agg_merge_producer_target.values, result2))\n",
    "\n",
    "X_prod3 = np.linspace(min(X_data), max(X_data))\n",
    "Y_prod3 = np.linspace(min(Y_data), max(Y_data))\n",
    "X_prod3, Y_prod3 = np.meshgrid(X_prod3, Y_prod3) \n",
    "interp = LinearNDInterpolator(list(zip(X_data, Y_data)), Z_data)\n",
    "Z_prod3 = interp(X_prod3, Y_prod3)\n",
    "\n",
    "fig, ax = plt.subplots(figsize = (7, 6))\n",
    "im0 = ax.pcolormesh(X_prod3, Y_prod3, Z_prod3, shading='auto', alpha = 0.5) \n",
    "ax.plot([10000/10000, 1750/10000], [1750/10000, 10000/10000], 'r')\n",
    "im1 = ax.scatter(df_preProducer_imputed_scale['X, m'], df_preProducer_imputed_scale['Y, m'], c = 'red')\n",
    "im2 = ax.scatter(df_producer_imputed_scale['X, m'], df_producer_imputed_scale['Y, m'], c = 'blue')\n",
    "\n",
    "#Plotting Well Number\n",
    "#wellNumberMarker = [x.split(\"_\")[-1] for x in df_producer['Well_ID'].values]\n",
    "#for i, txt in enumerate(wellNumberMarker):\n",
    "#    ax.annotate(txt, ((df_producer['X, m'][i], df_producer['Y, m'][i])))\n",
    "#wellNumberMarker = [x.split(\"_\")[-1] for x in df_preProc['Well_ID'].values]\n",
    "#for i, txt in enumerate(wellNumberMarker):\n",
    "#    ax.annotate(txt, ((df_preProc['X, m'][i], df_preProc['Y, m'][i])))\n",
    "\n",
    "ax.set_xlabel('x [km]')\n",
    "ax.set_ylabel('y [km]')\n",
    "ax.set_title('3yr production map [MSTB]_random forest')\n",
    "ax.legend([im1, im2], ['Testing Well', 'Training Well'])\n",
    "\n",
    "fig.colorbar(im0, ax = ax, shrink=0.9)\n",
    "plt.gca().invert_yaxis()"
   ]
  },
  {
   "cell_type": "code",
   "execution_count": 488,
   "id": "widespread-entry",
   "metadata": {},
   "outputs": [
    {
     "data": {
      "image/png": "[encoded data removed]",
      "text/plain": [
       "<Figure size 504x432 with 2 Axes>"
      ]
     },
     "metadata": {
      "needs_background": "light"
     },
     "output_type": "display_data"
    }
   ],
   "source": [
    "from scipy.interpolate import interp2d\n",
    "from scipy.interpolate import LinearNDInterpolator\n",
    "\n",
    "##Aggregate the data tfor plotting purpuse \n",
    "X_data = np.hstack((df_agg_merge_producer_train['X, m'].values, df_agg_preProducer['X, m'].values))\n",
    "Y_data = np.hstack((df_agg_merge_producer_train['Y, m'].values, df_agg_preProducer['Y, m'].values))\n",
    "Z_data = np.hstack((df_agg_merge_producer_target.values, result3))\n",
    "\n",
    "X_prod3 = np.linspace(min(X_data), max(X_data))\n",
    "Y_prod3 = np.linspace(min(Y_data), max(Y_data))\n",
    "X_prod3, Y_prod3 = np.meshgrid(X_prod3, Y_prod3) \n",
    "interp = LinearNDInterpolator(list(zip(X_data, Y_data)), Z_data)\n",
    "Z_prod3 = interp(X_prod3, Y_prod3)\n",
    "\n",
    "fig, ax = plt.subplots(figsize = (7, 6))\n",
    "im0 = ax.pcolormesh(X_prod3, Y_prod3, Z_prod3, shading='auto', alpha = 0.5) \n",
    "ax.plot([10000/10000, 1750/10000], [1750/10000, 10000/10000], 'r')\n",
    "im1 = ax.scatter(df_preProducer_imputed_scale['X, m'], df_preProducer_imputed_scale['Y, m'], c = 'red')\n",
    "im2 = ax.scatter(df_producer_imputed_scale['X, m'], df_producer_imputed_scale['Y, m'], c = 'blue')\n",
    "\n",
    "#Plotting Well Number\n",
    "#wellNumberMarker = [x.split(\"_\")[-1] for x in df_producer['Well_ID'].values]\n",
    "#for i, txt in enumerate(wellNumberMarker):\n",
    "#    ax.annotate(txt, ((df_producer['X, m'][i], df_producer['Y, m'][i])))\n",
    "#wellNumberMarker = [x.split(\"_\")[-1] for x in df_preProc['Well_ID'].values]\n",
    "#for i, txt in enumerate(wellNumberMarker):\n",
    "#    ax.annotate(txt, ((df_preProc['X, m'][i], df_preProc['Y, m'][i])))\n",
    "\n",
    "ax.set_xlabel('x [km]')\n",
    "ax.set_ylabel('y [km]')\n",
    "ax.set_title('3yr production map [MSTB]_SVR')\n",
    "ax.legend([im1, im2], ['Testing Well', 'Training Well'])\n",
    "\n",
    "fig.colorbar(im0, ax = ax, shrink=0.9)\n",
    "plt.gca().invert_yaxis()"
   ]
  },
  {
   "cell_type": "code",
   "execution_count": 342,
   "id": "accredited-complexity",
   "metadata": {
    "collapsed": true,
    "jupyter": {
     "outputs_hidden": true
    }
   },
   "outputs": [
    {
     "name": "stdout",
     "output_type": "stream",
     "text": [
      "Fitting 5 folds for each of 30 candidates, totalling 150 fits\n",
      "[CV] max_depth=5, n_estimators=10 ....................................\n",
      "[CV] ..... max_depth=5, n_estimators=10, score=-184.389, total=   0.0s\n",
      "[CV] max_depth=5, n_estimators=10 ....................................\n",
      "[CV] ..... max_depth=5, n_estimators=10, score=-202.762, total=   0.0s\n",
      "[CV] max_depth=5, n_estimators=10 ....................................\n",
      "[CV] ..... max_depth=5, n_estimators=10, score=-226.341, total=   0.0s\n",
      "[CV] max_depth=5, n_estimators=10 ....................................\n",
      "[CV] ..... max_depth=5, n_estimators=10, score=-204.367, total=   0.0s\n",
      "[CV] max_depth=5, n_estimators=10 ....................................\n",
      "[CV] ..... max_depth=5, n_estimators=10, score=-163.210, total=   0.0s\n",
      "[CV] max_depth=5, n_estimators=25 ....................................\n"
     ]
    },
    {
     "name": "stderr",
     "output_type": "stream",
     "text": [
      "[Parallel(n_jobs=1)]: Using backend SequentialBackend with 1 concurrent workers.\n",
      "[Parallel(n_jobs=1)]: Done   1 out of   1 | elapsed:    0.0s remaining:    0.0s\n",
      "[Parallel(n_jobs=1)]: Done   2 out of   2 | elapsed:    0.0s remaining:    0.0s\n"
     ]
    },
    {
     "name": "stdout",
     "output_type": "stream",
     "text": [
      "[CV] ..... max_depth=5, n_estimators=25, score=-147.078, total=   0.1s\n",
      "[CV] max_depth=5, n_estimators=25 ....................................\n",
      "[CV] ..... max_depth=5, n_estimators=25, score=-209.476, total=   0.1s\n",
      "[CV] max_depth=5, n_estimators=25 ....................................\n",
      "[CV] ..... max_depth=5, n_estimators=25, score=-214.937, total=   0.1s\n",
      "[CV] max_depth=5, n_estimators=25 ....................................\n",
      "[CV] ..... max_depth=5, n_estimators=25, score=-245.009, total=   0.0s\n",
      "[CV] max_depth=5, n_estimators=25 ....................................\n",
      "[CV] ..... max_depth=5, n_estimators=25, score=-163.259, total=   0.1s\n",
      "[CV] max_depth=5, n_estimators=50 ....................................\n",
      "[CV] ..... max_depth=5, n_estimators=50, score=-146.722, total=   0.1s\n",
      "[CV] max_depth=5, n_estimators=50 ....................................\n",
      "[CV] ..... max_depth=5, n_estimators=50, score=-225.303, total=   0.1s\n",
      "[CV] max_depth=5, n_estimators=50 ....................................\n",
      "[CV] ..... max_depth=5, n_estimators=50, score=-222.014, total=   0.1s\n",
      "[CV] max_depth=5, n_estimators=50 ....................................\n",
      "[CV] ..... max_depth=5, n_estimators=50, score=-234.539, total=   0.1s\n",
      "[CV] max_depth=5, n_estimators=50 ....................................\n",
      "[CV] ..... max_depth=5, n_estimators=50, score=-165.429, total=   0.1s\n",
      "[CV] max_depth=5, n_estimators=75 ....................................\n",
      "[CV] ..... max_depth=5, n_estimators=75, score=-143.090, total=   0.2s\n",
      "[CV] max_depth=5, n_estimators=75 ....................................\n",
      "[CV] ..... max_depth=5, n_estimators=75, score=-209.963, total=   0.1s\n",
      "[CV] max_depth=5, n_estimators=75 ....................................\n",
      "[CV] ..... max_depth=5, n_estimators=75, score=-209.461, total=   0.1s\n",
      "[CV] max_depth=5, n_estimators=75 ....................................\n",
      "[CV] ..... max_depth=5, n_estimators=75, score=-218.469, total=   0.1s\n",
      "[CV] max_depth=5, n_estimators=75 ....................................\n",
      "[CV] ..... max_depth=5, n_estimators=75, score=-174.303, total=   0.1s\n",
      "[CV] max_depth=5, n_estimators=100 ...................................\n",
      "[CV] .... max_depth=5, n_estimators=100, score=-149.619, total=   0.2s\n",
      "[CV] max_depth=5, n_estimators=100 ...................................\n",
      "[CV] .... max_depth=5, n_estimators=100, score=-211.565, total=   0.2s\n",
      "[CV] max_depth=5, n_estimators=100 ...................................\n",
      "[CV] .... max_depth=5, n_estimators=100, score=-222.451, total=   0.2s\n",
      "[CV] max_depth=5, n_estimators=100 ...................................\n",
      "[CV] .... max_depth=5, n_estimators=100, score=-236.090, total=   0.2s\n",
      "[CV] max_depth=5, n_estimators=100 ...................................\n",
      "[CV] .... max_depth=5, n_estimators=100, score=-180.825, total=   0.2s\n",
      "[CV] max_depth=7, n_estimators=10 ....................................\n",
      "[CV] ..... max_depth=7, n_estimators=10, score=-158.582, total=   0.0s\n",
      "[CV] max_depth=7, n_estimators=10 ....................................\n",
      "[CV] ..... max_depth=7, n_estimators=10, score=-224.672, total=   0.0s\n",
      "[CV] max_depth=7, n_estimators=10 ....................................\n",
      "[CV] ..... max_depth=7, n_estimators=10, score=-213.251, total=   0.0s\n",
      "[CV] max_depth=7, n_estimators=10 ....................................\n",
      "[CV] ..... max_depth=7, n_estimators=10, score=-226.587, total=   0.0s\n",
      "[CV] max_depth=7, n_estimators=10 ....................................\n",
      "[CV] ..... max_depth=7, n_estimators=10, score=-184.363, total=   0.0s\n",
      "[CV] max_depth=7, n_estimators=25 ....................................\n",
      "[CV] ..... max_depth=7, n_estimators=25, score=-148.949, total=   0.1s\n",
      "[CV] max_depth=7, n_estimators=25 ....................................\n",
      "[CV] ..... max_depth=7, n_estimators=25, score=-212.175, total=   0.1s\n",
      "[CV] max_depth=7, n_estimators=25 ....................................\n",
      "[CV] ..... max_depth=7, n_estimators=25, score=-231.354, total=   0.1s\n",
      "[CV] max_depth=7, n_estimators=25 ....................................\n",
      "[CV] ..... max_depth=7, n_estimators=25, score=-225.977, total=   0.1s\n",
      "[CV] max_depth=7, n_estimators=25 ....................................\n",
      "[CV] ..... max_depth=7, n_estimators=25, score=-170.840, total=   0.1s\n",
      "[CV] max_depth=7, n_estimators=50 ....................................\n",
      "[CV] ..... max_depth=7, n_estimators=50, score=-149.527, total=   0.1s\n",
      "[CV] max_depth=7, n_estimators=50 ....................................\n",
      "[CV] ..... max_depth=7, n_estimators=50, score=-201.612, total=   0.1s\n",
      "[CV] max_depth=7, n_estimators=50 ....................................\n",
      "[CV] ..... max_depth=7, n_estimators=50, score=-216.586, total=   0.1s\n",
      "[CV] max_depth=7, n_estimators=50 ....................................\n",
      "[CV] ..... max_depth=7, n_estimators=50, score=-215.774, total=   0.1s\n",
      "[CV] max_depth=7, n_estimators=50 ....................................\n",
      "[CV] ..... max_depth=7, n_estimators=50, score=-165.127, total=   0.1s\n",
      "[CV] max_depth=7, n_estimators=75 ....................................\n",
      "[CV] ..... max_depth=7, n_estimators=75, score=-148.979, total=   0.2s\n",
      "[CV] max_depth=7, n_estimators=75 ....................................\n",
      "[CV] ..... max_depth=7, n_estimators=75, score=-189.409, total=   0.2s\n",
      "[CV] max_depth=7, n_estimators=75 ....................................\n",
      "[CV] ..... max_depth=7, n_estimators=75, score=-213.941, total=   0.2s\n",
      "[CV] max_depth=7, n_estimators=75 ....................................\n",
      "[CV] ..... max_depth=7, n_estimators=75, score=-226.884, total=   0.1s\n",
      "[CV] max_depth=7, n_estimators=75 ....................................\n",
      "[CV] ..... max_depth=7, n_estimators=75, score=-165.669, total=   0.2s\n",
      "[CV] max_depth=7, n_estimators=100 ...................................\n",
      "[CV] .... max_depth=7, n_estimators=100, score=-144.707, total=   0.2s\n",
      "[CV] max_depth=7, n_estimators=100 ...................................\n",
      "[CV] .... max_depth=7, n_estimators=100, score=-214.816, total=   0.2s\n",
      "[CV] max_depth=7, n_estimators=100 ...................................\n",
      "[CV] .... max_depth=7, n_estimators=100, score=-231.586, total=   0.2s\n",
      "[CV] max_depth=7, n_estimators=100 ...................................\n",
      "[CV] .... max_depth=7, n_estimators=100, score=-222.509, total=   0.2s\n",
      "[CV] max_depth=7, n_estimators=100 ...................................\n",
      "[CV] .... max_depth=7, n_estimators=100, score=-181.683, total=   0.2s\n",
      "[CV] max_depth=12, n_estimators=10 ...................................\n",
      "[CV] .... max_depth=12, n_estimators=10, score=-147.625, total=   0.0s\n",
      "[CV] max_depth=12, n_estimators=10 ...................................\n",
      "[CV] .... max_depth=12, n_estimators=10, score=-221.976, total=   0.0s\n",
      "[CV] max_depth=12, n_estimators=10 ...................................\n",
      "[CV] .... max_depth=12, n_estimators=10, score=-238.189, total=   0.0s\n",
      "[CV] max_depth=12, n_estimators=10 ...................................\n",
      "[CV] .... max_depth=12, n_estimators=10, score=-224.712, total=   0.0s\n",
      "[CV] max_depth=12, n_estimators=10 ...................................\n",
      "[CV] .... max_depth=12, n_estimators=10, score=-192.763, total=   0.0s\n",
      "[CV] max_depth=12, n_estimators=25 ...................................\n",
      "[CV] .... max_depth=12, n_estimators=25, score=-150.158, total=   0.1s\n",
      "[CV] max_depth=12, n_estimators=25 ...................................\n",
      "[CV] .... max_depth=12, n_estimators=25, score=-193.460, total=   0.0s\n",
      "[CV] max_depth=12, n_estimators=25 ...................................\n",
      "[CV] .... max_depth=12, n_estimators=25, score=-242.539, total=   0.1s\n",
      "[CV] max_depth=12, n_estimators=25 ...................................\n",
      "[CV] .... max_depth=12, n_estimators=25, score=-235.360, total=   0.1s\n",
      "[CV] max_depth=12, n_estimators=25 ...................................\n",
      "[CV] .... max_depth=12, n_estimators=25, score=-162.992, total=   0.1s\n",
      "[CV] max_depth=12, n_estimators=50 ...................................\n",
      "[CV] .... max_depth=12, n_estimators=50, score=-155.363, total=   0.1s\n",
      "[CV] max_depth=12, n_estimators=50 ...................................\n",
      "[CV] .... max_depth=12, n_estimators=50, score=-195.750, total=   0.1s\n",
      "[CV] max_depth=12, n_estimators=50 ...................................\n",
      "[CV] .... max_depth=12, n_estimators=50, score=-230.688, total=   0.1s\n",
      "[CV] max_depth=12, n_estimators=50 ...................................\n",
      "[CV] .... max_depth=12, n_estimators=50, score=-235.270, total=   0.1s\n",
      "[CV] max_depth=12, n_estimators=50 ...................................\n",
      "[CV] .... max_depth=12, n_estimators=50, score=-162.822, total=   0.1s\n",
      "[CV] max_depth=12, n_estimators=75 ...................................\n",
      "[CV] .... max_depth=12, n_estimators=75, score=-133.887, total=   0.2s\n",
      "[CV] max_depth=12, n_estimators=75 ...................................\n",
      "[CV] .... max_depth=12, n_estimators=75, score=-197.733, total=   0.1s\n",
      "[CV] max_depth=12, n_estimators=75 ...................................\n",
      "[CV] .... max_depth=12, n_estimators=75, score=-224.386, total=   0.2s\n",
      "[CV] max_depth=12, n_estimators=75 ...................................\n",
      "[CV] .... max_depth=12, n_estimators=75, score=-233.777, total=   0.2s\n",
      "[CV] max_depth=12, n_estimators=75 ...................................\n",
      "[CV] .... max_depth=12, n_estimators=75, score=-168.949, total=   0.2s\n",
      "[CV] max_depth=12, n_estimators=100 ..................................\n",
      "[CV] ... max_depth=12, n_estimators=100, score=-152.035, total=   0.2s\n",
      "[CV] max_depth=12, n_estimators=100 ..................................\n",
      "[CV] ... max_depth=12, n_estimators=100, score=-191.504, total=   0.2s\n",
      "[CV] max_depth=12, n_estimators=100 ..................................\n",
      "[CV] ... max_depth=12, n_estimators=100, score=-217.770, total=   0.2s\n",
      "[CV] max_depth=12, n_estimators=100 ..................................\n",
      "[CV] ... max_depth=12, n_estimators=100, score=-224.539, total=   0.2s\n",
      "[CV] max_depth=12, n_estimators=100 ..................................\n",
      "[CV] ... max_depth=12, n_estimators=100, score=-174.874, total=   0.3s\n",
      "[CV] max_depth=17, n_estimators=10 ...................................\n",
      "[CV] .... max_depth=17, n_estimators=10, score=-125.361, total=   0.0s\n",
      "[CV] max_depth=17, n_estimators=10 ...................................\n",
      "[CV] .... max_depth=17, n_estimators=10, score=-185.546, total=   0.0s\n",
      "[CV] max_depth=17, n_estimators=10 ...................................\n",
      "[CV] .... max_depth=17, n_estimators=10, score=-220.209, total=   0.0s\n",
      "[CV] max_depth=17, n_estimators=10 ...................................\n",
      "[CV] .... max_depth=17, n_estimators=10, score=-226.695, total=   0.1s\n",
      "[CV] max_depth=17, n_estimators=10 ...................................\n",
      "[CV] .... max_depth=17, n_estimators=10, score=-190.456, total=   0.0s\n",
      "[CV] max_depth=17, n_estimators=25 ...................................\n",
      "[CV] .... max_depth=17, n_estimators=25, score=-122.991, total=   0.1s\n",
      "[CV] max_depth=17, n_estimators=25 ...................................\n",
      "[CV] .... max_depth=17, n_estimators=25, score=-206.153, total=   0.1s\n",
      "[CV] max_depth=17, n_estimators=25 ...................................\n",
      "[CV] .... max_depth=17, n_estimators=25, score=-206.630, total=   0.1s\n",
      "[CV] max_depth=17, n_estimators=25 ...................................\n",
      "[CV] .... max_depth=17, n_estimators=25, score=-228.783, total=   0.1s\n",
      "[CV] max_depth=17, n_estimators=25 ...................................\n",
      "[CV] .... max_depth=17, n_estimators=25, score=-170.522, total=   0.1s\n",
      "[CV] max_depth=17, n_estimators=50 ...................................\n",
      "[CV] .... max_depth=17, n_estimators=50, score=-140.301, total=   0.1s\n",
      "[CV] max_depth=17, n_estimators=50 ...................................\n",
      "[CV] .... max_depth=17, n_estimators=50, score=-220.891, total=   0.1s\n",
      "[CV] max_depth=17, n_estimators=50 ...................................\n",
      "[CV] .... max_depth=17, n_estimators=50, score=-229.624, total=   0.1s\n",
      "[CV] max_depth=17, n_estimators=50 ...................................\n",
      "[CV] .... max_depth=17, n_estimators=50, score=-230.686, total=   0.1s\n",
      "[CV] max_depth=17, n_estimators=50 ...................................\n",
      "[CV] .... max_depth=17, n_estimators=50, score=-170.534, total=   0.1s\n",
      "[CV] max_depth=17, n_estimators=75 ...................................\n",
      "[CV] .... max_depth=17, n_estimators=75, score=-158.927, total=   0.2s\n",
      "[CV] max_depth=17, n_estimators=75 ...................................\n",
      "[CV] .... max_depth=17, n_estimators=75, score=-197.843, total=   0.2s\n",
      "[CV] max_depth=17, n_estimators=75 ...................................\n",
      "[CV] .... max_depth=17, n_estimators=75, score=-212.824, total=   0.1s\n",
      "[CV] max_depth=17, n_estimators=75 ...................................\n",
      "[CV] .... max_depth=17, n_estimators=75, score=-237.291, total=   0.2s\n",
      "[CV] max_depth=17, n_estimators=75 ...................................\n",
      "[CV] .... max_depth=17, n_estimators=75, score=-173.480, total=   0.2s\n",
      "[CV] max_depth=17, n_estimators=100 ..................................\n",
      "[CV] ... max_depth=17, n_estimators=100, score=-144.750, total=   0.2s\n",
      "[CV] max_depth=17, n_estimators=100 ..................................\n",
      "[CV] ... max_depth=17, n_estimators=100, score=-209.132, total=   0.2s\n",
      "[CV] max_depth=17, n_estimators=100 ..................................\n",
      "[CV] ... max_depth=17, n_estimators=100, score=-215.746, total=   0.2s\n",
      "[CV] max_depth=17, n_estimators=100 ..................................\n",
      "[CV] ... max_depth=17, n_estimators=100, score=-235.443, total=   0.2s\n",
      "[CV] max_depth=17, n_estimators=100 ..................................\n",
      "[CV] ... max_depth=17, n_estimators=100, score=-174.892, total=   0.2s\n",
      "[CV] max_depth=25, n_estimators=10 ...................................\n",
      "[CV] .... max_depth=25, n_estimators=10, score=-148.066, total=   0.0s\n",
      "[CV] max_depth=25, n_estimators=10 ...................................\n",
      "[CV] .... max_depth=25, n_estimators=10, score=-201.196, total=   0.0s\n",
      "[CV] max_depth=25, n_estimators=10 ...................................\n",
      "[CV] .... max_depth=25, n_estimators=10, score=-212.292, total=   0.0s\n",
      "[CV] max_depth=25, n_estimators=10 ...................................\n",
      "[CV] .... max_depth=25, n_estimators=10, score=-224.544, total=   0.0s\n",
      "[CV] max_depth=25, n_estimators=10 ...................................\n",
      "[CV] .... max_depth=25, n_estimators=10, score=-157.748, total=   0.0s\n",
      "[CV] max_depth=25, n_estimators=25 ...................................\n",
      "[CV] .... max_depth=25, n_estimators=25, score=-151.427, total=   0.1s\n",
      "[CV] max_depth=25, n_estimators=25 ...................................\n",
      "[CV] .... max_depth=25, n_estimators=25, score=-173.198, total=   0.1s\n",
      "[CV] max_depth=25, n_estimators=25 ...................................\n",
      "[CV] .... max_depth=25, n_estimators=25, score=-221.751, total=   0.1s\n",
      "[CV] max_depth=25, n_estimators=25 ...................................\n",
      "[CV] .... max_depth=25, n_estimators=25, score=-231.319, total=   0.1s\n",
      "[CV] max_depth=25, n_estimators=25 ...................................\n",
      "[CV] .... max_depth=25, n_estimators=25, score=-170.038, total=   0.0s\n",
      "[CV] max_depth=25, n_estimators=50 ...................................\n",
      "[CV] .... max_depth=25, n_estimators=50, score=-126.467, total=   0.1s\n",
      "[CV] max_depth=25, n_estimators=50 ...................................\n",
      "[CV] .... max_depth=25, n_estimators=50, score=-198.127, total=   0.1s\n",
      "[CV] max_depth=25, n_estimators=50 ...................................\n",
      "[CV] .... max_depth=25, n_estimators=50, score=-220.932, total=   0.1s\n",
      "[CV] max_depth=25, n_estimators=50 ...................................\n",
      "[CV] .... max_depth=25, n_estimators=50, score=-227.757, total=   0.1s\n",
      "[CV] max_depth=25, n_estimators=50 ...................................\n",
      "[CV] .... max_depth=25, n_estimators=50, score=-169.975, total=   0.1s\n",
      "[CV] max_depth=25, n_estimators=75 ...................................\n",
      "[CV] .... max_depth=25, n_estimators=75, score=-141.391, total=   0.1s\n",
      "[CV] max_depth=25, n_estimators=75 ...................................\n",
      "[CV] .... max_depth=25, n_estimators=75, score=-193.101, total=   0.1s\n",
      "[CV] max_depth=25, n_estimators=75 ...................................\n",
      "[CV] .... max_depth=25, n_estimators=75, score=-218.243, total=   0.1s\n",
      "[CV] max_depth=25, n_estimators=75 ...................................\n",
      "[CV] .... max_depth=25, n_estimators=75, score=-229.107, total=   0.1s\n",
      "[CV] max_depth=25, n_estimators=75 ...................................\n",
      "[CV] .... max_depth=25, n_estimators=75, score=-173.067, total=   0.1s\n",
      "[CV] max_depth=25, n_estimators=100 ..................................\n",
      "[CV] ... max_depth=25, n_estimators=100, score=-156.382, total=   0.2s\n",
      "[CV] max_depth=25, n_estimators=100 ..................................\n",
      "[CV] ... max_depth=25, n_estimators=100, score=-208.050, total=   0.2s\n",
      "[CV] max_depth=25, n_estimators=100 ..................................\n",
      "[CV] ... max_depth=25, n_estimators=100, score=-217.179, total=   0.2s\n",
      "[CV] max_depth=25, n_estimators=100 ..................................\n",
      "[CV] ... max_depth=25, n_estimators=100, score=-230.297, total=   0.2s\n",
      "[CV] max_depth=25, n_estimators=100 ..................................\n",
      "[CV] ... max_depth=25, n_estimators=100, score=-164.164, total=   0.2s\n",
      "[CV] max_depth=30, n_estimators=10 ...................................\n",
      "[CV] .... max_depth=30, n_estimators=10, score=-135.773, total=   0.0s\n",
      "[CV] max_depth=30, n_estimators=10 ...................................\n",
      "[CV] .... max_depth=30, n_estimators=10, score=-219.927, total=   0.0s\n",
      "[CV] max_depth=30, n_estimators=10 ...................................\n",
      "[CV] .... max_depth=30, n_estimators=10, score=-263.130, total=   0.0s\n",
      "[CV] max_depth=30, n_estimators=10 ...................................\n",
      "[CV] .... max_depth=30, n_estimators=10, score=-195.085, total=   0.0s\n",
      "[CV] max_depth=30, n_estimators=10 ...................................\n",
      "[CV] .... max_depth=30, n_estimators=10, score=-182.160, total=   0.0s\n",
      "[CV] max_depth=30, n_estimators=25 ...................................\n",
      "[CV] .... max_depth=30, n_estimators=25, score=-154.358, total=   0.0s\n",
      "[CV] max_depth=30, n_estimators=25 ...................................\n",
      "[CV] .... max_depth=30, n_estimators=25, score=-186.332, total=   0.1s\n",
      "[CV] max_depth=30, n_estimators=25 ...................................\n",
      "[CV] .... max_depth=30, n_estimators=25, score=-212.875, total=   0.1s\n",
      "[CV] max_depth=30, n_estimators=25 ...................................\n",
      "[CV] .... max_depth=30, n_estimators=25, score=-216.596, total=   0.1s\n",
      "[CV] max_depth=30, n_estimators=25 ...................................\n",
      "[CV] .... max_depth=30, n_estimators=25, score=-170.484, total=   0.1s\n",
      "[CV] max_depth=30, n_estimators=50 ...................................\n",
      "[CV] .... max_depth=30, n_estimators=50, score=-155.604, total=   0.2s\n",
      "[CV] max_depth=30, n_estimators=50 ...................................\n",
      "[CV] .... max_depth=30, n_estimators=50, score=-207.565, total=   0.1s\n",
      "[CV] max_depth=30, n_estimators=50 ...................................\n",
      "[CV] .... max_depth=30, n_estimators=50, score=-226.993, total=   0.1s\n",
      "[CV] max_depth=30, n_estimators=50 ...................................\n",
      "[CV] .... max_depth=30, n_estimators=50, score=-237.834, total=   0.1s\n",
      "[CV] max_depth=30, n_estimators=50 ...................................\n",
      "[CV] .... max_depth=30, n_estimators=50, score=-182.042, total=   0.1s\n",
      "[CV] max_depth=30, n_estimators=75 ...................................\n",
      "[CV] .... max_depth=30, n_estimators=75, score=-147.860, total=   0.2s\n",
      "[CV] max_depth=30, n_estimators=75 ...................................\n",
      "[CV] .... max_depth=30, n_estimators=75, score=-192.319, total=   0.2s\n",
      "[CV] max_depth=30, n_estimators=75 ...................................\n",
      "[CV] .... max_depth=30, n_estimators=75, score=-235.729, total=   0.2s\n",
      "[CV] max_depth=30, n_estimators=75 ...................................\n",
      "[CV] .... max_depth=30, n_estimators=75, score=-237.171, total=   0.2s\n",
      "[CV] max_depth=30, n_estimators=75 ...................................\n",
      "[CV] .... max_depth=30, n_estimators=75, score=-169.595, total=   0.2s\n",
      "[CV] max_depth=30, n_estimators=100 ..................................\n",
      "[CV] ... max_depth=30, n_estimators=100, score=-152.821, total=   0.2s\n",
      "[CV] max_depth=30, n_estimators=100 ..................................\n",
      "[CV] ... max_depth=30, n_estimators=100, score=-211.430, total=   0.2s\n",
      "[CV] max_depth=30, n_estimators=100 ..................................\n",
      "[CV] ... max_depth=30, n_estimators=100, score=-221.141, total=   0.2s\n",
      "[CV] max_depth=30, n_estimators=100 ..................................\n",
      "[CV] ... max_depth=30, n_estimators=100, score=-243.337, total=   0.2s\n",
      "[CV] max_depth=30, n_estimators=100 ..................................\n",
      "[CV] ... max_depth=30, n_estimators=100, score=-164.208, total=   0.2s\n"
     ]
    },
    {
     "name": "stderr",
     "output_type": "stream",
     "text": [
      "[Parallel(n_jobs=1)]: Done 150 out of 150 | elapsed:   16.6s finished\n"
     ]
    },
    {
     "data": {
      "text/plain": [
       "GridSearchCV(estimator=RandomForestRegressor(),\n",
       "             param_grid={'max_depth': [5, 7, 12, 17, 25, 30],\n",
       "                         'n_estimators': [10, 25, 50, 75, 100]},\n",
       "             scoring='neg_mean_absolute_error', verbose=3)"
      ]
     },
     "execution_count": 342,
     "metadata": {},
     "output_type": "execute_result"
    }
   ],
   "source": [
    "### Fine tuning random forest\n",
    "from sklearn.model_selection import GridSearchCV\n",
    "randomForest_tune = RandomForestRegressor()\n",
    "parameters = {'n_estimators': [10, 25, 50, 75, 100], 'max_depth': [5, 7, 12, 17, 25, 30]}\n",
    "clf = GridSearchCV(randomForest_tune, parameters, verbose = 3, scoring = 'neg_mean_absolute_error')\n",
    "\n",
    "clf.fit(df_agg_merge_producer_train, df_agg_merge_producer_target)"
   ]
  },
  {
   "cell_type": "code",
   "execution_count": 343,
   "id": "silver-enhancement",
   "metadata": {},
   "outputs": [
    {
     "name": "stdout",
     "output_type": "stream",
     "text": [
      "{'max_depth': 17, 'n_estimators': 25}\n",
      "-187.01592038095237\n"
     ]
    }
   ],
   "source": [
    "print(clf.best_params_) \n",
    "print(clf.best_score_) "
   ]
  },
  {
   "cell_type": "code",
   "execution_count": 344,
   "id": "stock-siemens",
   "metadata": {
    "collapsed": true,
    "jupyter": {
     "outputs_hidden": true
    }
   },
   "outputs": [
    {
     "name": "stderr",
     "output_type": "stream",
     "text": [
      "[Parallel(n_jobs=1)]: Using backend SequentialBackend with 1 concurrent workers.\n",
      "[Parallel(n_jobs=1)]: Done   1 out of   1 | elapsed:    0.0s remaining:    0.0s\n",
      "[Parallel(n_jobs=1)]: Done   2 out of   2 | elapsed:    0.0s remaining:    0.0s\n"
     ]
    },
    {
     "name": "stdout",
     "output_type": "stream",
     "text": [
      "Fitting 5 folds for each of 60 candidates, totalling 300 fits\n",
      "[CV] learning_rate=0.01, max_depth=2, n_estimators=5 .................\n",
      "[CV]  learning_rate=0.01, max_depth=2, n_estimators=5, score=-284.464, total=   0.0s\n",
      "[CV] learning_rate=0.01, max_depth=2, n_estimators=5 .................\n",
      "[CV]  learning_rate=0.01, max_depth=2, n_estimators=5, score=-313.685, total=   0.0s\n",
      "[CV] learning_rate=0.01, max_depth=2, n_estimators=5 .................\n",
      "[CV]  learning_rate=0.01, max_depth=2, n_estimators=5, score=-389.112, total=   0.0s\n",
      "[CV] learning_rate=0.01, max_depth=2, n_estimators=5 .................\n",
      "[CV]  learning_rate=0.01, max_depth=2, n_estimators=5, score=-400.680, total=   0.0s\n",
      "[CV] learning_rate=0.01, max_depth=2, n_estimators=5 .................\n",
      "[CV]  learning_rate=0.01, max_depth=2, n_estimators=5, score=-245.716, total=   0.0s\n",
      "[CV] learning_rate=0.01, max_depth=2, n_estimators=10 ................\n",
      "[CV]  learning_rate=0.01, max_depth=2, n_estimators=10, score=-279.178, total=   0.0s\n",
      "[CV] learning_rate=0.01, max_depth=2, n_estimators=10 ................\n",
      "[CV]  learning_rate=0.01, max_depth=2, n_estimators=10, score=-310.404, total=   0.0s\n",
      "[CV] learning_rate=0.01, max_depth=2, n_estimators=10 ................\n",
      "[CV]  learning_rate=0.01, max_depth=2, n_estimators=10, score=-382.424, total=   0.0s\n",
      "[CV] learning_rate=0.01, max_depth=2, n_estimators=10 ................\n",
      "[CV]  learning_rate=0.01, max_depth=2, n_estimators=10, score=-385.705, total=   0.0s\n",
      "[CV] learning_rate=0.01, max_depth=2, n_estimators=10 ................\n",
      "[CV]  learning_rate=0.01, max_depth=2, n_estimators=10, score=-241.470, total=   0.0s\n",
      "[CV] learning_rate=0.01, max_depth=2, n_estimators=25 ................\n",
      "[CV]  learning_rate=0.01, max_depth=2, n_estimators=25, score=-264.561, total=   0.0s\n",
      "[CV] learning_rate=0.01, max_depth=2, n_estimators=25 ................\n",
      "[CV]  learning_rate=0.01, max_depth=2, n_estimators=25, score=-299.938, total=   0.0s\n",
      "[CV] learning_rate=0.01, max_depth=2, n_estimators=25 ................\n",
      "[CV]  learning_rate=0.01, max_depth=2, n_estimators=25, score=-363.349, total=   0.0s\n",
      "[CV] learning_rate=0.01, max_depth=2, n_estimators=25 ................\n",
      "[CV]  learning_rate=0.01, max_depth=2, n_estimators=25, score=-349.812, total=   0.0s\n",
      "[CV] learning_rate=0.01, max_depth=2, n_estimators=25 ................\n",
      "[CV]  learning_rate=0.01, max_depth=2, n_estimators=25, score=-226.439, total=   0.0s\n",
      "[CV] learning_rate=0.01, max_depth=2, n_estimators=50 ................\n",
      "[CV]  learning_rate=0.01, max_depth=2, n_estimators=50, score=-236.633, total=   0.0s\n",
      "[CV] learning_rate=0.01, max_depth=2, n_estimators=50 ................\n",
      "[CV]  learning_rate=0.01, max_depth=2, n_estimators=50, score=-281.720, total=   0.0s\n",
      "[CV] learning_rate=0.01, max_depth=2, n_estimators=50 ................\n",
      "[CV]  learning_rate=0.01, max_depth=2, n_estimators=50, score=-336.662, total=   0.0s\n",
      "[CV] learning_rate=0.01, max_depth=2, n_estimators=50 ................\n",
      "[CV]  learning_rate=0.01, max_depth=2, n_estimators=50, score=-313.260, total=   0.0s\n",
      "[CV] learning_rate=0.01, max_depth=2, n_estimators=50 ................\n",
      "[CV]  learning_rate=0.01, max_depth=2, n_estimators=50, score=-210.719, total=   0.0s\n",
      "[CV] learning_rate=0.01, max_depth=2, n_estimators=100 ...............\n",
      "[CV]  learning_rate=0.01, max_depth=2, n_estimators=100, score=-205.936, total=   0.1s\n",
      "[CV] learning_rate=0.01, max_depth=2, n_estimators=100 ...............\n",
      "[CV]  learning_rate=0.01, max_depth=2, n_estimators=100, score=-245.211, total=   0.0s\n",
      "[CV] learning_rate=0.01, max_depth=2, n_estimators=100 ...............\n",
      "[CV]  learning_rate=0.01, max_depth=2, n_estimators=100, score=-301.128, total=   0.0s\n",
      "[CV] learning_rate=0.01, max_depth=2, n_estimators=100 ...............\n",
      "[CV]  learning_rate=0.01, max_depth=2, n_estimators=100, score=-256.286, total=   0.0s\n",
      "[CV] learning_rate=0.01, max_depth=2, n_estimators=100 ...............\n",
      "[CV]  learning_rate=0.01, max_depth=2, n_estimators=100, score=-185.152, total=   0.0s\n",
      "[CV] learning_rate=0.01, max_depth=4, n_estimators=5 .................\n",
      "[CV]  learning_rate=0.01, max_depth=4, n_estimators=5, score=-281.843, total=   0.0s\n",
      "[CV] learning_rate=0.01, max_depth=4, n_estimators=5 .................\n",
      "[CV]  learning_rate=0.01, max_depth=4, n_estimators=5, score=-313.484, total=   0.0s\n",
      "[CV] learning_rate=0.01, max_depth=4, n_estimators=5 .................\n",
      "[CV]  learning_rate=0.01, max_depth=4, n_estimators=5, score=-385.941, total=   0.0s\n",
      "[CV] learning_rate=0.01, max_depth=4, n_estimators=5 .................\n",
      "[CV]  learning_rate=0.01, max_depth=4, n_estimators=5, score=-399.978, total=   0.0s\n",
      "[CV] learning_rate=0.01, max_depth=4, n_estimators=5 .................\n",
      "[CV]  learning_rate=0.01, max_depth=4, n_estimators=5, score=-245.610, total=   0.0s\n",
      "[CV] learning_rate=0.01, max_depth=4, n_estimators=10 ................\n",
      "[CV]  learning_rate=0.01, max_depth=4, n_estimators=10, score=-274.896, total=   0.0s\n",
      "[CV] learning_rate=0.01, max_depth=4, n_estimators=10 ................\n",
      "[CV]  learning_rate=0.01, max_depth=4, n_estimators=10, score=-309.684, total=   0.0s\n",
      "[CV] learning_rate=0.01, max_depth=4, n_estimators=10 ................\n",
      "[CV]  learning_rate=0.01, max_depth=4, n_estimators=10, score=-373.168, total=   0.0s\n",
      "[CV] learning_rate=0.01, max_depth=4, n_estimators=10 ................\n",
      "[CV]  learning_rate=0.01, max_depth=4, n_estimators=10, score=-379.680, total=   0.0s\n",
      "[CV] learning_rate=0.01, max_depth=4, n_estimators=10 ................\n",
      "[CV]  learning_rate=0.01, max_depth=4, n_estimators=10, score=-241.301, total=   0.0s\n",
      "[CV] learning_rate=0.01, max_depth=4, n_estimators=25 ................\n",
      "[CV]  learning_rate=0.01, max_depth=4, n_estimators=25, score=-256.617, total=   0.0s\n",
      "[CV] learning_rate=0.01, max_depth=4, n_estimators=25 ................\n",
      "[CV]  learning_rate=0.01, max_depth=4, n_estimators=25, score=-299.048, total=   0.0s\n",
      "[CV] learning_rate=0.01, max_depth=4, n_estimators=25 ................\n",
      "[CV]  learning_rate=0.01, max_depth=4, n_estimators=25, score=-344.565, total=   0.0s\n",
      "[CV] learning_rate=0.01, max_depth=4, n_estimators=25 ................\n",
      "[CV]  learning_rate=0.01, max_depth=4, n_estimators=25, score=-328.603, total=   0.0s\n",
      "[CV] learning_rate=0.01, max_depth=4, n_estimators=25 ................\n",
      "[CV]  learning_rate=0.01, max_depth=4, n_estimators=25, score=-228.207, total=   0.0s\n",
      "[CV] learning_rate=0.01, max_depth=4, n_estimators=50 ................\n",
      "[CV]  learning_rate=0.01, max_depth=4, n_estimators=50, score=-234.976, total=   0.0s\n",
      "[CV] learning_rate=0.01, max_depth=4, n_estimators=50 ................\n",
      "[CV]  learning_rate=0.01, max_depth=4, n_estimators=50, score=-279.381, total=   0.0s\n",
      "[CV] learning_rate=0.01, max_depth=4, n_estimators=50 ................\n",
      "[CV]  learning_rate=0.01, max_depth=4, n_estimators=50, score=-308.363, total=   0.0s\n",
      "[CV] learning_rate=0.01, max_depth=4, n_estimators=50 ................\n",
      "[CV]  learning_rate=0.01, max_depth=4, n_estimators=50, score=-279.513, total=   0.0s\n",
      "[CV] learning_rate=0.01, max_depth=4, n_estimators=50 ................\n",
      "[CV]  learning_rate=0.01, max_depth=4, n_estimators=50, score=-215.794, total=   0.0s\n",
      "[CV] learning_rate=0.01, max_depth=4, n_estimators=100 ...............\n",
      "[CV]  learning_rate=0.01, max_depth=4, n_estimators=100, score=-200.244, total=   0.1s\n",
      "[CV] learning_rate=0.01, max_depth=4, n_estimators=100 ...............\n",
      "[CV]  learning_rate=0.01, max_depth=4, n_estimators=100, score=-237.563, total=   0.1s\n",
      "[CV] learning_rate=0.01, max_depth=4, n_estimators=100 ...............\n",
      "[CV]  learning_rate=0.01, max_depth=4, n_estimators=100, score=-259.262, total=   0.1s\n",
      "[CV] learning_rate=0.01, max_depth=4, n_estimators=100 ...............\n",
      "[CV]  learning_rate=0.01, max_depth=4, n_estimators=100, score=-221.421, total=   0.1s\n",
      "[CV] learning_rate=0.01, max_depth=4, n_estimators=100 ...............\n",
      "[CV]  learning_rate=0.01, max_depth=4, n_estimators=100, score=-186.081, total=   0.1s\n",
      "[CV] learning_rate=0.01, max_depth=6, n_estimators=5 .................\n",
      "[CV]  learning_rate=0.01, max_depth=6, n_estimators=5, score=-278.680, total=   0.0s\n",
      "[CV] learning_rate=0.01, max_depth=6, n_estimators=5 .................\n",
      "[CV]  learning_rate=0.01, max_depth=6, n_estimators=5, score=-311.354, total=   0.0s\n",
      "[CV] learning_rate=0.01, max_depth=6, n_estimators=5 .................\n",
      "[CV]  learning_rate=0.01, max_depth=6, n_estimators=5, score=-385.220, total=   0.0s\n",
      "[CV] learning_rate=0.01, max_depth=6, n_estimators=5 .................\n",
      "[CV]  learning_rate=0.01, max_depth=6, n_estimators=5, score=-397.143, total=   0.0s\n",
      "[CV] learning_rate=0.01, max_depth=6, n_estimators=5 .................\n",
      "[CV]  learning_rate=0.01, max_depth=6, n_estimators=5, score=-245.161, total=   0.0s\n",
      "[CV] learning_rate=0.01, max_depth=6, n_estimators=10 ................\n",
      "[CV]  learning_rate=0.01, max_depth=6, n_estimators=10, score=-269.638, total=   0.0s\n",
      "[CV] learning_rate=0.01, max_depth=6, n_estimators=10 ................\n",
      "[CV]  learning_rate=0.01, max_depth=6, n_estimators=10, score=-306.144, total=   0.0s\n",
      "[CV] learning_rate=0.01, max_depth=6, n_estimators=10 ................\n",
      "[CV]  learning_rate=0.01, max_depth=6, n_estimators=10, score=-375.053, total=   0.0s\n",
      "[CV] learning_rate=0.01, max_depth=6, n_estimators=10 ................\n",
      "[CV]  learning_rate=0.01, max_depth=6, n_estimators=10, score=-378.162, total=   0.0s\n",
      "[CV] learning_rate=0.01, max_depth=6, n_estimators=10 ................\n",
      "[CV]  learning_rate=0.01, max_depth=6, n_estimators=10, score=-239.253, total=   0.0s\n",
      "[CV] learning_rate=0.01, max_depth=6, n_estimators=25 ................\n",
      "[CV]  learning_rate=0.01, max_depth=6, n_estimators=25, score=-249.590, total=   0.0s\n",
      "[CV] learning_rate=0.01, max_depth=6, n_estimators=25 ................\n",
      "[CV]  learning_rate=0.01, max_depth=6, n_estimators=25, score=-288.729, total=   0.0s\n",
      "[CV] learning_rate=0.01, max_depth=6, n_estimators=25 ................\n",
      "[CV]  learning_rate=0.01, max_depth=6, n_estimators=25, score=-342.178, total=   0.0s\n",
      "[CV] learning_rate=0.01, max_depth=6, n_estimators=25 ................\n",
      "[CV]  learning_rate=0.01, max_depth=6, n_estimators=25, score=-326.703, total=   0.0s\n",
      "[CV] learning_rate=0.01, max_depth=6, n_estimators=25 ................\n",
      "[CV]  learning_rate=0.01, max_depth=6, n_estimators=25, score=-229.687, total=   0.0s\n",
      "[CV] learning_rate=0.01, max_depth=6, n_estimators=50 ................\n",
      "[CV]  learning_rate=0.01, max_depth=6, n_estimators=50, score=-223.822, total=   0.0s\n",
      "[CV] learning_rate=0.01, max_depth=6, n_estimators=50 ................\n",
      "[CV]  learning_rate=0.01, max_depth=6, n_estimators=50, score=-265.220, total=   0.0s\n",
      "[CV] learning_rate=0.01, max_depth=6, n_estimators=50 ................\n",
      "[CV]  learning_rate=0.01, max_depth=6, n_estimators=50, score=-302.923, total=   0.0s\n",
      "[CV] learning_rate=0.01, max_depth=6, n_estimators=50 ................\n",
      "[CV]  learning_rate=0.01, max_depth=6, n_estimators=50, score=-272.761, total=   0.0s\n",
      "[CV] learning_rate=0.01, max_depth=6, n_estimators=50 ................\n",
      "[CV]  learning_rate=0.01, max_depth=6, n_estimators=50, score=-220.033, total=   0.0s\n",
      "[CV] learning_rate=0.01, max_depth=6, n_estimators=100 ...............\n",
      "[CV]  learning_rate=0.01, max_depth=6, n_estimators=100, score=-191.333, total=   0.1s\n",
      "[CV] learning_rate=0.01, max_depth=6, n_estimators=100 ...............\n",
      "[CV]  learning_rate=0.01, max_depth=6, n_estimators=100, score=-243.078, total=   0.1s\n",
      "[CV] learning_rate=0.01, max_depth=6, n_estimators=100 ...............\n",
      "[CV]  learning_rate=0.01, max_depth=6, n_estimators=100, score=-275.395, total=   0.1s\n",
      "[CV] learning_rate=0.01, max_depth=6, n_estimators=100 ...............\n",
      "[CV]  learning_rate=0.01, max_depth=6, n_estimators=100, score=-244.344, total=   0.1s\n",
      "[CV] learning_rate=0.01, max_depth=6, n_estimators=100 ...............\n",
      "[CV]  learning_rate=0.01, max_depth=6, n_estimators=100, score=-201.304, total=   0.1s\n",
      "[CV] learning_rate=0.01, max_depth=8, n_estimators=5 .................\n",
      "[CV]  learning_rate=0.01, max_depth=8, n_estimators=5, score=-278.176, total=   0.0s\n",
      "[CV] learning_rate=0.01, max_depth=8, n_estimators=5 .................\n",
      "[CV]  learning_rate=0.01, max_depth=8, n_estimators=5, score=-309.846, total=   0.0s\n",
      "[CV] learning_rate=0.01, max_depth=8, n_estimators=5 .................\n",
      "[CV]  learning_rate=0.01, max_depth=8, n_estimators=5, score=-385.548, total=   0.0s\n",
      "[CV] learning_rate=0.01, max_depth=8, n_estimators=5 .................\n",
      "[CV]  learning_rate=0.01, max_depth=8, n_estimators=5, score=-397.793, total=   0.0s\n",
      "[CV] learning_rate=0.01, max_depth=8, n_estimators=5 .................\n",
      "[CV]  learning_rate=0.01, max_depth=8, n_estimators=5, score=-244.262, total=   0.0s\n",
      "[CV] learning_rate=0.01, max_depth=8, n_estimators=10 ................\n",
      "[CV]  learning_rate=0.01, max_depth=8, n_estimators=10, score=-267.844, total=   0.0s\n",
      "[CV] learning_rate=0.01, max_depth=8, n_estimators=10 ................\n",
      "[CV]  learning_rate=0.01, max_depth=8, n_estimators=10, score=-305.748, total=   0.0s\n",
      "[CV] learning_rate=0.01, max_depth=8, n_estimators=10 ................\n",
      "[CV]  learning_rate=0.01, max_depth=8, n_estimators=10, score=-373.707, total=   0.0s\n",
      "[CV] learning_rate=0.01, max_depth=8, n_estimators=10 ................\n",
      "[CV]  learning_rate=0.01, max_depth=8, n_estimators=10, score=-381.152, total=   0.0s\n",
      "[CV] learning_rate=0.01, max_depth=8, n_estimators=10 ................\n",
      "[CV]  learning_rate=0.01, max_depth=8, n_estimators=10, score=-238.803, total=   0.0s\n",
      "[CV] learning_rate=0.01, max_depth=8, n_estimators=25 ................\n",
      "[CV]  learning_rate=0.01, max_depth=8, n_estimators=25, score=-237.568, total=   0.0s\n",
      "[CV] learning_rate=0.01, max_depth=8, n_estimators=25 ................\n",
      "[CV]  learning_rate=0.01, max_depth=8, n_estimators=25, score=-291.376, total=   0.0s\n",
      "[CV] learning_rate=0.01, max_depth=8, n_estimators=25 ................\n",
      "[CV]  learning_rate=0.01, max_depth=8, n_estimators=25, score=-344.975, total=   0.0s\n",
      "[CV] learning_rate=0.01, max_depth=8, n_estimators=25 ................\n",
      "[CV]  learning_rate=0.01, max_depth=8, n_estimators=25, score=-327.274, total=   0.0s\n",
      "[CV] learning_rate=0.01, max_depth=8, n_estimators=25 ................\n",
      "[CV]  learning_rate=0.01, max_depth=8, n_estimators=25, score=-229.832, total=   0.0s\n",
      "[CV] learning_rate=0.01, max_depth=8, n_estimators=50 ................\n",
      "[CV]  learning_rate=0.01, max_depth=8, n_estimators=50, score=-203.998, total=   0.0s\n",
      "[CV] learning_rate=0.01, max_depth=8, n_estimators=50 ................\n",
      "[CV]  learning_rate=0.01, max_depth=8, n_estimators=50, score=-266.540, total=   0.0s\n",
      "[CV] learning_rate=0.01, max_depth=8, n_estimators=50 ................\n",
      "[CV]  learning_rate=0.01, max_depth=8, n_estimators=50, score=-304.402, total=   0.0s\n",
      "[CV] learning_rate=0.01, max_depth=8, n_estimators=50 ................\n",
      "[CV]  learning_rate=0.01, max_depth=8, n_estimators=50, score=-277.827, total=   0.0s\n",
      "[CV] learning_rate=0.01, max_depth=8, n_estimators=50 ................\n",
      "[CV]  learning_rate=0.01, max_depth=8, n_estimators=50, score=-220.186, total=   0.0s\n",
      "[CV] learning_rate=0.01, max_depth=8, n_estimators=100 ...............\n",
      "[CV]  learning_rate=0.01, max_depth=8, n_estimators=100, score=-184.437, total=   0.1s\n",
      "[CV] learning_rate=0.01, max_depth=8, n_estimators=100 ...............\n",
      "[CV]  learning_rate=0.01, max_depth=8, n_estimators=100, score=-247.632, total=   0.1s\n",
      "[CV] learning_rate=0.01, max_depth=8, n_estimators=100 ...............\n",
      "[CV]  learning_rate=0.01, max_depth=8, n_estimators=100, score=-251.098, total=   0.1s\n",
      "[CV] learning_rate=0.01, max_depth=8, n_estimators=100 ...............\n",
      "[CV]  learning_rate=0.01, max_depth=8, n_estimators=100, score=-240.711, total=   0.1s\n",
      "[CV] learning_rate=0.01, max_depth=8, n_estimators=100 ...............\n",
      "[CV]  learning_rate=0.01, max_depth=8, n_estimators=100, score=-209.234, total=   0.1s\n",
      "[CV] learning_rate=0.1, max_depth=2, n_estimators=5 ..................\n",
      "[CV]  learning_rate=0.1, max_depth=2, n_estimators=5, score=-233.609, total=   0.0s\n",
      "[CV] learning_rate=0.1, max_depth=2, n_estimators=5 ..................\n",
      "[CV]  learning_rate=0.1, max_depth=2, n_estimators=5, score=-279.569, total=   0.0s\n",
      "[CV] learning_rate=0.1, max_depth=2, n_estimators=5 ..................\n",
      "[CV]  learning_rate=0.1, max_depth=2, n_estimators=5, score=-338.717, total=   0.0s\n",
      "[CV] learning_rate=0.1, max_depth=2, n_estimators=5 ..................\n",
      "[CV]  learning_rate=0.1, max_depth=2, n_estimators=5, score=-307.371, total=   0.0s\n",
      "[CV] learning_rate=0.1, max_depth=2, n_estimators=5 ..................\n",
      "[CV]  learning_rate=0.1, max_depth=2, n_estimators=5, score=-208.022, total=   0.0s\n",
      "[CV] learning_rate=0.1, max_depth=2, n_estimators=10 .................\n",
      "[CV]  learning_rate=0.1, max_depth=2, n_estimators=10, score=-211.343, total=   0.0s\n",
      "[CV] learning_rate=0.1, max_depth=2, n_estimators=10 .................\n",
      "[CV]  learning_rate=0.1, max_depth=2, n_estimators=10, score=-249.282, total=   0.0s\n",
      "[CV] learning_rate=0.1, max_depth=2, n_estimators=10 .................\n",
      "[CV]  learning_rate=0.1, max_depth=2, n_estimators=10, score=-296.910, total=   0.0s\n",
      "[CV] learning_rate=0.1, max_depth=2, n_estimators=10 .................\n",
      "[CV]  learning_rate=0.1, max_depth=2, n_estimators=10, score=-258.035, total=   0.0s\n",
      "[CV] learning_rate=0.1, max_depth=2, n_estimators=10 .................\n",
      "[CV]  learning_rate=0.1, max_depth=2, n_estimators=10, score=-179.346, total=   0.0s\n",
      "[CV] learning_rate=0.1, max_depth=2, n_estimators=25 .................\n",
      "[CV]  learning_rate=0.1, max_depth=2, n_estimators=25, score=-171.452, total=   0.0s\n",
      "[CV] learning_rate=0.1, max_depth=2, n_estimators=25 .................\n",
      "[CV]  learning_rate=0.1, max_depth=2, n_estimators=25, score=-231.116, total=   0.0s\n",
      "[CV] learning_rate=0.1, max_depth=2, n_estimators=25 .................\n",
      "[CV]  learning_rate=0.1, max_depth=2, n_estimators=25, score=-234.328, total=   0.0s\n",
      "[CV] learning_rate=0.1, max_depth=2, n_estimators=25 .................\n",
      "[CV]  learning_rate=0.1, max_depth=2, n_estimators=25, score=-236.902, total=   0.0s\n",
      "[CV] learning_rate=0.1, max_depth=2, n_estimators=25 .................\n",
      "[CV]  learning_rate=0.1, max_depth=2, n_estimators=25, score=-155.554, total=   0.0s\n",
      "[CV] learning_rate=0.1, max_depth=2, n_estimators=50 .................\n",
      "[CV]  learning_rate=0.1, max_depth=2, n_estimators=50, score=-144.643, total=   0.0s\n",
      "[CV] learning_rate=0.1, max_depth=2, n_estimators=50 .................\n",
      "[CV]  learning_rate=0.1, max_depth=2, n_estimators=50, score=-226.551, total=   0.0s\n",
      "[CV] learning_rate=0.1, max_depth=2, n_estimators=50 .................\n",
      "[CV]  learning_rate=0.1, max_depth=2, n_estimators=50, score=-201.171, total=   0.0s\n",
      "[CV] learning_rate=0.1, max_depth=2, n_estimators=50 .................\n",
      "[CV]  learning_rate=0.1, max_depth=2, n_estimators=50, score=-237.262, total=   0.0s\n",
      "[CV] learning_rate=0.1, max_depth=2, n_estimators=50 .................\n",
      "[CV]  learning_rate=0.1, max_depth=2, n_estimators=50, score=-146.058, total=   0.0s\n",
      "[CV] learning_rate=0.1, max_depth=2, n_estimators=100 ................\n",
      "[CV]  learning_rate=0.1, max_depth=2, n_estimators=100, score=-158.632, total=   0.1s\n",
      "[CV] learning_rate=0.1, max_depth=2, n_estimators=100 ................\n",
      "[CV]  learning_rate=0.1, max_depth=2, n_estimators=100, score=-246.191, total=   0.1s\n",
      "[CV] learning_rate=0.1, max_depth=2, n_estimators=100 ................\n",
      "[CV]  learning_rate=0.1, max_depth=2, n_estimators=100, score=-207.235, total=   0.0s\n",
      "[CV] learning_rate=0.1, max_depth=2, n_estimators=100 ................\n",
      "[CV]  learning_rate=0.1, max_depth=2, n_estimators=100, score=-256.637, total=   0.0s\n",
      "[CV] learning_rate=0.1, max_depth=2, n_estimators=100 ................\n",
      "[CV]  learning_rate=0.1, max_depth=2, n_estimators=100, score=-160.090, total=   0.0s\n",
      "[CV] learning_rate=0.1, max_depth=4, n_estimators=5 ..................\n",
      "[CV]  learning_rate=0.1, max_depth=4, n_estimators=5, score=-229.092, total=   0.0s\n",
      "[CV] learning_rate=0.1, max_depth=4, n_estimators=5 ..................\n",
      "[CV]  learning_rate=0.1, max_depth=4, n_estimators=5, score=-279.060, total=   0.0s\n",
      "[CV] learning_rate=0.1, max_depth=4, n_estimators=5 ..................\n",
      "[CV]  learning_rate=0.1, max_depth=4, n_estimators=5, score=-307.441, total=   0.0s\n",
      "[CV] learning_rate=0.1, max_depth=4, n_estimators=5 ..................\n",
      "[CV]  learning_rate=0.1, max_depth=4, n_estimators=5, score=-281.661, total=   0.0s\n",
      "[CV] learning_rate=0.1, max_depth=4, n_estimators=5 ..................\n",
      "[CV]  learning_rate=0.1, max_depth=4, n_estimators=5, score=-218.561, total=   0.0s\n",
      "[CV] learning_rate=0.1, max_depth=4, n_estimators=10 .................\n",
      "[CV]  learning_rate=0.1, max_depth=4, n_estimators=10, score=-197.537, total=   0.0s\n",
      "[CV] learning_rate=0.1, max_depth=4, n_estimators=10 .................\n",
      "[CV]  learning_rate=0.1, max_depth=4, n_estimators=10, score=-236.432, total=   0.0s\n",
      "[CV] learning_rate=0.1, max_depth=4, n_estimators=10 .................\n",
      "[CV]  learning_rate=0.1, max_depth=4, n_estimators=10, score=-248.356, total=   0.0s\n",
      "[CV] learning_rate=0.1, max_depth=4, n_estimators=10 .................\n",
      "[CV]  learning_rate=0.1, max_depth=4, n_estimators=10, score=-230.056, total=   0.0s\n",
      "[CV] learning_rate=0.1, max_depth=4, n_estimators=10 .................\n",
      "[CV]  learning_rate=0.1, max_depth=4, n_estimators=10, score=-177.997, total=   0.0s\n",
      "[CV] learning_rate=0.1, max_depth=4, n_estimators=25 .................\n",
      "[CV]  learning_rate=0.1, max_depth=4, n_estimators=25, score=-162.355, total=   0.0s\n",
      "[CV] learning_rate=0.1, max_depth=4, n_estimators=25 .................\n",
      "[CV]  learning_rate=0.1, max_depth=4, n_estimators=25, score=-217.826, total=   0.0s\n",
      "[CV] learning_rate=0.1, max_depth=4, n_estimators=25 .................\n",
      "[CV]  learning_rate=0.1, max_depth=4, n_estimators=25, score=-226.786, total=   0.0s\n",
      "[CV] learning_rate=0.1, max_depth=4, n_estimators=25 .................\n",
      "[CV]  learning_rate=0.1, max_depth=4, n_estimators=25, score=-246.817, total=   0.0s\n",
      "[CV] learning_rate=0.1, max_depth=4, n_estimators=25 .................\n",
      "[CV]  learning_rate=0.1, max_depth=4, n_estimators=25, score=-177.142, total=   0.0s\n",
      "[CV] learning_rate=0.1, max_depth=4, n_estimators=50 .................\n",
      "[CV]  learning_rate=0.1, max_depth=4, n_estimators=50, score=-155.818, total=   0.0s\n",
      "[CV] learning_rate=0.1, max_depth=4, n_estimators=50 .................\n",
      "[CV]  learning_rate=0.1, max_depth=4, n_estimators=50, score=-212.293, total=   0.0s\n",
      "[CV] learning_rate=0.1, max_depth=4, n_estimators=50 .................\n",
      "[CV]  learning_rate=0.1, max_depth=4, n_estimators=50, score=-229.438, total=   0.0s\n",
      "[CV] learning_rate=0.1, max_depth=4, n_estimators=50 .................\n",
      "[CV]  learning_rate=0.1, max_depth=4, n_estimators=50, score=-251.555, total=   0.0s\n",
      "[CV] learning_rate=0.1, max_depth=4, n_estimators=50 .................\n",
      "[CV]  learning_rate=0.1, max_depth=4, n_estimators=50, score=-180.769, total=   0.0s\n",
      "[CV] learning_rate=0.1, max_depth=4, n_estimators=100 ................\n",
      "[CV]  learning_rate=0.1, max_depth=4, n_estimators=100, score=-148.364, total=   0.1s\n",
      "[CV] learning_rate=0.1, max_depth=4, n_estimators=100 ................\n",
      "[CV]  learning_rate=0.1, max_depth=4, n_estimators=100, score=-213.287, total=   0.1s\n",
      "[CV] learning_rate=0.1, max_depth=4, n_estimators=100 ................\n",
      "[CV]  learning_rate=0.1, max_depth=4, n_estimators=100, score=-219.214, total=   0.1s\n",
      "[CV] learning_rate=0.1, max_depth=4, n_estimators=100 ................\n",
      "[CV]  learning_rate=0.1, max_depth=4, n_estimators=100, score=-240.141, total=   0.1s\n",
      "[CV] learning_rate=0.1, max_depth=4, n_estimators=100 ................\n",
      "[CV]  learning_rate=0.1, max_depth=4, n_estimators=100, score=-186.040, total=   0.1s\n",
      "[CV] learning_rate=0.1, max_depth=6, n_estimators=5 ..................\n",
      "[CV]  learning_rate=0.1, max_depth=6, n_estimators=5, score=-215.388, total=   0.0s\n",
      "[CV] learning_rate=0.1, max_depth=6, n_estimators=5 ..................\n",
      "[CV]  learning_rate=0.1, max_depth=6, n_estimators=5, score=-260.420, total=   0.0s\n",
      "[CV] learning_rate=0.1, max_depth=6, n_estimators=5 ..................\n",
      "[CV]  learning_rate=0.1, max_depth=6, n_estimators=5, score=-303.664, total=   0.0s\n",
      "[CV] learning_rate=0.1, max_depth=6, n_estimators=5 ..................\n",
      "[CV]  learning_rate=0.1, max_depth=6, n_estimators=5, score=-261.976, total=   0.0s\n",
      "[CV] learning_rate=0.1, max_depth=6, n_estimators=5 ..................\n",
      "[CV]  learning_rate=0.1, max_depth=6, n_estimators=5, score=-212.843, total=   0.0s\n",
      "[CV] learning_rate=0.1, max_depth=6, n_estimators=10 .................\n",
      "[CV]  learning_rate=0.1, max_depth=6, n_estimators=10, score=-182.996, total=   0.0s\n",
      "[CV] learning_rate=0.1, max_depth=6, n_estimators=10 .................\n",
      "[CV]  learning_rate=0.1, max_depth=6, n_estimators=10, score=-225.385, total=   0.0s\n",
      "[CV] learning_rate=0.1, max_depth=6, n_estimators=10 .................\n",
      "[CV]  learning_rate=0.1, max_depth=6, n_estimators=10, score=-262.160, total=   0.0s\n",
      "[CV] learning_rate=0.1, max_depth=6, n_estimators=10 .................\n",
      "[CV]  learning_rate=0.1, max_depth=6, n_estimators=10, score=-240.364, total=   0.0s\n",
      "[CV] learning_rate=0.1, max_depth=6, n_estimators=10 .................\n",
      "[CV]  learning_rate=0.1, max_depth=6, n_estimators=10, score=-199.672, total=   0.0s\n",
      "[CV] learning_rate=0.1, max_depth=6, n_estimators=25 .................\n",
      "[CV]  learning_rate=0.1, max_depth=6, n_estimators=25, score=-161.349, total=   0.0s\n",
      "[CV] learning_rate=0.1, max_depth=6, n_estimators=25 .................\n",
      "[CV]  learning_rate=0.1, max_depth=6, n_estimators=25, score=-231.132, total=   0.0s\n",
      "[CV] learning_rate=0.1, max_depth=6, n_estimators=25 .................\n",
      "[CV]  learning_rate=0.1, max_depth=6, n_estimators=25, score=-235.964, total=   0.0s\n",
      "[CV] learning_rate=0.1, max_depth=6, n_estimators=25 .................\n",
      "[CV]  learning_rate=0.1, max_depth=6, n_estimators=25, score=-237.408, total=   0.0s\n",
      "[CV] learning_rate=0.1, max_depth=6, n_estimators=25 .................\n",
      "[CV]  learning_rate=0.1, max_depth=6, n_estimators=25, score=-231.475, total=   0.0s\n",
      "[CV] learning_rate=0.1, max_depth=6, n_estimators=50 .................\n",
      "[CV]  learning_rate=0.1, max_depth=6, n_estimators=50, score=-152.248, total=   0.0s\n",
      "[CV] learning_rate=0.1, max_depth=6, n_estimators=50 .................\n",
      "[CV]  learning_rate=0.1, max_depth=6, n_estimators=50, score=-234.802, total=   0.0s\n",
      "[CV] learning_rate=0.1, max_depth=6, n_estimators=50 .................\n",
      "[CV]  learning_rate=0.1, max_depth=6, n_estimators=50, score=-243.674, total=   0.0s\n",
      "[CV] learning_rate=0.1, max_depth=6, n_estimators=50 .................\n",
      "[CV]  learning_rate=0.1, max_depth=6, n_estimators=50, score=-266.965, total=   0.0s\n",
      "[CV] learning_rate=0.1, max_depth=6, n_estimators=50 .................\n",
      "[CV]  learning_rate=0.1, max_depth=6, n_estimators=50, score=-235.096, total=   0.0s\n",
      "[CV] learning_rate=0.1, max_depth=6, n_estimators=100 ................\n",
      "[CV]  learning_rate=0.1, max_depth=6, n_estimators=100, score=-160.023, total=   0.1s\n",
      "[CV] learning_rate=0.1, max_depth=6, n_estimators=100 ................\n",
      "[CV]  learning_rate=0.1, max_depth=6, n_estimators=100, score=-233.943, total=   0.1s\n",
      "[CV] learning_rate=0.1, max_depth=6, n_estimators=100 ................\n",
      "[CV]  learning_rate=0.1, max_depth=6, n_estimators=100, score=-241.439, total=   0.1s\n",
      "[CV] learning_rate=0.1, max_depth=6, n_estimators=100 ................\n",
      "[CV]  learning_rate=0.1, max_depth=6, n_estimators=100, score=-246.170, total=   0.1s\n",
      "[CV] learning_rate=0.1, max_depth=6, n_estimators=100 ................\n",
      "[CV]  learning_rate=0.1, max_depth=6, n_estimators=100, score=-224.756, total=   0.1s\n",
      "[CV] learning_rate=0.1, max_depth=8, n_estimators=5 ..................\n",
      "[CV]  learning_rate=0.1, max_depth=8, n_estimators=5, score=-200.356, total=   0.0s\n",
      "[CV] learning_rate=0.1, max_depth=8, n_estimators=5 ..................\n",
      "[CV]  learning_rate=0.1, max_depth=8, n_estimators=5, score=-275.187, total=   0.0s\n",
      "[CV] learning_rate=0.1, max_depth=8, n_estimators=5 ..................\n",
      "[CV]  learning_rate=0.1, max_depth=8, n_estimators=5, score=-298.501, total=   0.0s\n",
      "[CV] learning_rate=0.1, max_depth=8, n_estimators=5 ..................\n",
      "[CV]  learning_rate=0.1, max_depth=8, n_estimators=5, score=-263.037, total=   0.0s\n",
      "[CV] learning_rate=0.1, max_depth=8, n_estimators=5 ..................\n",
      "[CV]  learning_rate=0.1, max_depth=8, n_estimators=5, score=-211.695, total=   0.0s\n",
      "[CV] learning_rate=0.1, max_depth=8, n_estimators=10 .................\n",
      "[CV]  learning_rate=0.1, max_depth=8, n_estimators=10, score=-176.330, total=   0.0s\n",
      "[CV] learning_rate=0.1, max_depth=8, n_estimators=10 .................\n",
      "[CV]  learning_rate=0.1, max_depth=8, n_estimators=10, score=-246.998, total=   0.0s\n",
      "[CV] learning_rate=0.1, max_depth=8, n_estimators=10 .................\n",
      "[CV]  learning_rate=0.1, max_depth=8, n_estimators=10, score=-260.379, total=   0.0s\n",
      "[CV] learning_rate=0.1, max_depth=8, n_estimators=10 .................\n",
      "[CV]  learning_rate=0.1, max_depth=8, n_estimators=10, score=-253.784, total=   0.0s\n",
      "[CV] learning_rate=0.1, max_depth=8, n_estimators=10 .................\n",
      "[CV]  learning_rate=0.1, max_depth=8, n_estimators=10, score=-205.481, total=   0.0s\n",
      "[CV] learning_rate=0.1, max_depth=8, n_estimators=25 .................\n",
      "[CV]  learning_rate=0.1, max_depth=8, n_estimators=25, score=-166.695, total=   0.0s\n",
      "[CV] learning_rate=0.1, max_depth=8, n_estimators=25 .................\n",
      "[CV]  learning_rate=0.1, max_depth=8, n_estimators=25, score=-252.025, total=   0.0s\n",
      "[CV] learning_rate=0.1, max_depth=8, n_estimators=25 .................\n",
      "[CV]  learning_rate=0.1, max_depth=8, n_estimators=25, score=-235.312, total=   0.0s\n",
      "[CV] learning_rate=0.1, max_depth=8, n_estimators=25 .................\n",
      "[CV]  learning_rate=0.1, max_depth=8, n_estimators=25, score=-259.603, total=   0.0s\n",
      "[CV] learning_rate=0.1, max_depth=8, n_estimators=25 .................\n",
      "[CV]  learning_rate=0.1, max_depth=8, n_estimators=25, score=-244.661, total=   0.0s\n",
      "[CV] learning_rate=0.1, max_depth=8, n_estimators=50 .................\n",
      "[CV]  learning_rate=0.1, max_depth=8, n_estimators=50, score=-158.192, total=   0.0s\n",
      "[CV] learning_rate=0.1, max_depth=8, n_estimators=50 .................\n",
      "[CV]  learning_rate=0.1, max_depth=8, n_estimators=50, score=-257.639, total=   0.0s\n",
      "[CV] learning_rate=0.1, max_depth=8, n_estimators=50 .................\n",
      "[CV]  learning_rate=0.1, max_depth=8, n_estimators=50, score=-231.278, total=   0.0s\n",
      "[CV] learning_rate=0.1, max_depth=8, n_estimators=50 .................\n",
      "[CV]  learning_rate=0.1, max_depth=8, n_estimators=50, score=-266.130, total=   0.0s\n",
      "[CV] learning_rate=0.1, max_depth=8, n_estimators=50 .................\n",
      "[CV]  learning_rate=0.1, max_depth=8, n_estimators=50, score=-250.785, total=   0.0s\n",
      "[CV] learning_rate=0.1, max_depth=8, n_estimators=100 ................\n",
      "[CV]  learning_rate=0.1, max_depth=8, n_estimators=100, score=-158.146, total=   0.1s\n",
      "[CV] learning_rate=0.1, max_depth=8, n_estimators=100 ................\n",
      "[CV]  learning_rate=0.1, max_depth=8, n_estimators=100, score=-252.982, total=   0.1s\n",
      "[CV] learning_rate=0.1, max_depth=8, n_estimators=100 ................\n",
      "[CV]  learning_rate=0.1, max_depth=8, n_estimators=100, score=-233.419, total=   0.1s\n",
      "[CV] learning_rate=0.1, max_depth=8, n_estimators=100 ................\n",
      "[CV]  learning_rate=0.1, max_depth=8, n_estimators=100, score=-277.658, total=   0.1s\n",
      "[CV] learning_rate=0.1, max_depth=8, n_estimators=100 ................\n",
      "[CV]  learning_rate=0.1, max_depth=8, n_estimators=100, score=-256.534, total=   0.1s\n",
      "[CV] learning_rate=0.3, max_depth=2, n_estimators=5 ..................\n",
      "[CV]  learning_rate=0.3, max_depth=2, n_estimators=5, score=-204.561, total=   0.0s\n",
      "[CV] learning_rate=0.3, max_depth=2, n_estimators=5 ..................\n",
      "[CV]  learning_rate=0.3, max_depth=2, n_estimators=5, score=-247.083, total=   0.0s\n",
      "[CV] learning_rate=0.3, max_depth=2, n_estimators=5 ..................\n",
      "[CV]  learning_rate=0.3, max_depth=2, n_estimators=5, score=-269.315, total=   0.0s\n",
      "[CV] learning_rate=0.3, max_depth=2, n_estimators=5 ..................\n",
      "[CV]  learning_rate=0.3, max_depth=2, n_estimators=5, score=-222.624, total=   0.0s\n",
      "[CV] learning_rate=0.3, max_depth=2, n_estimators=5 ..................\n",
      "[CV]  learning_rate=0.3, max_depth=2, n_estimators=5, score=-156.519, total=   0.0s\n",
      "[CV] learning_rate=0.3, max_depth=2, n_estimators=10 .................\n",
      "[CV]  learning_rate=0.3, max_depth=2, n_estimators=10, score=-153.484, total=   0.0s\n",
      "[CV] learning_rate=0.3, max_depth=2, n_estimators=10 .................\n",
      "[CV]  learning_rate=0.3, max_depth=2, n_estimators=10, score=-222.783, total=   0.0s\n",
      "[CV] learning_rate=0.3, max_depth=2, n_estimators=10 .................\n",
      "[CV]  learning_rate=0.3, max_depth=2, n_estimators=10, score=-219.511, total=   0.0s\n",
      "[CV] learning_rate=0.3, max_depth=2, n_estimators=10 .................\n",
      "[CV]  learning_rate=0.3, max_depth=2, n_estimators=10, score=-217.082, total=   0.0s\n",
      "[CV] learning_rate=0.3, max_depth=2, n_estimators=10 .................\n",
      "[CV]  learning_rate=0.3, max_depth=2, n_estimators=10, score=-152.011, total=   0.0s\n",
      "[CV] learning_rate=0.3, max_depth=2, n_estimators=25 .................\n",
      "[CV]  learning_rate=0.3, max_depth=2, n_estimators=25, score=-151.309, total=   0.0s\n",
      "[CV] learning_rate=0.3, max_depth=2, n_estimators=25 .................\n",
      "[CV]  learning_rate=0.3, max_depth=2, n_estimators=25, score=-232.002, total=   0.0s\n",
      "[CV] learning_rate=0.3, max_depth=2, n_estimators=25 .................\n",
      "[CV]  learning_rate=0.3, max_depth=2, n_estimators=25, score=-190.305, total=   0.0s\n",
      "[CV] learning_rate=0.3, max_depth=2, n_estimators=25 .................\n",
      "[CV]  learning_rate=0.3, max_depth=2, n_estimators=25, score=-203.053, total=   0.0s\n",
      "[CV] learning_rate=0.3, max_depth=2, n_estimators=25 .................\n",
      "[CV]  learning_rate=0.3, max_depth=2, n_estimators=25, score=-139.250, total=   0.0s\n",
      "[CV] learning_rate=0.3, max_depth=2, n_estimators=50 .................\n",
      "[CV]  learning_rate=0.3, max_depth=2, n_estimators=50, score=-167.637, total=   0.0s\n",
      "[CV] learning_rate=0.3, max_depth=2, n_estimators=50 .................\n",
      "[CV]  learning_rate=0.3, max_depth=2, n_estimators=50, score=-240.510, total=   0.0s\n",
      "[CV] learning_rate=0.3, max_depth=2, n_estimators=50 .................\n",
      "[CV]  learning_rate=0.3, max_depth=2, n_estimators=50, score=-200.911, total=   0.0s\n",
      "[CV] learning_rate=0.3, max_depth=2, n_estimators=50 .................\n",
      "[CV]  learning_rate=0.3, max_depth=2, n_estimators=50, score=-212.150, total=   0.0s\n",
      "[CV] learning_rate=0.3, max_depth=2, n_estimators=50 .................\n",
      "[CV]  learning_rate=0.3, max_depth=2, n_estimators=50, score=-141.661, total=   0.0s\n",
      "[CV] learning_rate=0.3, max_depth=2, n_estimators=100 ................\n",
      "[CV]  learning_rate=0.3, max_depth=2, n_estimators=100, score=-181.041, total=   0.0s\n",
      "[CV] learning_rate=0.3, max_depth=2, n_estimators=100 ................\n",
      "[CV]  learning_rate=0.3, max_depth=2, n_estimators=100, score=-248.473, total=   0.0s\n",
      "[CV] learning_rate=0.3, max_depth=2, n_estimators=100 ................\n",
      "[CV]  learning_rate=0.3, max_depth=2, n_estimators=100, score=-199.407, total=   0.0s\n",
      "[CV] learning_rate=0.3, max_depth=2, n_estimators=100 ................\n",
      "[CV]  learning_rate=0.3, max_depth=2, n_estimators=100, score=-217.117, total=   0.0s\n",
      "[CV] learning_rate=0.3, max_depth=2, n_estimators=100 ................\n",
      "[CV]  learning_rate=0.3, max_depth=2, n_estimators=100, score=-145.367, total=   0.0s\n",
      "[CV] learning_rate=0.3, max_depth=4, n_estimators=5 ..................\n",
      "[CV]  learning_rate=0.3, max_depth=4, n_estimators=5, score=-168.741, total=   0.0s\n",
      "[CV] learning_rate=0.3, max_depth=4, n_estimators=5 ..................\n",
      "[CV]  learning_rate=0.3, max_depth=4, n_estimators=5, score=-219.764, total=   0.0s\n",
      "[CV] learning_rate=0.3, max_depth=4, n_estimators=5 ..................\n",
      "[CV]  learning_rate=0.3, max_depth=4, n_estimators=5, score=-229.089, total=   0.0s\n",
      "[CV] learning_rate=0.3, max_depth=4, n_estimators=5 ..................\n",
      "[CV]  learning_rate=0.3, max_depth=4, n_estimators=5, score=-218.606, total=   0.0s\n",
      "[CV] learning_rate=0.3, max_depth=4, n_estimators=5 ..................\n",
      "[CV]  learning_rate=0.3, max_depth=4, n_estimators=5, score=-190.527, total=   0.0s\n",
      "[CV] learning_rate=0.3, max_depth=4, n_estimators=10 .................\n",
      "[CV]  learning_rate=0.3, max_depth=4, n_estimators=10, score=-155.812, total=   0.0s\n",
      "[CV] learning_rate=0.3, max_depth=4, n_estimators=10 .................\n",
      "[CV]  learning_rate=0.3, max_depth=4, n_estimators=10, score=-213.778, total=   0.0s\n",
      "[CV] learning_rate=0.3, max_depth=4, n_estimators=10 .................\n",
      "[CV]  learning_rate=0.3, max_depth=4, n_estimators=10, score=-209.032, total=   0.0s\n",
      "[CV] learning_rate=0.3, max_depth=4, n_estimators=10 .................\n",
      "[CV]  learning_rate=0.3, max_depth=4, n_estimators=10, score=-248.352, total=   0.0s\n",
      "[CV] learning_rate=0.3, max_depth=4, n_estimators=10 .................\n",
      "[CV]  learning_rate=0.3, max_depth=4, n_estimators=10, score=-186.122, total=   0.0s\n",
      "[CV] learning_rate=0.3, max_depth=4, n_estimators=25 .................\n",
      "[CV]  learning_rate=0.3, max_depth=4, n_estimators=25, score=-160.072, total=   0.0s\n",
      "[CV] learning_rate=0.3, max_depth=4, n_estimators=25 .................\n",
      "[CV]  learning_rate=0.3, max_depth=4, n_estimators=25, score=-212.712, total=   0.0s\n",
      "[CV] learning_rate=0.3, max_depth=4, n_estimators=25 .................\n",
      "[CV]  learning_rate=0.3, max_depth=4, n_estimators=25, score=-204.042, total=   0.0s\n",
      "[CV] learning_rate=0.3, max_depth=4, n_estimators=25 .................\n",
      "[CV]  learning_rate=0.3, max_depth=4, n_estimators=25, score=-208.660, total=   0.0s\n",
      "[CV] learning_rate=0.3, max_depth=4, n_estimators=25 .................\n",
      "[CV]  learning_rate=0.3, max_depth=4, n_estimators=25, score=-192.467, total=   0.0s\n",
      "[CV] learning_rate=0.3, max_depth=4, n_estimators=50 .................\n",
      "[CV]  learning_rate=0.3, max_depth=4, n_estimators=50, score=-160.663, total=   0.0s\n",
      "[CV] learning_rate=0.3, max_depth=4, n_estimators=50 .................\n",
      "[CV]  learning_rate=0.3, max_depth=4, n_estimators=50, score=-233.818, total=   0.0s\n",
      "[CV] learning_rate=0.3, max_depth=4, n_estimators=50 .................\n",
      "[CV]  learning_rate=0.3, max_depth=4, n_estimators=50, score=-217.425, total=   0.0s\n",
      "[CV] learning_rate=0.3, max_depth=4, n_estimators=50 .................\n",
      "[CV]  learning_rate=0.3, max_depth=4, n_estimators=50, score=-224.425, total=   0.0s\n",
      "[CV] learning_rate=0.3, max_depth=4, n_estimators=50 .................\n",
      "[CV]  learning_rate=0.3, max_depth=4, n_estimators=50, score=-195.714, total=   0.0s\n",
      "[CV] learning_rate=0.3, max_depth=4, n_estimators=100 ................\n",
      "[CV]  learning_rate=0.3, max_depth=4, n_estimators=100, score=-159.146, total=   0.1s\n",
      "[CV] learning_rate=0.3, max_depth=4, n_estimators=100 ................\n",
      "[CV]  learning_rate=0.3, max_depth=4, n_estimators=100, score=-218.923, total=   0.1s\n",
      "[CV] learning_rate=0.3, max_depth=4, n_estimators=100 ................\n",
      "[CV]  learning_rate=0.3, max_depth=4, n_estimators=100, score=-214.632, total=   0.1s\n",
      "[CV] learning_rate=0.3, max_depth=4, n_estimators=100 ................\n",
      "[CV]  learning_rate=0.3, max_depth=4, n_estimators=100, score=-217.157, total=   0.1s\n",
      "[CV] learning_rate=0.3, max_depth=4, n_estimators=100 ................\n",
      "[CV]  learning_rate=0.3, max_depth=4, n_estimators=100, score=-185.450, total=   0.1s\n",
      "[CV] learning_rate=0.3, max_depth=6, n_estimators=5 ..................\n",
      "[CV]  learning_rate=0.3, max_depth=6, n_estimators=5, score=-159.224, total=   0.0s\n",
      "[CV] learning_rate=0.3, max_depth=6, n_estimators=5 ..................\n",
      "[CV]  learning_rate=0.3, max_depth=6, n_estimators=5, score=-264.364, total=   0.0s\n",
      "[CV] learning_rate=0.3, max_depth=6, n_estimators=5 ..................\n",
      "[CV]  learning_rate=0.3, max_depth=6, n_estimators=5, score=-248.222, total=   0.0s\n",
      "[CV] learning_rate=0.3, max_depth=6, n_estimators=5 ..................\n",
      "[CV]  learning_rate=0.3, max_depth=6, n_estimators=5, score=-218.958, total=   0.0s\n",
      "[CV] learning_rate=0.3, max_depth=6, n_estimators=5 ..................\n",
      "[CV]  learning_rate=0.3, max_depth=6, n_estimators=5, score=-213.006, total=   0.0s\n",
      "[CV] learning_rate=0.3, max_depth=6, n_estimators=10 .................\n",
      "[CV]  learning_rate=0.3, max_depth=6, n_estimators=10, score=-145.762, total=   0.0s\n",
      "[CV] learning_rate=0.3, max_depth=6, n_estimators=10 .................\n",
      "[CV]  learning_rate=0.3, max_depth=6, n_estimators=10, score=-251.796, total=   0.0s\n",
      "[CV] learning_rate=0.3, max_depth=6, n_estimators=10 .................\n",
      "[CV]  learning_rate=0.3, max_depth=6, n_estimators=10, score=-227.560, total=   0.0s\n",
      "[CV] learning_rate=0.3, max_depth=6, n_estimators=10 .................\n",
      "[CV]  learning_rate=0.3, max_depth=6, n_estimators=10, score=-259.805, total=   0.0s\n",
      "[CV] learning_rate=0.3, max_depth=6, n_estimators=10 .................\n",
      "[CV]  learning_rate=0.3, max_depth=6, n_estimators=10, score=-228.622, total=   0.0s\n",
      "[CV] learning_rate=0.3, max_depth=6, n_estimators=25 .................\n",
      "[CV]  learning_rate=0.3, max_depth=6, n_estimators=25, score=-140.999, total=   0.0s\n",
      "[CV] learning_rate=0.3, max_depth=6, n_estimators=25 .................\n",
      "[CV]  learning_rate=0.3, max_depth=6, n_estimators=25, score=-217.582, total=   0.0s\n",
      "[CV] learning_rate=0.3, max_depth=6, n_estimators=25 .................\n",
      "[CV]  learning_rate=0.3, max_depth=6, n_estimators=25, score=-238.313, total=   0.0s\n",
      "[CV] learning_rate=0.3, max_depth=6, n_estimators=25 .................\n",
      "[CV]  learning_rate=0.3, max_depth=6, n_estimators=25, score=-235.408, total=   0.0s\n",
      "[CV] learning_rate=0.3, max_depth=6, n_estimators=25 .................\n",
      "[CV]  learning_rate=0.3, max_depth=6, n_estimators=25, score=-215.120, total=   0.0s\n",
      "[CV] learning_rate=0.3, max_depth=6, n_estimators=50 .................\n",
      "[CV]  learning_rate=0.3, max_depth=6, n_estimators=50, score=-136.646, total=   0.0s\n",
      "[CV] learning_rate=0.3, max_depth=6, n_estimators=50 .................\n",
      "[CV]  learning_rate=0.3, max_depth=6, n_estimators=50, score=-244.088, total=   0.0s\n",
      "[CV] learning_rate=0.3, max_depth=6, n_estimators=50 .................\n",
      "[CV]  learning_rate=0.3, max_depth=6, n_estimators=50, score=-217.892, total=   0.0s\n",
      "[CV] learning_rate=0.3, max_depth=6, n_estimators=50 .................\n",
      "[CV]  learning_rate=0.3, max_depth=6, n_estimators=50, score=-235.366, total=   0.0s\n",
      "[CV] learning_rate=0.3, max_depth=6, n_estimators=50 .................\n",
      "[CV]  learning_rate=0.3, max_depth=6, n_estimators=50, score=-221.162, total=   0.0s\n",
      "[CV] learning_rate=0.3, max_depth=6, n_estimators=100 ................\n",
      "[CV]  learning_rate=0.3, max_depth=6, n_estimators=100, score=-147.784, total=   0.1s\n",
      "[CV] learning_rate=0.3, max_depth=6, n_estimators=100 ................\n",
      "[CV]  learning_rate=0.3, max_depth=6, n_estimators=100, score=-241.328, total=   0.1s\n",
      "[CV] learning_rate=0.3, max_depth=6, n_estimators=100 ................\n",
      "[CV]  learning_rate=0.3, max_depth=6, n_estimators=100, score=-224.715, total=   0.1s\n",
      "[CV] learning_rate=0.3, max_depth=6, n_estimators=100 ................\n",
      "[CV]  learning_rate=0.3, max_depth=6, n_estimators=100, score=-253.133, total=   0.1s\n",
      "[CV] learning_rate=0.3, max_depth=6, n_estimators=100 ................\n",
      "[CV]  learning_rate=0.3, max_depth=6, n_estimators=100, score=-226.803, total=   0.1s\n",
      "[CV] learning_rate=0.3, max_depth=8, n_estimators=5 ..................\n",
      "[CV]  learning_rate=0.3, max_depth=8, n_estimators=5, score=-170.507, total=   0.0s\n",
      "[CV] learning_rate=0.3, max_depth=8, n_estimators=5 ..................\n",
      "[CV]  learning_rate=0.3, max_depth=8, n_estimators=5, score=-254.172, total=   0.0s\n",
      "[CV] learning_rate=0.3, max_depth=8, n_estimators=5 ..................\n",
      "[CV]  learning_rate=0.3, max_depth=8, n_estimators=5, score=-246.813, total=   0.0s\n",
      "[CV] learning_rate=0.3, max_depth=8, n_estimators=5 ..................\n",
      "[CV]  learning_rate=0.3, max_depth=8, n_estimators=5, score=-234.920, total=   0.0s\n",
      "[CV] learning_rate=0.3, max_depth=8, n_estimators=5 ..................\n",
      "[CV]  learning_rate=0.3, max_depth=8, n_estimators=5, score=-251.392, total=   0.0s\n",
      "[CV] learning_rate=0.3, max_depth=8, n_estimators=10 .................\n",
      "[CV]  learning_rate=0.3, max_depth=8, n_estimators=10, score=-163.941, total=   0.0s\n",
      "[CV] learning_rate=0.3, max_depth=8, n_estimators=10 .................\n",
      "[CV]  learning_rate=0.3, max_depth=8, n_estimators=10, score=-289.861, total=   0.0s\n",
      "[CV] learning_rate=0.3, max_depth=8, n_estimators=10 .................\n",
      "[CV]  learning_rate=0.3, max_depth=8, n_estimators=10, score=-216.073, total=   0.0s\n",
      "[CV] learning_rate=0.3, max_depth=8, n_estimators=10 .................\n",
      "[CV]  learning_rate=0.3, max_depth=8, n_estimators=10, score=-259.456, total=   0.0s\n",
      "[CV] learning_rate=0.3, max_depth=8, n_estimators=10 .................\n",
      "[CV]  learning_rate=0.3, max_depth=8, n_estimators=10, score=-223.394, total=   0.0s\n",
      "[CV] learning_rate=0.3, max_depth=8, n_estimators=25 .................\n",
      "[CV]  learning_rate=0.3, max_depth=8, n_estimators=25, score=-160.130, total=   0.0s\n",
      "[CV] learning_rate=0.3, max_depth=8, n_estimators=25 .................\n",
      "[CV]  learning_rate=0.3, max_depth=8, n_estimators=25, score=-245.543, total=   0.0s\n",
      "[CV] learning_rate=0.3, max_depth=8, n_estimators=25 .................\n",
      "[CV]  learning_rate=0.3, max_depth=8, n_estimators=25, score=-210.782, total=   0.0s\n",
      "[CV] learning_rate=0.3, max_depth=8, n_estimators=25 .................\n",
      "[CV]  learning_rate=0.3, max_depth=8, n_estimators=25, score=-285.986, total=   0.0s\n",
      "[CV] learning_rate=0.3, max_depth=8, n_estimators=25 .................\n",
      "[CV]  learning_rate=0.3, max_depth=8, n_estimators=25, score=-249.201, total=   0.0s\n",
      "[CV] learning_rate=0.3, max_depth=8, n_estimators=50 .................\n",
      "[CV]  learning_rate=0.3, max_depth=8, n_estimators=50, score=-157.409, total=   0.0s\n",
      "[CV] learning_rate=0.3, max_depth=8, n_estimators=50 .................\n",
      "[CV]  learning_rate=0.3, max_depth=8, n_estimators=50, score=-241.354, total=   0.0s\n",
      "[CV] learning_rate=0.3, max_depth=8, n_estimators=50 .................\n",
      "[CV]  learning_rate=0.3, max_depth=8, n_estimators=50, score=-206.443, total=   0.0s\n",
      "[CV] learning_rate=0.3, max_depth=8, n_estimators=50 .................\n",
      "[CV]  learning_rate=0.3, max_depth=8, n_estimators=50, score=-284.397, total=   0.0s\n",
      "[CV] learning_rate=0.3, max_depth=8, n_estimators=50 .................\n",
      "[CV]  learning_rate=0.3, max_depth=8, n_estimators=50, score=-255.510, total=   0.0s\n",
      "[CV] learning_rate=0.3, max_depth=8, n_estimators=100 ................\n",
      "[CV]  learning_rate=0.3, max_depth=8, n_estimators=100, score=-166.215, total=   0.1s\n",
      "[CV] learning_rate=0.3, max_depth=8, n_estimators=100 ................\n",
      "[CV]  learning_rate=0.3, max_depth=8, n_estimators=100, score=-261.950, total=   0.1s\n",
      "[CV] learning_rate=0.3, max_depth=8, n_estimators=100 ................\n",
      "[CV]  learning_rate=0.3, max_depth=8, n_estimators=100, score=-214.642, total=   0.1s\n",
      "[CV] learning_rate=0.3, max_depth=8, n_estimators=100 ................\n",
      "[CV]  learning_rate=0.3, max_depth=8, n_estimators=100, score=-265.450, total=   0.1s\n",
      "[CV] learning_rate=0.3, max_depth=8, n_estimators=100 ................\n",
      "[CV]  learning_rate=0.3, max_depth=8, n_estimators=100, score=-276.695, total=   0.1s\n"
     ]
    },
    {
     "name": "stderr",
     "output_type": "stream",
     "text": [
      "[Parallel(n_jobs=1)]: Done 300 out of 300 | elapsed:    9.0s finished\n"
     ]
    },
    {
     "data": {
      "text/plain": [
       "GridSearchCV(estimator=GradientBoostingRegressor(),\n",
       "             param_grid={'learning_rate': [0.01, 0.1, 0.3],\n",
       "                         'max_depth': [2, 4, 6, 8],\n",
       "                         'n_estimators': [5, 10, 25, 50, 100]},\n",
       "             scoring='neg_mean_absolute_error', verbose=3)"
      ]
     },
     "execution_count": 344,
     "metadata": {},
     "output_type": "execute_result"
    }
   ],
   "source": [
    "from sklearn.ensemble import GradientBoostingRegressor\n",
    "XGboost_tune = GradientBoostingRegressor()\n",
    "parameters = {'learning_rate': [0.01, 0.1, 0.3], 'n_estimators': [5, 10, 25, 50, 100], 'max_depth': [2, 4, 6, 8]}\n",
    "clf_XG = GridSearchCV(XGboost_tune, parameters, scoring = 'neg_mean_absolute_error', verbose = 3)\n",
    "clf_XG.fit(df_agg_merge_producer_train, df_agg_merge_producer_target)"
   ]
  },
  {
   "cell_type": "code",
   "execution_count": 345,
   "id": "third-moses",
   "metadata": {},
   "outputs": [
    {
     "name": "stdout",
     "output_type": "stream",
     "text": [
      "{'learning_rate': 0.3, 'max_depth': 2, 'n_estimators': 25}\n",
      "-183.18376430113702\n"
     ]
    }
   ],
   "source": [
    "print(clf_XG.best_params_) \n",
    "print(clf_XG.best_score_) "
   ]
  },
  {
   "cell_type": "code",
   "execution_count": 346,
   "id": "enormous-aging",
   "metadata": {},
   "outputs": [
    {
     "name": "stdout",
     "output_type": "stream",
     "text": [
      "-180.3949772096449\n"
     ]
    }
   ],
   "source": [
    "from sklearn.linear_model import LinearRegression\n",
    "linearReg = LinearRegression()\n",
    "print(cross_val_score(linearReg, df_agg_merge_producer_train, df_agg_merge_producer_target, scoring='neg_mean_absolute_error').mean())"
   ]
  },
  {
   "cell_type": "code",
   "execution_count": 347,
   "id": "working-thermal",
   "metadata": {
    "collapsed": true,
    "jupyter": {
     "outputs_hidden": true
    }
   },
   "outputs": [
    {
     "name": "stdout",
     "output_type": "stream",
     "text": [
      "Fitting 5 folds for each of 7 candidates, totalling 35 fits\n",
      "[CV] n_neighbors=3 ...................................................\n"
     ]
    },
    {
     "name": "stderr",
     "output_type": "stream",
     "text": [
      "[Parallel(n_jobs=1)]: Using backend SequentialBackend with 1 concurrent workers.\n"
     ]
    },
    {
     "name": "stdout",
     "output_type": "stream",
     "text": [
      "[CV] .................... n_neighbors=3, score=-161.234, total=   0.0s\n",
      "[CV] n_neighbors=3 ...................................................\n",
      "[CV] .................... n_neighbors=3, score=-204.100, total=   0.0s\n",
      "[CV] n_neighbors=3 ...................................................\n",
      "[CV] .................... n_neighbors=3, score=-308.224, total=   0.0s\n",
      "[CV] n_neighbors=3 ...................................................\n",
      "[CV] .................... n_neighbors=3, score=-225.444, total=   0.0s\n",
      "[CV] n_neighbors=3 ...................................................\n",
      "[CV] .................... n_neighbors=3, score=-199.634, total=   0.0s\n",
      "[CV] n_neighbors=4 ...................................................\n",
      "[CV] .................... n_neighbors=4, score=-207.618, total=   0.0s\n",
      "[CV] n_neighbors=4 ...................................................\n",
      "[CV] .................... n_neighbors=4, score=-202.196, total=   0.0s\n",
      "[CV] n_neighbors=4 ...................................................\n",
      "[CV] .................... n_neighbors=4, score=-273.985, total=   0.0s\n",
      "[CV] n_neighbors=4 ...................................................\n",
      "[CV] .................... n_neighbors=4, score=-220.801, total=   0.0s\n",
      "[CV] n_neighbors=4 ...................................................\n",
      "[CV] .................... n_neighbors=4, score=-159.962, total=   0.0s\n",
      "[CV] n_neighbors=5 ...................................................\n",
      "[CV] .................... n_neighbors=5, score=-208.568, total=   0.0s\n",
      "[CV] n_neighbors=5 ...................................................\n",
      "[CV] .................... n_neighbors=5, score=-192.732, total=   0.0s\n",
      "[CV] n_neighbors=5 ...................................................\n",
      "[CV] .................... n_neighbors=5, score=-272.249, total=   0.0s\n",
      "[CV] n_neighbors=5 ...................................................\n"
     ]
    },
    {
     "name": "stderr",
     "output_type": "stream",
     "text": [
      "[Parallel(n_jobs=1)]: Done   1 out of   1 | elapsed:    0.0s remaining:    0.0s\n",
      "[Parallel(n_jobs=1)]: Done   2 out of   2 | elapsed:    0.0s remaining:    0.0s\n"
     ]
    },
    {
     "name": "stdout",
     "output_type": "stream",
     "text": [
      "[CV] .................... n_neighbors=5, score=-240.496, total=   0.0s\n",
      "[CV] n_neighbors=5 ...................................................\n",
      "[CV] .................... n_neighbors=5, score=-168.488, total=   0.0s\n",
      "[CV] n_neighbors=6 ...................................................\n",
      "[CV] .................... n_neighbors=6, score=-222.243, total=   0.0s\n",
      "[CV] n_neighbors=6 ...................................................\n",
      "[CV] .................... n_neighbors=6, score=-200.383, total=   0.0s\n",
      "[CV] n_neighbors=6 ...................................................\n",
      "[CV] .................... n_neighbors=6, score=-280.600, total=   0.0s\n",
      "[CV] n_neighbors=6 ...................................................\n",
      "[CV] .................... n_neighbors=6, score=-247.007, total=   0.0s\n",
      "[CV] n_neighbors=6 ...................................................\n",
      "[CV] .................... n_neighbors=6, score=-177.131, total=   0.0s\n",
      "[CV] n_neighbors=7 ...................................................\n",
      "[CV] .................... n_neighbors=7, score=-214.777, total=   0.0s\n",
      "[CV] n_neighbors=7 ...................................................\n",
      "[CV] .................... n_neighbors=7, score=-204.587, total=   0.0s\n",
      "[CV] n_neighbors=7 ...................................................\n",
      "[CV] .................... n_neighbors=7, score=-287.001, total=   0.0s\n",
      "[CV] n_neighbors=7 ...................................................\n",
      "[CV] .................... n_neighbors=7, score=-233.218, total=   0.0s\n",
      "[CV] n_neighbors=7 ...................................................\n",
      "[CV] .................... n_neighbors=7, score=-200.504, total=   0.0s\n",
      "[CV] n_neighbors=8 ...................................................\n",
      "[CV] .................... n_neighbors=8, score=-224.798, total=   0.0s\n",
      "[CV] n_neighbors=8 ...................................................\n",
      "[CV] .................... n_neighbors=8, score=-208.810, total=   0.0s\n",
      "[CV] n_neighbors=8 ...................................................\n",
      "[CV] .................... n_neighbors=8, score=-295.127, total=   0.0s\n",
      "[CV] n_neighbors=8 ...................................................\n",
      "[CV] .................... n_neighbors=8, score=-240.971, total=   0.0s\n",
      "[CV] n_neighbors=8 ...................................................\n",
      "[CV] .................... n_neighbors=8, score=-201.836, total=   0.0s\n",
      "[CV] n_neighbors=9 ...................................................\n",
      "[CV] .................... n_neighbors=9, score=-224.651, total=   0.0s\n",
      "[CV] n_neighbors=9 ...................................................\n",
      "[CV] .................... n_neighbors=9, score=-226.842, total=   0.0s\n",
      "[CV] n_neighbors=9 ...................................................\n",
      "[CV] .................... n_neighbors=9, score=-293.173, total=   0.0s\n",
      "[CV] n_neighbors=9 ...................................................\n",
      "[CV] .................... n_neighbors=9, score=-254.354, total=   0.0s\n",
      "[CV] n_neighbors=9 ...................................................\n",
      "[CV] .................... n_neighbors=9, score=-210.269, total=   0.0s\n"
     ]
    },
    {
     "name": "stderr",
     "output_type": "stream",
     "text": [
      "[Parallel(n_jobs=1)]: Done  35 out of  35 | elapsed:    0.3s finished\n"
     ]
    },
    {
     "data": {
      "text/plain": [
       "GridSearchCV(estimator=KNeighborsRegressor(),\n",
       "             param_grid={'n_neighbors': [3, 4, 5, 6, 7, 8, 9]},\n",
       "             scoring='neg_mean_absolute_error', verbose=3)"
      ]
     },
     "execution_count": 347,
     "metadata": {},
     "output_type": "execute_result"
    }
   ],
   "source": [
    "from sklearn.neighbors import KNeighborsRegressor\n",
    "kNN_tune = KNeighborsRegressor()\n",
    "parameters = {'n_neighbors': [3,4,5,6,7,8,9]}\n",
    "clf_kNN = GridSearchCV(kNN_tune, parameters, scoring = 'neg_mean_absolute_error', verbose = 3)\n",
    "clf_kNN.fit(df_agg_merge_producer_train, df_agg_merge_producer_target)"
   ]
  },
  {
   "cell_type": "code",
   "execution_count": 348,
   "id": "annoying-bobby",
   "metadata": {},
   "outputs": [
    {
     "name": "stdout",
     "output_type": "stream",
     "text": [
      "{'n_neighbors': 4}\n",
      "-212.91247619047618\n"
     ]
    }
   ],
   "source": [
    "print(clf_kNN.best_params_) \n",
    "print(clf_kNN.best_score_) "
   ]
  },
  {
   "cell_type": "code",
   "execution_count": 349,
   "id": "binding-conservative",
   "metadata": {},
   "outputs": [
    {
     "data": {
      "text/html": [
       "<div>\n",
       "<style scoped>\n",
       "    .dataframe tbody tr th:only-of-type {\n",
       "        vertical-align: middle;\n",
       "    }\n",
       "\n",
       "    .dataframe tbody tr th {\n",
       "        vertical-align: top;\n",
       "    }\n",
       "\n",
       "    .dataframe thead th {\n",
       "        text-align: right;\n",
       "    }\n",
       "</style>\n",
       "<table border=\"1\" class=\"dataframe\">\n",
       "  <thead>\n",
       "    <tr style=\"text-align: right;\">\n",
       "      <th></th>\n",
       "      <th>X, m</th>\n",
       "      <th>Y, m</th>\n",
       "      <th>Depth, m</th>\n",
       "      <th>Porosity, fraction</th>\n",
       "      <th>Permeability, mD</th>\n",
       "      <th>Acoustic Impedance, kg*s/m^2</th>\n",
       "      <th>Density, g/cm3</th>\n",
       "      <th>Compressible velocity, m/s</th>\n",
       "      <th>Youngs modulus, GPa</th>\n",
       "      <th>Shear velocity, m/s</th>\n",
       "      <th>Shear modulus, GPa</th>\n",
       "      <th>Vclay</th>\n",
       "    </tr>\n",
       "  </thead>\n",
       "  <tbody>\n",
       "    <tr>\n",
       "      <th>0</th>\n",
       "      <td>0.7325</td>\n",
       "      <td>0.7175</td>\n",
       "      <td>0.576886</td>\n",
       "      <td>0.626719</td>\n",
       "      <td>0.704912</td>\n",
       "      <td>0.244490</td>\n",
       "      <td>0.244490</td>\n",
       "      <td>0.383164</td>\n",
       "      <td>0.409001</td>\n",
       "      <td>0.607928</td>\n",
       "      <td>0.446566</td>\n",
       "      <td>0.133335</td>\n",
       "    </tr>\n",
       "    <tr>\n",
       "      <th>1</th>\n",
       "      <td>0.3725</td>\n",
       "      <td>0.1575</td>\n",
       "      <td>0.589942</td>\n",
       "      <td>0.486973</td>\n",
       "      <td>0.631026</td>\n",
       "      <td>0.157614</td>\n",
       "      <td>0.157614</td>\n",
       "      <td>0.526105</td>\n",
       "      <td>0.535687</td>\n",
       "      <td>0.634639</td>\n",
       "      <td>0.387560</td>\n",
       "      <td>0.399980</td>\n",
       "    </tr>\n",
       "    <tr>\n",
       "      <th>2</th>\n",
       "      <td>0.4275</td>\n",
       "      <td>0.5675</td>\n",
       "      <td>0.234526</td>\n",
       "      <td>0.593959</td>\n",
       "      <td>0.668010</td>\n",
       "      <td>0.229335</td>\n",
       "      <td>0.229335</td>\n",
       "      <td>0.413066</td>\n",
       "      <td>0.437853</td>\n",
       "      <td>0.633915</td>\n",
       "      <td>0.446071</td>\n",
       "      <td>0.233325</td>\n",
       "    </tr>\n",
       "    <tr>\n",
       "      <th>3</th>\n",
       "      <td>0.1625</td>\n",
       "      <td>0.3775</td>\n",
       "      <td>0.588848</td>\n",
       "      <td>0.578912</td>\n",
       "      <td>0.696575</td>\n",
       "      <td>0.182738</td>\n",
       "      <td>0.182738</td>\n",
       "      <td>0.482513</td>\n",
       "      <td>0.504918</td>\n",
       "      <td>0.577572</td>\n",
       "      <td>0.350577</td>\n",
       "      <td>0.280689</td>\n",
       "    </tr>\n",
       "    <tr>\n",
       "      <th>4</th>\n",
       "      <td>0.5175</td>\n",
       "      <td>0.8875</td>\n",
       "      <td>0.626031</td>\n",
       "      <td>0.653382</td>\n",
       "      <td>0.691389</td>\n",
       "      <td>0.226796</td>\n",
       "      <td>0.226796</td>\n",
       "      <td>0.460627</td>\n",
       "      <td>0.448396</td>\n",
       "      <td>0.618600</td>\n",
       "      <td>0.414807</td>\n",
       "      <td>0.175437</td>\n",
       "    </tr>\n",
       "  </tbody>\n",
       "</table>\n",
       "</div>"
      ],
      "text/plain": [
       "     X, m    Y, m  Depth, m  Porosity, fraction  Permeability, mD  \\\n",
       "0  0.7325  0.7175  0.576886            0.626719          0.704912   \n",
       "1  0.3725  0.1575  0.589942            0.486973          0.631026   \n",
       "2  0.4275  0.5675  0.234526            0.593959          0.668010   \n",
       "3  0.1625  0.3775  0.588848            0.578912          0.696575   \n",
       "4  0.5175  0.8875  0.626031            0.653382          0.691389   \n",
       "\n",
       "   Acoustic Impedance, kg*s/m^2  Density, g/cm3  Compressible velocity, m/s  \\\n",
       "0                      0.244490        0.244490                    0.383164   \n",
       "1                      0.157614        0.157614                    0.526105   \n",
       "2                      0.229335        0.229335                    0.413066   \n",
       "3                      0.182738        0.182738                    0.482513   \n",
       "4                      0.226796        0.226796                    0.460627   \n",
       "\n",
       "   Youngs modulus, GPa  Shear velocity, m/s  Shear modulus, GPa     Vclay  \n",
       "0             0.409001             0.607928            0.446566  0.133335  \n",
       "1             0.535687             0.634639            0.387560  0.399980  \n",
       "2             0.437853             0.633915            0.446071  0.233325  \n",
       "3             0.504918             0.577572            0.350577  0.280689  \n",
       "4             0.448396             0.618600            0.414807  0.175437  "
      ]
     },
     "execution_count": 349,
     "metadata": {},
     "output_type": "execute_result"
    }
   ],
   "source": [
    "df_agg_merge_producer_train.head()"
   ]
  },
  {
   "cell_type": "code",
   "execution_count": 489,
   "id": "impaired-racing",
   "metadata": {},
   "outputs": [
    {
     "name": "stdout",
     "output_type": "stream",
     "text": [
      "Optimal number of features : 12\n"
     ]
    },
    {
     "data": {
      "image/png": "[encoded data removed]",
      "text/plain": [
       "<Figure size 432x288 with 1 Axes>"
      ]
     },
     "metadata": {
      "needs_background": "light"
     },
     "output_type": "display_data"
    },
    {
     "name": "stdout",
     "output_type": "stream",
     "text": [
      "[]\n"
     ]
    }
   ],
   "source": [
    "## Recursive feature slection -- random forest \n",
    "from sklearn.model_selection import StratifiedKFold\n",
    "from sklearn.feature_selection import RFECV\n",
    "\n",
    "# Create the RFE object and compute a cross-validated score.\n",
    "RF_feature = RandomForestRegressor(max_depth = 7, n_estimators = 100)\n",
    "\n",
    "min_features_to_select = 1  # Minimum number of features to consider\n",
    "rfecv = RFECV(estimator=RF_feature, step=1, cv = 5,\n",
    "              scoring='neg_mean_absolute_error',\n",
    "              min_features_to_select = min_features_to_select)\n",
    "rfecv.fit(df_agg_merge_producer_train, df_agg_merge_producer_target)\n",
    "\n",
    "print(\"Optimal number of features : %d\" % rfecv.n_features_)\n",
    "\n",
    "# Plot number of features VS. cross-validation scores\n",
    "plt.figure()\n",
    "plt.xlabel(\"Number of features selected\")\n",
    "plt.ylabel(\"Cross validation score (nb of correct classifications)\")\n",
    "plt.plot(range(min_features_to_select,\n",
    "               len(rfecv.grid_scores_) + min_features_to_select),\n",
    "         rfecv.grid_scores_)\n",
    "plt.show()\n",
    "\n",
    "print(np.where(rfecv.support_ == False)[0])"
   ]
  },
  {
   "cell_type": "code",
   "execution_count": 490,
   "id": "fifty-people",
   "metadata": {},
   "outputs": [
    {
     "data": {
      "text/plain": [
       "RandomForestRegressor(max_depth=7)"
      ]
     },
     "execution_count": 490,
     "metadata": {},
     "output_type": "execute_result"
    }
   ],
   "source": [
    "### Fine tuning random forest\n",
    "from sklearn.model_selection import GridSearchCV\n",
    "RF_featureImportance = RandomForestRegressor(max_depth = 7, n_estimators = 100)\n",
    "\n",
    "RF_featureImportance.fit(df_agg_merge_producer_train, df_agg_merge_producer_target)"
   ]
  },
  {
   "cell_type": "code",
   "execution_count": 352,
   "id": "continuing-intro",
   "metadata": {},
   "outputs": [
    {
     "data": {
      "text/plain": [
       "array([0.03140147, 0.03883919, 0.11687681, 0.29057177, 0.37940541,\n",
       "       0.00986723, 0.00956036, 0.01750391, 0.03773717, 0.01807366,\n",
       "       0.01718295, 0.03298007])"
      ]
     },
     "execution_count": 352,
     "metadata": {},
     "output_type": "execute_result"
    }
   ],
   "source": [
    "RF_featureImportance.feature_importances_"
   ]
  },
  {
   "cell_type": "code",
   "execution_count": 353,
   "id": "fatty-archives",
   "metadata": {},
   "outputs": [
    {
     "data": {
      "text/plain": [
       "<BarContainer object of 12 artists>"
      ]
     },
     "execution_count": 353,
     "metadata": {},
     "output_type": "execute_result"
    },
    {
     "data": {
      "image/png": "[encoded data removed]",
      "text/plain": [
       "<Figure size 432x288 with 1 Axes>"
      ]
     },
     "metadata": {
      "needs_background": "light"
     },
     "output_type": "display_data"
    }
   ],
   "source": [
    "plt.figure()\n",
    "plt.barh(df_agg_merge_producer_train.columns, RF_featureImportance.feature_importances_)"
   ]
  },
  {
   "cell_type": "code",
   "execution_count": null,
   "id": "balanced-wales",
   "metadata": {},
   "outputs": [],
   "source": [
    "## Try dropping the data frame \n",
    "X = df_agg_merge_producer_train.copy()\n",
    "X_test = df_agg_preProducer.copy()\n",
    "\n",
    "X.drop(X.columns[np.where(rfecv.support_ == False)[0]], axis=1, inplace=True)\n",
    "X_test.drop(X_test.columns[np.where(rfecv.support_ == False)[0]], axis=1, inplace=True)"
   ]
  },
  {
   "cell_type": "code",
   "execution_count": 422,
   "id": "acceptable-blocking",
   "metadata": {},
   "outputs": [
    {
     "name": "stdout",
     "output_type": "stream",
     "text": [
      "Optimal number of features : 8\n"
     ]
    },
    {
     "data": {
      "image/png": "[encoded data removed]",
      "text/plain": [
       "<Figure size 432x288 with 1 Axes>"
      ]
     },
     "metadata": {
      "needs_background": "light"
     },
     "output_type": "display_data"
    },
    {
     "name": "stdout",
     "output_type": "stream",
     "text": [
      "[ 0  1  9 11]\n"
     ]
    }
   ],
   "source": [
    "## Recursive feature slection -- Linear regression \n",
    "from sklearn.model_selection import StratifiedKFold\n",
    "from sklearn.feature_selection import RFECV\n",
    "from sklearn.linear_model import LinearRegression\n",
    "\n",
    "# Create the RFE object and compute a cross-validated score.\n",
    "linearReg = LinearRegression()\n",
    "\n",
    "min_features_to_select = 1  # Minimum number of features to consider\n",
    "rfecv = RFECV(estimator=linearReg, step=1, cv = 5,\n",
    "              scoring='neg_mean_absolute_error',\n",
    "              min_features_to_select = min_features_to_select)\n",
    "\n",
    "rfecv.fit(df_agg_merge_producer_train, df_agg_merge_producer_target)\n",
    "\n",
    "print(\"Optimal number of features : %d\" % rfecv.n_features_)\n",
    "\n",
    "# Plot number of features VS. cross-validation scores\n",
    "plt.figure()\n",
    "plt.xlabel(\"Number of features selected\")\n",
    "plt.ylabel(\"Cross validation score (nb of correct classifications)\")\n",
    "plt.plot(range(min_features_to_select,\n",
    "               len(rfecv.grid_scores_) + min_features_to_select),\n",
    "         rfecv.grid_scores_)\n",
    "plt.show()\n",
    "\n",
    "print(np.where(rfecv.support_ == False)[0])"
   ]
  },
  {
   "cell_type": "code",
   "execution_count": 423,
   "id": "tutorial-pension",
   "metadata": {},
   "outputs": [
    {
     "data": {
      "text/plain": [
       "<AxesSubplot:>"
      ]
     },
     "execution_count": 423,
     "metadata": {},
     "output_type": "execute_result"
    },
    {
     "data": {
      "image/png": "[encoded data removed]",
      "text/plain": [
       "<Figure size 432x288 with 2 Axes>"
      ]
     },
     "metadata": {
      "needs_background": "light"
     },
     "output_type": "display_data"
    }
   ],
   "source": [
    "sns.heatmap(df_agg_merge_producer_train.corr())"
   ]
  },
  {
   "cell_type": "code",
   "execution_count": 476,
   "id": "caring-radar",
   "metadata": {},
   "outputs": [
    {
     "name": "stdout",
     "output_type": "stream",
     "text": [
      "-177.87297559462303\n"
     ]
    }
   ],
   "source": [
    "## Try dropping the data frame \n",
    "X = df_agg_merge_producer_train.copy()\n",
    "X_test = df_agg_preProducer.copy()\n",
    "\n",
    "X.drop(X.columns[np.where(rfecv.support_ == False)[0]], axis=1, inplace=True)\n",
    "X_test.drop(X_test.columns[np.where(rfecv.support_ == False)[0]], axis=1, inplace=True)\n",
    "\n",
    "linearReg = LinearRegression(normalize=True)\n",
    "print(cross_val_score(linearReg, X, df_agg_merge_producer_target, scoring='neg_mean_absolute_error').mean())\n",
    "\n",
    "#from sklearn.model_selection import train_test_split\n",
    "#X_train, X_test, y_train, y_test = train_test_split(X, df_agg_merge_producer_target, test_size=0.33, random_state=42)  \n",
    "# Fitting line without spliting test-train gives similar results \n",
    "\n",
    "linearReg.fit(X, df_agg_merge_producer_target)\n",
    "result4 = linearReg.predict(X_test)"
   ]
  },
  {
   "cell_type": "code",
   "execution_count": 477,
   "id": "dressed-sussex",
   "metadata": {},
   "outputs": [
    {
     "data": {
      "text/plain": [
       "<BarContainer object of 8 artists>"
      ]
     },
     "execution_count": 477,
     "metadata": {},
     "output_type": "execute_result"
    },
    {
     "data": {
      "image/png": "[encoded data removed]",
      "text/plain": [
       "<Figure size 432x288 with 1 Axes>"
      ]
     },
     "metadata": {
      "needs_background": "light"
     },
     "output_type": "display_data"
    }
   ],
   "source": [
    "plt.figure()\n",
    "plt.barh(X.columns, linearReg.coef_)"
   ]
  },
  {
   "cell_type": "code",
   "execution_count": 478,
   "id": "saving-congress",
   "metadata": {},
   "outputs": [
    {
     "data": {
      "image/png": "[encoded data removed]",
      "text/plain": [
       "<Figure size 504x432 with 2 Axes>"
      ]
     },
     "metadata": {
      "needs_background": "light"
     },
     "output_type": "display_data"
    }
   ],
   "source": [
    "from scipy.interpolate import interp2d\n",
    "from scipy.interpolate import LinearNDInterpolator\n",
    "\n",
    "##Aggregate the data tfor plotting purpuse \n",
    "X_data = np.hstack((df_agg_merge_producer_train['X, m'].values, df_agg_preProducer['X, m'].values))\n",
    "Y_data = np.hstack((df_agg_merge_producer_train['Y, m'].values, df_agg_preProducer['Y, m'].values))\n",
    "Z_data = np.hstack((df_agg_merge_producer_target.values, result4))\n",
    "\n",
    "X_prod3 = np.linspace(min(X_data), max(X_data))\n",
    "Y_prod3 = np.linspace(min(Y_data), max(Y_data))\n",
    "X_prod3, Y_prod3 = np.meshgrid(X_prod3, Y_prod3) \n",
    "interp = LinearNDInterpolator(list(zip(X_data, Y_data)), Z_data)\n",
    "Z_prod3 = interp(X_prod3, Y_prod3)\n",
    "\n",
    "fig, ax = plt.subplots(figsize = (7, 6))\n",
    "im0 = ax.pcolormesh(X_prod3, Y_prod3, Z_prod3, shading='auto', alpha = 0.5) \n",
    "ax.plot([10000/10000, 1750/10000], [1750/10000, 10000/10000], 'r')\n",
    "im1 = ax.scatter(df_preProducer_imputed_scale['X, m'], df_preProducer_imputed_scale['Y, m'], c = 'red')\n",
    "im2 = ax.scatter(df_producer_imputed_scale['X, m'], df_producer_imputed_scale['Y, m'], c = 'blue')\n",
    "\n",
    "#Plotting Well Number\n",
    "#wellNumberMarker = [x.split(\"_\")[-1] for x in df_producer['Well_ID'].values]\n",
    "#for i, txt in enumerate(wellNumberMarker):\n",
    "#    ax.annotate(txt, ((df_producer['X, m'][i], df_producer['Y, m'][i])))\n",
    "#wellNumberMarker = [x.split(\"_\")[-1] for x in df_preProc['Well_ID'].values]\n",
    "#for i, txt in enumerate(wellNumberMarker):\n",
    "#    ax.annotate(txt, ((df_preProc['X, m'][i], df_preProc['Y, m'][i])))\n",
    "\n",
    "ax.set_xlabel('x [km]')\n",
    "ax.set_ylabel('y [km]')\n",
    "ax.set_title('3yr production map [MSTB]_Linear regression')\n",
    "ax.legend([im1, im2], ['Testing Well', 'Training Well'])\n",
    "\n",
    "fig.colorbar(im0, ax = ax, shrink=0.9)\n",
    "plt.gca().invert_yaxis()"
   ]
  },
  {
   "cell_type": "code",
   "execution_count": 457,
   "id": "artificial-rebound",
   "metadata": {},
   "outputs": [
    {
     "data": {
      "text/plain": [
       "array([ 555.807808  ,  879.36176101, 1394.61363932, 1497.41482922,\n",
       "       1325.26725933, 1412.69881774,  980.48071801,  919.95699355,\n",
       "       1168.20798644,  875.42252024])"
      ]
     },
     "execution_count": 457,
     "metadata": {},
     "output_type": "execute_result"
    }
   ],
   "source": [
    "result4"
   ]
  },
  {
   "cell_type": "code",
   "execution_count": null,
   "id": "canadian-cable",
   "metadata": {},
   "outputs": [],
   "source": [
    "### Prediction  --- linearReg.predict(X_test)"
   ]
  },
  {
   "cell_type": "code",
   "execution_count": 461,
   "id": "exposed-mustang",
   "metadata": {},
   "outputs": [
    {
     "data": {
      "image/png": "[encoded data removed]",
      "text/plain": [
       "<Figure size 432x288 with 1 Axes>"
      ]
     },
     "metadata": {
      "needs_background": "light"
     },
     "output_type": "display_data"
    }
   ],
   "source": [
    "## Uncertainty analysis \n",
    "import random \n",
    "N = 1000      #number of picked point \n",
    "predictionALL = []\n",
    "keyFeature = ['Depth, m', 'Porosity, fraction', 'Permeability, mD', 'Acoustic Impedance, kg*s/m^2', 'Density, g/cm3',\n",
    "             'Compressible velocity, m/s', 'Youngs modulus, GPa', 'Shear modulus, GPa']\n",
    "\n",
    "for wellNum in range(74, 84):\n",
    "    \n",
    "    if wellNum >= 75:\n",
    "        break ##Temp code\n",
    "    \n",
    "    wellName = \"Well_no_{}\".format(wellNum)\n",
    "    \n",
    "    #masking the data\n",
    "    df = df_preProducer_imputed_scale[df_preProducer_imputed_scale[\"Well_ID\"] == wellName]\n",
    "    \n",
    "    #Prediction distribution \n",
    "    predictionWell = []\n",
    "    \n",
    "    X_boostrap = np.zeros((N, len(keyFeature)))\n",
    "    \n",
    "    for i in range(len(keyFeature)):\n",
    "        ## Select small feature\n",
    "        series = df[keyFeature[i]]   \n",
    "        \n",
    "        ## Independently draw \n",
    "        data = np.random.choice(series.dropna(), N, replace = True)\n",
    "        \n",
    "        X_boostrap[:, i] = data\n",
    "    \n",
    "    yPred = linearReg.predict(X_boostrap)\n",
    "    \n",
    "    plt.figure()\n",
    "    plt.hist(yPred)"
   ]
  },
  {
   "cell_type": "code",
   "execution_count": 479,
   "id": "unable-official",
   "metadata": {},
   "outputs": [
    {
     "data": {
      "image/png": "[encoded data removed]",
      "text/plain": [
       "<Figure size 432x288 with 1 Axes>"
      ]
     },
     "metadata": {
      "needs_background": "light"
     },
     "output_type": "display_data"
    },
    {
     "data": {
      "image/png": "[encoded data removed]",
      "text/plain": [
       "<Figure size 432x288 with 1 Axes>"
      ]
     },
     "metadata": {
      "needs_background": "light"
     },
     "output_type": "display_data"
    },
    {
     "data": {
      "image/png": "[encoded data removed]",
      "text/plain": [
       "<Figure size 432x288 with 1 Axes>"
      ]
     },
     "metadata": {
      "needs_background": "light"
     },
     "output_type": "display_data"
    }
   ],
   "source": [
    "## Uncertainty analysis  --- Multivarient drawing \n",
    "import random \n",
    "N = 20000      #number of picked point \n",
    "predictionALL = []\n",
    "keyFeature = ['Depth, m', 'Porosity, fraction', 'Permeability, mD', 'Acoustic Impedance, kg*s/m^2', 'Density, g/cm3',\n",
    "             'Compressible velocity, m/s', 'Youngs modulus, GPa', 'Shear modulus, GPa']\n",
    "\n",
    "for wellNum in range(74, 84):\n",
    "    \n",
    "    if wellNum >= 77:\n",
    "        break \n",
    "    \n",
    "    wellName = \"Well_no_{}\".format(wellNum)\n",
    "    \n",
    "    #masking the data\n",
    "    df = df_preProducer_imputed_scale[df_preProducer_imputed_scale[\"Well_ID\"] == wellName]\n",
    "    \n",
    "    covMatrix = np.cov(df[keyFeature].dropna(), rowvar=False)\n",
    "    meanVal = df[keyFeature].dropna().mean()\n",
    "    X_boostrap = np.random.multivariate_normal(meanVal, covMatrix, size=100)    \n",
    "    \n",
    "    yPred = linearReg.predict(X_boostrap)\n",
    "    plt.figure()\n",
    "    plt.hist(yPred)\n",
    "    plt.title(\"{}\".format(np.mean(yPred)))"
   ]
  },
  {
   "cell_type": "code",
   "execution_count": 504,
   "id": "gross-excuse",
   "metadata": {},
   "outputs": [
    {
     "data": {
      "image/png": "[encoded data removed]",
      "text/plain": [
       "<Figure size 432x288 with 1 Axes>"
      ]
     },
     "metadata": {
      "needs_background": "light"
     },
     "output_type": "display_data"
    },
    {
     "data": {
      "image/png": "[encoded data removed]",
      "text/plain": [
       "<Figure size 432x288 with 1 Axes>"
      ]
     },
     "metadata": {
      "needs_background": "light"
     },
     "output_type": "display_data"
    }
   ],
   "source": [
    "## Uncertainty analysis  --- Multivarient drawing  -- random forest\n",
    "import random \n",
    "N = 20000      #number of picked point \n",
    "predictionALL = np.zeros((10, N))\n",
    "keyFeature = ['Depth, m', 'Porosity, fraction', 'Permeability, mD', 'Acoustic Impedance, kg*s/m^2', 'Density, g/cm3',\n",
    "             'Compressible velocity, m/s', 'Youngs modulus, GPa', 'Shear modulus, GPa']\n",
    "i = 0\n",
    "for wellNum in range(74, 84):\n",
    "    \n",
    "    wellName = \"Well_no_{}\".format(wellNum)\n",
    "    \n",
    "    #masking the data\n",
    "    df = df_preProducer_imputed_scale[df_preProducer_imputed_scale[\"Well_ID\"] == wellName].drop(\"Well_ID\", axis = 1)\n",
    "    \n",
    "    covMatrix = np.cov(df.dropna(), rowvar=False)\n",
    "    meanVal = df.dropna().mean()\n",
    "    X_boostrap = np.random.multivariate_normal(meanVal, covMatrix, size=N)    \n",
    "    \n",
    "    yPred = RF_featureImportance.predict(X_boostrap)\n",
    "    \n",
    "    predictionALL[i, :] = yPred\n",
    "    i = i + 1\n",
    "    if wellNum < 76:\n",
    "        plt.figure()\n",
    "        plt.hist(yPred)\n",
    "        plt.title(\"{}\".format(np.mean(yPred)))"
   ]
  },
  {
   "cell_type": "code",
   "execution_count": 502,
   "id": "prescribed-charge",
   "metadata": {},
   "outputs": [
    {
     "data": {
      "text/plain": [
       "array([ 964.00435485, 1015.16896713, 1263.22667999, 1442.28520512,\n",
       "       1280.78935627, 1396.18136347, 1169.58795344, 1060.60710937,\n",
       "       1210.55568164, 1004.94456095])"
      ]
     },
     "execution_count": 502,
     "metadata": {},
     "output_type": "execute_result"
    }
   ],
   "source": [
    "predictionALL.mean(axis = 1)"
   ]
  },
  {
   "cell_type": "code",
   "execution_count": 505,
   "id": "according-reservoir",
   "metadata": {},
   "outputs": [
    {
     "data": {
      "image/png": "[encoded data removed]",
      "text/plain": [
       "<Figure size 504x432 with 2 Axes>"
      ]
     },
     "metadata": {
      "needs_background": "light"
     },
     "output_type": "display_data"
    }
   ],
   "source": [
    "from scipy.interpolate import interp2d\n",
    "from scipy.interpolate import LinearNDInterpolator\n",
    "\n",
    "##Aggregate the data tfor plotting purpuse \n",
    "X_data = np.hstack((df_agg_merge_producer_train['X, m'].values, df_agg_preProducer['X, m'].values))\n",
    "Y_data = np.hstack((df_agg_merge_producer_train['Y, m'].values, df_agg_preProducer['Y, m'].values))\n",
    "Z_data = np.hstack((df_agg_merge_producer_target.values, predictionALL.mean(axis = 1)))\n",
    "\n",
    "X_prod3 = np.linspace(min(X_data), max(X_data))\n",
    "Y_prod3 = np.linspace(min(Y_data), max(Y_data))\n",
    "X_prod3, Y_prod3 = np.meshgrid(X_prod3, Y_prod3) \n",
    "interp = LinearNDInterpolator(list(zip(X_data, Y_data)), Z_data)\n",
    "Z_prod3 = interp(X_prod3, Y_prod3)\n",
    "\n",
    "fig, ax = plt.subplots(figsize = (7, 6))\n",
    "im0 = ax.pcolormesh(X_prod3, Y_prod3, Z_prod3, shading='auto', alpha = 0.5) \n",
    "ax.plot([10000/10000, 1750/10000], [1750/10000, 10000/10000], 'r')\n",
    "im1 = ax.scatter(df_preProducer_imputed_scale['X, m'], df_preProducer_imputed_scale['Y, m'], c = 'red')\n",
    "im2 = ax.scatter(df_producer_imputed_scale['X, m'], df_producer_imputed_scale['Y, m'], c = 'blue')\n",
    "\n",
    "ax.set_xlabel('x [km]')\n",
    "ax.set_ylabel('y [km]')\n",
    "ax.set_title('3yr production map [MSTB]_Random forest')\n",
    "ax.legend([im1, im2], ['Testing Well', 'Training Well'])\n",
    "\n",
    "fig.colorbar(im0, ax = ax, shrink=0.9)\n",
    "plt.gca().invert_yaxis()"
   ]
  },
  {
   "cell_type": "code",
   "execution_count": 506,
   "id": "selected-lender",
   "metadata": {},
   "outputs": [
    {
     "data": {
      "text/plain": [
       "array([[ 642.41052788, 1348.74280595,  760.76712611, ...,  884.435825  ,\n",
       "         855.89445516,  747.19709944],\n",
       "       [1856.7942    ,  508.19213417, 1713.91625   , ..., 1887.9558    ,\n",
       "         587.63624337, 1164.2857288 ],\n",
       "       [1828.31988167, 1791.2292    , 2091.669     , ...,  512.85983   ,\n",
       "        2035.423     ,  587.93351671],\n",
       "       ...,\n",
       "       [ 519.71320188,  603.62721036,  539.75150881, ...,  525.74335734,\n",
       "        2217.083     , 1013.4943029 ],\n",
       "       [ 819.06833595,  726.2165356 , 2097.9485    , ..., 1550.15480641,\n",
       "         881.76913119, 1725.34343159],\n",
       "       [ 717.37811417,  698.15516647,  839.70232702, ...,  735.3164278 ,\n",
       "         717.12719298, 1671.38012564]])"
      ]
     },
     "execution_count": 506,
     "metadata": {},
     "output_type": "execute_result"
    }
   ],
   "source": [
    "predictionALL"
   ]
  },
  {
   "cell_type": "code",
   "execution_count": 521,
   "id": "forty-gamma",
   "metadata": {},
   "outputs": [],
   "source": [
    "finalSolution = []\n",
    "for i in range(10):\n",
    "    finalSolution.append(np.percentile(predictionALL[i, :], range(1, 101)))\n",
    "\n",
    "finalSolution = np.array(finalSolution)\n",
    "finalSolution = np.hstack((predictionALL.mean(axis = 1)[:, np.newaxis], finalSolution))"
   ]
  },
  {
   "cell_type": "code",
   "execution_count": 524,
   "id": "parliamentary-spirituality",
   "metadata": {},
   "outputs": [],
   "source": [
    "pd.DataFrame(finalSolution).to_csv(\"solution.csv\")"
   ]
  },
  {
   "cell_type": "code",
   "execution_count": 522,
   "id": "rental-chemistry",
   "metadata": {},
   "outputs": [
    {
     "data": {
      "text/plain": [
       "array([[ 965.58209304,  545.2943019 ,  562.66860849, ..., 1821.3435    ,\n",
       "        1847.808734  , 1920.0173    ],\n",
       "       [1014.6954477 ,  497.88965917,  498.42885917, ..., 1956.0663    ,\n",
       "        1984.5001675 , 2256.96      ],\n",
       "       [1274.35104268,  510.87084   ,  534.23201638, ..., 2227.06214   ,\n",
       "        2237.38448   , 2268.67      ],\n",
       "       ...,\n",
       "       [1052.27897313,  494.75069333,  500.91515803, ..., 2058.5313    ,\n",
       "        2117.0389    , 2261.432     ],\n",
       "       [1215.70855656,  629.71006589,  648.80178998, ..., 2119.349449  ,\n",
       "        2140.3099    , 2252.075     ],\n",
       "       [1003.90585299,  533.11657205,  542.81149131, ..., 1890.40558081,\n",
       "        1937.16449231, 2139.33966667]])"
      ]
     },
     "execution_count": 522,
     "metadata": {},
     "output_type": "execute_result"
    }
   ],
   "source": [
    "finalSolution"
   ]
  },
  {
   "cell_type": "code",
   "execution_count": 482,
   "id": "smaller-encyclopedia",
   "metadata": {},
   "outputs": [
    {
     "data": {
      "image/png": "[encoded data removed]",
      "text/plain": [
       "<Figure size 432x288 with 1 Axes>"
      ]
     },
     "metadata": {
      "needs_background": "light"
     },
     "output_type": "display_data"
    }
   ],
   "source": [
    "## Uncertainty analysis \n",
    "import random \n",
    "N = 1000      #number of picked point \n",
    "predictionALL = []\n",
    "keyFeature = ['Depth, m', 'Porosity, fraction', 'Permeability, mD', 'Acoustic Impedance, kg*s/m^2', 'Density, g/cm3',\n",
    "             'Compressible velocity, m/s', 'Youngs modulus, GPa', 'Shear modulus, GPa']\n",
    "\n",
    "for wellNum in range(74, 84):\n",
    "    \n",
    "    if wellNum >= 75:\n",
    "        break ##Temp code\n",
    "    \n",
    "    wellName = \"Well_no_{}\".format(wellNum)\n",
    "    \n",
    "    #masking the data\n",
    "    df = df_preProducer_imputed_scale[df_preProducer_imputed_scale[\"Well_ID\"] == wellName]\n",
    "    \n",
    "    #Prediction distribution \n",
    "    predictionWell = []\n",
    "    \n",
    "    #Cropout a row\n",
    "    matrix = df[keyFeature].dropna().values\n",
    "        \n",
    "    ## Independently draw \n",
    "    idx = np.random.randint(0, high = matrix.shape[0], size = N)\n",
    "    X_boostrap = matrix[idx, :]\n",
    "    \n",
    "    yPred = linearReg.predict(X_boostrap)\n",
    "    \n",
    "    plt.figure()\n",
    "    plt.hist(yPred)"
   ]
  },
  {
   "cell_type": "code",
   "execution_count": 435,
   "id": "reflected-oxygen",
   "metadata": {},
   "outputs": [
    {
     "data": {
      "text/html": [
       "<div>\n",
       "<style scoped>\n",
       "    .dataframe tbody tr th:only-of-type {\n",
       "        vertical-align: middle;\n",
       "    }\n",
       "\n",
       "    .dataframe tbody tr th {\n",
       "        vertical-align: top;\n",
       "    }\n",
       "\n",
       "    .dataframe thead th {\n",
       "        text-align: right;\n",
       "    }\n",
       "</style>\n",
       "<table border=\"1\" class=\"dataframe\">\n",
       "  <thead>\n",
       "    <tr style=\"text-align: right;\">\n",
       "      <th></th>\n",
       "      <th>Depth, m</th>\n",
       "      <th>Porosity, fraction</th>\n",
       "      <th>Permeability, mD</th>\n",
       "      <th>Acoustic Impedance, kg*s/m^2</th>\n",
       "      <th>Density, g/cm3</th>\n",
       "      <th>Compressible velocity, m/s</th>\n",
       "      <th>Youngs modulus, GPa</th>\n",
       "      <th>Shear modulus, GPa</th>\n",
       "    </tr>\n",
       "  </thead>\n",
       "  <tbody>\n",
       "    <tr>\n",
       "      <th>2</th>\n",
       "      <td>0.284816</td>\n",
       "      <td>0.124529</td>\n",
       "      <td>0.473814</td>\n",
       "      <td>0.532958</td>\n",
       "      <td>0.532958</td>\n",
       "      <td>0.221009</td>\n",
       "      <td>0.241522</td>\n",
       "      <td>0.545943</td>\n",
       "    </tr>\n",
       "    <tr>\n",
       "      <th>4</th>\n",
       "      <td>0.333172</td>\n",
       "      <td>0.555571</td>\n",
       "      <td>0.574679</td>\n",
       "      <td>0.116563</td>\n",
       "      <td>0.116563</td>\n",
       "      <td>0.613260</td>\n",
       "      <td>0.666455</td>\n",
       "      <td>0.211526</td>\n",
       "    </tr>\n",
       "    <tr>\n",
       "      <th>6</th>\n",
       "      <td>0.381528</td>\n",
       "      <td>0.571313</td>\n",
       "      <td>0.620615</td>\n",
       "      <td>0.199213</td>\n",
       "      <td>0.199213</td>\n",
       "      <td>0.482168</td>\n",
       "      <td>0.418929</td>\n",
       "      <td>0.377677</td>\n",
       "    </tr>\n",
       "    <tr>\n",
       "      <th>8</th>\n",
       "      <td>0.429884</td>\n",
       "      <td>0.633006</td>\n",
       "      <td>0.610453</td>\n",
       "      <td>0.130034</td>\n",
       "      <td>0.130034</td>\n",
       "      <td>0.444018</td>\n",
       "      <td>0.594639</td>\n",
       "      <td>0.336633</td>\n",
       "    </tr>\n",
       "    <tr>\n",
       "      <th>9</th>\n",
       "      <td>0.454062</td>\n",
       "      <td>0.133140</td>\n",
       "      <td>0.394625</td>\n",
       "      <td>0.299274</td>\n",
       "      <td>0.299274</td>\n",
       "      <td>0.329171</td>\n",
       "      <td>0.353857</td>\n",
       "      <td>0.659679</td>\n",
       "    </tr>\n",
       "  </tbody>\n",
       "</table>\n",
       "</div>"
      ],
      "text/plain": [
       "   Depth, m  Porosity, fraction  Permeability, mD  \\\n",
       "2  0.284816            0.124529          0.473814   \n",
       "4  0.333172            0.555571          0.574679   \n",
       "6  0.381528            0.571313          0.620615   \n",
       "8  0.429884            0.633006          0.610453   \n",
       "9  0.454062            0.133140          0.394625   \n",
       "\n",
       "   Acoustic Impedance, kg*s/m^2  Density, g/cm3  Compressible velocity, m/s  \\\n",
       "2                      0.532958        0.532958                    0.221009   \n",
       "4                      0.116563        0.116563                    0.613260   \n",
       "6                      0.199213        0.199213                    0.482168   \n",
       "8                      0.130034        0.130034                    0.444018   \n",
       "9                      0.299274        0.299274                    0.329171   \n",
       "\n",
       "   Youngs modulus, GPa  Shear modulus, GPa  \n",
       "2             0.241522            0.545943  \n",
       "4             0.666455            0.211526  \n",
       "6             0.418929            0.377677  \n",
       "8             0.594639            0.336633  \n",
       "9             0.353857            0.659679  "
      ]
     },
     "execution_count": 435,
     "metadata": {},
     "output_type": "execute_result"
    }
   ],
   "source": [
    "df[keyFeature].dropna().head()"
   ]
  },
  {
   "cell_type": "code",
   "execution_count": 480,
   "id": "interesting-designer",
   "metadata": {},
   "outputs": [
    {
     "ename": "ValueError",
     "evalue": "a must be 1-dimensional",
     "output_type": "error",
     "traceback": [
      "\u001b[1;31m---------------------------------------------------------------------------\u001b[0m",
      "\u001b[1;31mValueError\u001b[0m                                Traceback (most recent call last)",
      "\u001b[1;32m<ipython-input-480-0d4b40d5a2b5>\u001b[0m in \u001b[0;36m<module>\u001b[1;34m\u001b[0m\n\u001b[1;32m----> 1\u001b[1;33m \u001b[0mnp\u001b[0m\u001b[1;33m.\u001b[0m\u001b[0mrandom\u001b[0m\u001b[1;33m.\u001b[0m\u001b[0mchoice\u001b[0m\u001b[1;33m(\u001b[0m\u001b[0mnp\u001b[0m\u001b[1;33m.\u001b[0m\u001b[0marray\u001b[0m\u001b[1;33m(\u001b[0m\u001b[1;33m[\u001b[0m\u001b[1;33m[\u001b[0m\u001b[1;36m1\u001b[0m\u001b[1;33m,\u001b[0m\u001b[1;36m1\u001b[0m\u001b[1;33m,\u001b[0m\u001b[1;36m1\u001b[0m\u001b[1;33m]\u001b[0m\u001b[1;33m,\u001b[0m \u001b[1;33m[\u001b[0m\u001b[1;36m2\u001b[0m\u001b[1;33m,\u001b[0m\u001b[1;36m2\u001b[0m\u001b[1;33m,\u001b[0m\u001b[1;36m2\u001b[0m\u001b[1;33m]\u001b[0m\u001b[1;33m]\u001b[0m\u001b[1;33m)\u001b[0m\u001b[1;33m,\u001b[0m \u001b[1;36m10\u001b[0m\u001b[1;33m,\u001b[0m \u001b[0mreplace\u001b[0m \u001b[1;33m=\u001b[0m \u001b[1;32mTrue\u001b[0m\u001b[1;33m)\u001b[0m\u001b[1;33m\u001b[0m\u001b[1;33m\u001b[0m\u001b[0m\n\u001b[0m",
      "\u001b[1;32mmtrand.pyx\u001b[0m in \u001b[0;36mnumpy.random.mtrand.RandomState.choice\u001b[1;34m()\u001b[0m\n",
      "\u001b[1;31mValueError\u001b[0m: a must be 1-dimensional"
     ]
    }
   ],
   "source": [
    "np.random.choice(np.array([[1,1,1], [2,2,2]]), 10, replace = True)"
   ]
  },
  {
   "cell_type": "code",
   "execution_count": 440,
   "id": "compatible-newfoundland",
   "metadata": {},
   "outputs": [],
   "source": []
  },
  {
   "cell_type": "code",
   "execution_count": 441,
   "id": "insured-washer",
   "metadata": {},
   "outputs": [
    {
     "data": {
      "text/plain": [
       "array([0.42849429, 0.69208485, 0.66118604, 0.13971074, 0.13971074,\n",
       "       0.46434812, 0.5260155 , 0.35414836])"
      ]
     },
     "execution_count": 441,
     "metadata": {},
     "output_type": "execute_result"
    }
   ],
   "source": []
  },
  {
   "cell_type": "code",
   "execution_count": 395,
   "id": "direct-dubai",
   "metadata": {},
   "outputs": [
    {
     "data": {
      "text/html": [
       "<div>\n",
       "<style scoped>\n",
       "    .dataframe tbody tr th:only-of-type {\n",
       "        vertical-align: middle;\n",
       "    }\n",
       "\n",
       "    .dataframe tbody tr th {\n",
       "        vertical-align: top;\n",
       "    }\n",
       "\n",
       "    .dataframe thead th {\n",
       "        text-align: right;\n",
       "    }\n",
       "</style>\n",
       "<table border=\"1\" class=\"dataframe\">\n",
       "  <thead>\n",
       "    <tr style=\"text-align: right;\">\n",
       "      <th></th>\n",
       "      <th>Well_ID</th>\n",
       "      <th>X, m</th>\n",
       "      <th>Y, m</th>\n",
       "      <th>Depth, m</th>\n",
       "      <th>Porosity, fraction</th>\n",
       "      <th>Permeability, mD</th>\n",
       "      <th>Acoustic Impedance, kg*s/m^2</th>\n",
       "      <th>Density, g/cm3</th>\n",
       "      <th>Compressible velocity, m/s</th>\n",
       "      <th>Youngs modulus, GPa</th>\n",
       "      <th>Shear velocity, m/s</th>\n",
       "      <th>Shear modulus, GPa</th>\n",
       "      <th>Vclay</th>\n",
       "    </tr>\n",
       "  </thead>\n",
       "  <tbody>\n",
       "    <tr>\n",
       "      <th>0</th>\n",
       "      <td>Well_no_74</td>\n",
       "      <td>0.7925</td>\n",
       "      <td>0.5525</td>\n",
       "      <td>0.236460</td>\n",
       "      <td>NaN</td>\n",
       "      <td>NaN</td>\n",
       "      <td>NaN</td>\n",
       "      <td>NaN</td>\n",
       "      <td>0.381986</td>\n",
       "      <td>NaN</td>\n",
       "      <td>0.597331</td>\n",
       "      <td>0.450283</td>\n",
       "      <td>0.6667</td>\n",
       "    </tr>\n",
       "    <tr>\n",
       "      <th>1</th>\n",
       "      <td>Well_no_74</td>\n",
       "      <td>0.7925</td>\n",
       "      <td>0.5525</td>\n",
       "      <td>0.260638</td>\n",
       "      <td>0.341025</td>\n",
       "      <td>NaN</td>\n",
       "      <td>0.170281</td>\n",
       "      <td>0.170281</td>\n",
       "      <td>NaN</td>\n",
       "      <td>NaN</td>\n",
       "      <td>0.409482</td>\n",
       "      <td>0.322468</td>\n",
       "      <td>0.3333</td>\n",
       "    </tr>\n",
       "    <tr>\n",
       "      <th>2</th>\n",
       "      <td>Well_no_74</td>\n",
       "      <td>0.7925</td>\n",
       "      <td>0.5525</td>\n",
       "      <td>0.284816</td>\n",
       "      <td>0.124529</td>\n",
       "      <td>0.473814</td>\n",
       "      <td>0.532958</td>\n",
       "      <td>0.532958</td>\n",
       "      <td>0.221009</td>\n",
       "      <td>0.241522</td>\n",
       "      <td>0.518568</td>\n",
       "      <td>0.545943</td>\n",
       "      <td>0.6667</td>\n",
       "    </tr>\n",
       "    <tr>\n",
       "      <th>3</th>\n",
       "      <td>Well_no_74</td>\n",
       "      <td>0.7925</td>\n",
       "      <td>0.5525</td>\n",
       "      <td>0.308994</td>\n",
       "      <td>NaN</td>\n",
       "      <td>NaN</td>\n",
       "      <td>0.221502</td>\n",
       "      <td>0.221502</td>\n",
       "      <td>0.359418</td>\n",
       "      <td>0.452017</td>\n",
       "      <td>0.603015</td>\n",
       "      <td>0.475476</td>\n",
       "      <td>0.3333</td>\n",
       "    </tr>\n",
       "    <tr>\n",
       "      <th>4</th>\n",
       "      <td>Well_no_74</td>\n",
       "      <td>0.7925</td>\n",
       "      <td>0.5525</td>\n",
       "      <td>0.333172</td>\n",
       "      <td>0.555571</td>\n",
       "      <td>0.574679</td>\n",
       "      <td>0.116563</td>\n",
       "      <td>0.116563</td>\n",
       "      <td>0.613260</td>\n",
       "      <td>0.666455</td>\n",
       "      <td>0.649808</td>\n",
       "      <td>0.211526</td>\n",
       "      <td>0.3333</td>\n",
       "    </tr>\n",
       "  </tbody>\n",
       "</table>\n",
       "</div>"
      ],
      "text/plain": [
       "      Well_ID    X, m    Y, m  Depth, m  Porosity, fraction  Permeability, mD  \\\n",
       "0  Well_no_74  0.7925  0.5525  0.236460                 NaN               NaN   \n",
       "1  Well_no_74  0.7925  0.5525  0.260638            0.341025               NaN   \n",
       "2  Well_no_74  0.7925  0.5525  0.284816            0.124529          0.473814   \n",
       "3  Well_no_74  0.7925  0.5525  0.308994                 NaN               NaN   \n",
       "4  Well_no_74  0.7925  0.5525  0.333172            0.555571          0.574679   \n",
       "\n",
       "   Acoustic Impedance, kg*s/m^2  Density, g/cm3  Compressible velocity, m/s  \\\n",
       "0                           NaN             NaN                    0.381986   \n",
       "1                      0.170281        0.170281                         NaN   \n",
       "2                      0.532958        0.532958                    0.221009   \n",
       "3                      0.221502        0.221502                    0.359418   \n",
       "4                      0.116563        0.116563                    0.613260   \n",
       "\n",
       "   Youngs modulus, GPa  Shear velocity, m/s  Shear modulus, GPa   Vclay  \n",
       "0                  NaN             0.597331            0.450283  0.6667  \n",
       "1                  NaN             0.409482            0.322468  0.3333  \n",
       "2             0.241522             0.518568            0.545943  0.6667  \n",
       "3             0.452017             0.603015            0.475476  0.3333  \n",
       "4             0.666455             0.649808            0.211526  0.3333  "
      ]
     },
     "execution_count": 395,
     "metadata": {},
     "output_type": "execute_result"
    }
   ],
   "source": [
    "df_preProducer_imputed_scale.head()"
   ]
  },
  {
   "cell_type": "code",
   "execution_count": 396,
   "id": "detailed-killer",
   "metadata": {},
   "outputs": [
    {
     "data": {
      "text/plain": [
       "array(['Well_no_74', 'Well_no_75', 'Well_no_76', 'Well_no_77',\n",
       "       'Well_no_78', 'Well_no_79', 'Well_no_80', 'Well_no_81',\n",
       "       'Well_no_82', 'Well_no_83'], dtype=object)"
      ]
     },
     "execution_count": 396,
     "metadata": {},
     "output_type": "execute_result"
    }
   ],
   "source": [
    "df_preProducer_imputed_scale['Well_ID'].unique()"
   ]
  },
  {
   "cell_type": "code",
   "execution_count": null,
   "id": "obvious-honolulu",
   "metadata": {},
   "outputs": [],
   "source": [
    "A = np.array([])"
   ]
  },
  {
   "cell_type": "code",
   "execution_count": 398,
   "id": "crude-edward",
   "metadata": {},
   "outputs": [
    {
     "data": {
      "text/plain": [
       "[2, 5, 1, 3, 1]"
      ]
     },
     "execution_count": 398,
     "metadata": {},
     "output_type": "execute_result"
    }
   ],
   "source": [
    "import random\n",
    "[random.choice([1,2,3,4,5]) for _ in [1,2,3,4,5]]"
   ]
  },
  {
   "cell_type": "code",
   "execution_count": 402,
   "id": "automated-cookie",
   "metadata": {},
   "outputs": [
    {
     "data": {
      "text/plain": [
       "array([5, 3, 5, 1, 5, 5, 4, 3, 4, 2, 2, 4, 2, 4, 4, 5, 4, 3, 5, 4, 1, 4,\n",
       "       4, 1, 5, 2, 1, 3, 1, 1, 4, 4, 2, 2, 1, 5, 3, 3, 1, 3, 1, 1, 5, 2,\n",
       "       5, 2, 1, 1, 5, 4, 3, 4, 4, 2, 4, 3, 4, 1, 3, 2, 5, 4, 3, 4, 3, 1,\n",
       "       3, 2, 2, 5, 3, 3, 3, 4, 2, 5, 1, 5, 5, 3, 4, 5, 3, 3, 2, 1, 3, 4,\n",
       "       4, 4, 5, 3, 5, 5, 1, 4, 4, 3, 3, 3])"
      ]
     },
     "execution_count": 402,
     "metadata": {},
     "output_type": "execute_result"
    }
   ],
   "source": []
  },
  {
   "cell_type": "code",
   "execution_count": 370,
   "id": "iraqi-earthquake",
   "metadata": {
    "collapsed": true,
    "jupyter": {
     "outputs_hidden": true
    }
   },
   "outputs": [
    {
     "name": "stdout",
     "output_type": "stream",
     "text": [
      "Fitting 5 folds for each of 4 candidates, totalling 20 fits\n",
      "[CV] degree=2 ........................................................\n"
     ]
    },
    {
     "name": "stderr",
     "output_type": "stream",
     "text": [
      "[Parallel(n_jobs=1)]: Using backend SequentialBackend with 1 concurrent workers.\n"
     ]
    },
    {
     "ename": "AttributeError",
     "evalue": "'PolynomialFeatures' object has no attribute 'predict'",
     "output_type": "error",
     "traceback": [
      "\u001b[1;31m---------------------------------------------------------------------------\u001b[0m",
      "\u001b[1;31mAttributeError\u001b[0m                            Traceback (most recent call last)",
      "\u001b[1;32m<ipython-input-370-427e8af0982d>\u001b[0m in \u001b[0;36m<module>\u001b[1;34m\u001b[0m\n\u001b[0;32m     14\u001b[0m \u001b[0mclf\u001b[0m \u001b[1;33m=\u001b[0m \u001b[0mGridSearchCV\u001b[0m\u001b[1;33m(\u001b[0m\u001b[0mpolyReg\u001b[0m\u001b[1;33m,\u001b[0m \u001b[0mparameters\u001b[0m\u001b[1;33m,\u001b[0m \u001b[0mverbose\u001b[0m \u001b[1;33m=\u001b[0m \u001b[1;36m3\u001b[0m\u001b[1;33m,\u001b[0m \u001b[0mscoring\u001b[0m \u001b[1;33m=\u001b[0m \u001b[1;34m'neg_mean_absolute_error'\u001b[0m\u001b[1;33m)\u001b[0m\u001b[1;33m\u001b[0m\u001b[1;33m\u001b[0m\u001b[0m\n\u001b[0;32m     15\u001b[0m \u001b[1;33m\u001b[0m\u001b[0m\n\u001b[1;32m---> 16\u001b[1;33m \u001b[0mclf\u001b[0m\u001b[1;33m.\u001b[0m\u001b[0mfit\u001b[0m\u001b[1;33m(\u001b[0m\u001b[0mdf_agg_merge_producer_train\u001b[0m\u001b[1;33m,\u001b[0m \u001b[0mdf_agg_merge_producer_target\u001b[0m\u001b[1;33m)\u001b[0m\u001b[1;33m\u001b[0m\u001b[1;33m\u001b[0m\u001b[0m\n\u001b[0m",
      "\u001b[1;32m~\\miniconda3\\envs\\datathon\\lib\\site-packages\\sklearn\\utils\\validation.py\u001b[0m in \u001b[0;36minner_f\u001b[1;34m(*args, **kwargs)\u001b[0m\n\u001b[0;32m     70\u001b[0m                           FutureWarning)\n\u001b[0;32m     71\u001b[0m         \u001b[0mkwargs\u001b[0m\u001b[1;33m.\u001b[0m\u001b[0mupdate\u001b[0m\u001b[1;33m(\u001b[0m\u001b[1;33m{\u001b[0m\u001b[0mk\u001b[0m\u001b[1;33m:\u001b[0m \u001b[0marg\u001b[0m \u001b[1;32mfor\u001b[0m \u001b[0mk\u001b[0m\u001b[1;33m,\u001b[0m \u001b[0marg\u001b[0m \u001b[1;32min\u001b[0m \u001b[0mzip\u001b[0m\u001b[1;33m(\u001b[0m\u001b[0msig\u001b[0m\u001b[1;33m.\u001b[0m\u001b[0mparameters\u001b[0m\u001b[1;33m,\u001b[0m \u001b[0margs\u001b[0m\u001b[1;33m)\u001b[0m\u001b[1;33m}\u001b[0m\u001b[1;33m)\u001b[0m\u001b[1;33m\u001b[0m\u001b[1;33m\u001b[0m\u001b[0m\n\u001b[1;32m---> 72\u001b[1;33m         \u001b[1;32mreturn\u001b[0m \u001b[0mf\u001b[0m\u001b[1;33m(\u001b[0m\u001b[1;33m**\u001b[0m\u001b[0mkwargs\u001b[0m\u001b[1;33m)\u001b[0m\u001b[1;33m\u001b[0m\u001b[1;33m\u001b[0m\u001b[0m\n\u001b[0m\u001b[0;32m     73\u001b[0m     \u001b[1;32mreturn\u001b[0m \u001b[0minner_f\u001b[0m\u001b[1;33m\u001b[0m\u001b[1;33m\u001b[0m\u001b[0m\n\u001b[0;32m     74\u001b[0m \u001b[1;33m\u001b[0m\u001b[0m\n",
      "\u001b[1;32m~\\miniconda3\\envs\\datathon\\lib\\site-packages\\sklearn\\model_selection\\_search.py\u001b[0m in \u001b[0;36mfit\u001b[1;34m(self, X, y, groups, **fit_params)\u001b[0m\n\u001b[0;32m    734\u001b[0m                 \u001b[1;32mreturn\u001b[0m \u001b[0mresults\u001b[0m\u001b[1;33m\u001b[0m\u001b[1;33m\u001b[0m\u001b[0m\n\u001b[0;32m    735\u001b[0m \u001b[1;33m\u001b[0m\u001b[0m\n\u001b[1;32m--> 736\u001b[1;33m             \u001b[0mself\u001b[0m\u001b[1;33m.\u001b[0m\u001b[0m_run_search\u001b[0m\u001b[1;33m(\u001b[0m\u001b[0mevaluate_candidates\u001b[0m\u001b[1;33m)\u001b[0m\u001b[1;33m\u001b[0m\u001b[1;33m\u001b[0m\u001b[0m\n\u001b[0m\u001b[0;32m    737\u001b[0m \u001b[1;33m\u001b[0m\u001b[0m\n\u001b[0;32m    738\u001b[0m         \u001b[1;31m# For multi-metric evaluation, store the best_index_, best_params_ and\u001b[0m\u001b[1;33m\u001b[0m\u001b[1;33m\u001b[0m\u001b[1;33m\u001b[0m\u001b[0m\n",
      "\u001b[1;32m~\\miniconda3\\envs\\datathon\\lib\\site-packages\\sklearn\\model_selection\\_search.py\u001b[0m in \u001b[0;36m_run_search\u001b[1;34m(self, evaluate_candidates)\u001b[0m\n\u001b[0;32m   1186\u001b[0m     \u001b[1;32mdef\u001b[0m \u001b[0m_run_search\u001b[0m\u001b[1;33m(\u001b[0m\u001b[0mself\u001b[0m\u001b[1;33m,\u001b[0m \u001b[0mevaluate_candidates\u001b[0m\u001b[1;33m)\u001b[0m\u001b[1;33m:\u001b[0m\u001b[1;33m\u001b[0m\u001b[1;33m\u001b[0m\u001b[0m\n\u001b[0;32m   1187\u001b[0m         \u001b[1;34m\"\"\"Search all candidates in param_grid\"\"\"\u001b[0m\u001b[1;33m\u001b[0m\u001b[1;33m\u001b[0m\u001b[0m\n\u001b[1;32m-> 1188\u001b[1;33m         \u001b[0mevaluate_candidates\u001b[0m\u001b[1;33m(\u001b[0m\u001b[0mParameterGrid\u001b[0m\u001b[1;33m(\u001b[0m\u001b[0mself\u001b[0m\u001b[1;33m.\u001b[0m\u001b[0mparam_grid\u001b[0m\u001b[1;33m)\u001b[0m\u001b[1;33m)\u001b[0m\u001b[1;33m\u001b[0m\u001b[1;33m\u001b[0m\u001b[0m\n\u001b[0m\u001b[0;32m   1189\u001b[0m \u001b[1;33m\u001b[0m\u001b[0m\n\u001b[0;32m   1190\u001b[0m \u001b[1;33m\u001b[0m\u001b[0m\n",
      "\u001b[1;32m~\\miniconda3\\envs\\datathon\\lib\\site-packages\\sklearn\\model_selection\\_search.py\u001b[0m in \u001b[0;36mevaluate_candidates\u001b[1;34m(candidate_params)\u001b[0m\n\u001b[0;32m    706\u001b[0m                               n_splits, n_candidates, n_candidates * n_splits))\n\u001b[0;32m    707\u001b[0m \u001b[1;33m\u001b[0m\u001b[0m\n\u001b[1;32m--> 708\u001b[1;33m                 out = parallel(delayed(_fit_and_score)(clone(base_estimator),\n\u001b[0m\u001b[0;32m    709\u001b[0m                                                        \u001b[0mX\u001b[0m\u001b[1;33m,\u001b[0m \u001b[0my\u001b[0m\u001b[1;33m,\u001b[0m\u001b[1;33m\u001b[0m\u001b[1;33m\u001b[0m\u001b[0m\n\u001b[0;32m    710\u001b[0m                                                        \u001b[0mtrain\u001b[0m\u001b[1;33m=\u001b[0m\u001b[0mtrain\u001b[0m\u001b[1;33m,\u001b[0m \u001b[0mtest\u001b[0m\u001b[1;33m=\u001b[0m\u001b[0mtest\u001b[0m\u001b[1;33m,\u001b[0m\u001b[1;33m\u001b[0m\u001b[1;33m\u001b[0m\u001b[0m\n",
      "\u001b[1;32m~\\miniconda3\\envs\\datathon\\lib\\site-packages\\joblib\\parallel.py\u001b[0m in \u001b[0;36m__call__\u001b[1;34m(self, iterable)\u001b[0m\n\u001b[0;32m   1039\u001b[0m             \u001b[1;31m# remaining jobs.\u001b[0m\u001b[1;33m\u001b[0m\u001b[1;33m\u001b[0m\u001b[1;33m\u001b[0m\u001b[0m\n\u001b[0;32m   1040\u001b[0m             \u001b[0mself\u001b[0m\u001b[1;33m.\u001b[0m\u001b[0m_iterating\u001b[0m \u001b[1;33m=\u001b[0m \u001b[1;32mFalse\u001b[0m\u001b[1;33m\u001b[0m\u001b[1;33m\u001b[0m\u001b[0m\n\u001b[1;32m-> 1041\u001b[1;33m             \u001b[1;32mif\u001b[0m \u001b[0mself\u001b[0m\u001b[1;33m.\u001b[0m\u001b[0mdispatch_one_batch\u001b[0m\u001b[1;33m(\u001b[0m\u001b[0miterator\u001b[0m\u001b[1;33m)\u001b[0m\u001b[1;33m:\u001b[0m\u001b[1;33m\u001b[0m\u001b[1;33m\u001b[0m\u001b[0m\n\u001b[0m\u001b[0;32m   1042\u001b[0m                 \u001b[0mself\u001b[0m\u001b[1;33m.\u001b[0m\u001b[0m_iterating\u001b[0m \u001b[1;33m=\u001b[0m \u001b[0mself\u001b[0m\u001b[1;33m.\u001b[0m\u001b[0m_original_iterator\u001b[0m \u001b[1;32mis\u001b[0m \u001b[1;32mnot\u001b[0m \u001b[1;32mNone\u001b[0m\u001b[1;33m\u001b[0m\u001b[1;33m\u001b[0m\u001b[0m\n\u001b[0;32m   1043\u001b[0m \u001b[1;33m\u001b[0m\u001b[0m\n",
      "\u001b[1;32m~\\miniconda3\\envs\\datathon\\lib\\site-packages\\joblib\\parallel.py\u001b[0m in \u001b[0;36mdispatch_one_batch\u001b[1;34m(self, iterator)\u001b[0m\n\u001b[0;32m    857\u001b[0m                 \u001b[1;32mreturn\u001b[0m \u001b[1;32mFalse\u001b[0m\u001b[1;33m\u001b[0m\u001b[1;33m\u001b[0m\u001b[0m\n\u001b[0;32m    858\u001b[0m             \u001b[1;32melse\u001b[0m\u001b[1;33m:\u001b[0m\u001b[1;33m\u001b[0m\u001b[1;33m\u001b[0m\u001b[0m\n\u001b[1;32m--> 859\u001b[1;33m                 \u001b[0mself\u001b[0m\u001b[1;33m.\u001b[0m\u001b[0m_dispatch\u001b[0m\u001b[1;33m(\u001b[0m\u001b[0mtasks\u001b[0m\u001b[1;33m)\u001b[0m\u001b[1;33m\u001b[0m\u001b[1;33m\u001b[0m\u001b[0m\n\u001b[0m\u001b[0;32m    860\u001b[0m                 \u001b[1;32mreturn\u001b[0m \u001b[1;32mTrue\u001b[0m\u001b[1;33m\u001b[0m\u001b[1;33m\u001b[0m\u001b[0m\n\u001b[0;32m    861\u001b[0m \u001b[1;33m\u001b[0m\u001b[0m\n",
      "\u001b[1;32m~\\miniconda3\\envs\\datathon\\lib\\site-packages\\joblib\\parallel.py\u001b[0m in \u001b[0;36m_dispatch\u001b[1;34m(self, batch)\u001b[0m\n\u001b[0;32m    775\u001b[0m         \u001b[1;32mwith\u001b[0m \u001b[0mself\u001b[0m\u001b[1;33m.\u001b[0m\u001b[0m_lock\u001b[0m\u001b[1;33m:\u001b[0m\u001b[1;33m\u001b[0m\u001b[1;33m\u001b[0m\u001b[0m\n\u001b[0;32m    776\u001b[0m             \u001b[0mjob_idx\u001b[0m \u001b[1;33m=\u001b[0m \u001b[0mlen\u001b[0m\u001b[1;33m(\u001b[0m\u001b[0mself\u001b[0m\u001b[1;33m.\u001b[0m\u001b[0m_jobs\u001b[0m\u001b[1;33m)\u001b[0m\u001b[1;33m\u001b[0m\u001b[1;33m\u001b[0m\u001b[0m\n\u001b[1;32m--> 777\u001b[1;33m             \u001b[0mjob\u001b[0m \u001b[1;33m=\u001b[0m \u001b[0mself\u001b[0m\u001b[1;33m.\u001b[0m\u001b[0m_backend\u001b[0m\u001b[1;33m.\u001b[0m\u001b[0mapply_async\u001b[0m\u001b[1;33m(\u001b[0m\u001b[0mbatch\u001b[0m\u001b[1;33m,\u001b[0m \u001b[0mcallback\u001b[0m\u001b[1;33m=\u001b[0m\u001b[0mcb\u001b[0m\u001b[1;33m)\u001b[0m\u001b[1;33m\u001b[0m\u001b[1;33m\u001b[0m\u001b[0m\n\u001b[0m\u001b[0;32m    778\u001b[0m             \u001b[1;31m# A job can complete so quickly than its callback is\u001b[0m\u001b[1;33m\u001b[0m\u001b[1;33m\u001b[0m\u001b[1;33m\u001b[0m\u001b[0m\n\u001b[0;32m    779\u001b[0m             \u001b[1;31m# called before we get here, causing self._jobs to\u001b[0m\u001b[1;33m\u001b[0m\u001b[1;33m\u001b[0m\u001b[1;33m\u001b[0m\u001b[0m\n",
      "\u001b[1;32m~\\miniconda3\\envs\\datathon\\lib\\site-packages\\joblib\\_parallel_backends.py\u001b[0m in \u001b[0;36mapply_async\u001b[1;34m(self, func, callback)\u001b[0m\n\u001b[0;32m    206\u001b[0m     \u001b[1;32mdef\u001b[0m \u001b[0mapply_async\u001b[0m\u001b[1;33m(\u001b[0m\u001b[0mself\u001b[0m\u001b[1;33m,\u001b[0m \u001b[0mfunc\u001b[0m\u001b[1;33m,\u001b[0m \u001b[0mcallback\u001b[0m\u001b[1;33m=\u001b[0m\u001b[1;32mNone\u001b[0m\u001b[1;33m)\u001b[0m\u001b[1;33m:\u001b[0m\u001b[1;33m\u001b[0m\u001b[1;33m\u001b[0m\u001b[0m\n\u001b[0;32m    207\u001b[0m         \u001b[1;34m\"\"\"Schedule a func to be run\"\"\"\u001b[0m\u001b[1;33m\u001b[0m\u001b[1;33m\u001b[0m\u001b[0m\n\u001b[1;32m--> 208\u001b[1;33m         \u001b[0mresult\u001b[0m \u001b[1;33m=\u001b[0m \u001b[0mImmediateResult\u001b[0m\u001b[1;33m(\u001b[0m\u001b[0mfunc\u001b[0m\u001b[1;33m)\u001b[0m\u001b[1;33m\u001b[0m\u001b[1;33m\u001b[0m\u001b[0m\n\u001b[0m\u001b[0;32m    209\u001b[0m         \u001b[1;32mif\u001b[0m \u001b[0mcallback\u001b[0m\u001b[1;33m:\u001b[0m\u001b[1;33m\u001b[0m\u001b[1;33m\u001b[0m\u001b[0m\n\u001b[0;32m    210\u001b[0m             \u001b[0mcallback\u001b[0m\u001b[1;33m(\u001b[0m\u001b[0mresult\u001b[0m\u001b[1;33m)\u001b[0m\u001b[1;33m\u001b[0m\u001b[1;33m\u001b[0m\u001b[0m\n",
      "\u001b[1;32m~\\miniconda3\\envs\\datathon\\lib\\site-packages\\joblib\\_parallel_backends.py\u001b[0m in \u001b[0;36m__init__\u001b[1;34m(self, batch)\u001b[0m\n\u001b[0;32m    570\u001b[0m         \u001b[1;31m# Don't delay the application, to avoid keeping the input\u001b[0m\u001b[1;33m\u001b[0m\u001b[1;33m\u001b[0m\u001b[1;33m\u001b[0m\u001b[0m\n\u001b[0;32m    571\u001b[0m         \u001b[1;31m# arguments in memory\u001b[0m\u001b[1;33m\u001b[0m\u001b[1;33m\u001b[0m\u001b[1;33m\u001b[0m\u001b[0m\n\u001b[1;32m--> 572\u001b[1;33m         \u001b[0mself\u001b[0m\u001b[1;33m.\u001b[0m\u001b[0mresults\u001b[0m \u001b[1;33m=\u001b[0m \u001b[0mbatch\u001b[0m\u001b[1;33m(\u001b[0m\u001b[1;33m)\u001b[0m\u001b[1;33m\u001b[0m\u001b[1;33m\u001b[0m\u001b[0m\n\u001b[0m\u001b[0;32m    573\u001b[0m \u001b[1;33m\u001b[0m\u001b[0m\n\u001b[0;32m    574\u001b[0m     \u001b[1;32mdef\u001b[0m \u001b[0mget\u001b[0m\u001b[1;33m(\u001b[0m\u001b[0mself\u001b[0m\u001b[1;33m)\u001b[0m\u001b[1;33m:\u001b[0m\u001b[1;33m\u001b[0m\u001b[1;33m\u001b[0m\u001b[0m\n",
      "\u001b[1;32m~\\miniconda3\\envs\\datathon\\lib\\site-packages\\joblib\\parallel.py\u001b[0m in \u001b[0;36m__call__\u001b[1;34m(self)\u001b[0m\n\u001b[0;32m    260\u001b[0m         \u001b[1;31m# change the default number of processes to -1\u001b[0m\u001b[1;33m\u001b[0m\u001b[1;33m\u001b[0m\u001b[1;33m\u001b[0m\u001b[0m\n\u001b[0;32m    261\u001b[0m         \u001b[1;32mwith\u001b[0m \u001b[0mparallel_backend\u001b[0m\u001b[1;33m(\u001b[0m\u001b[0mself\u001b[0m\u001b[1;33m.\u001b[0m\u001b[0m_backend\u001b[0m\u001b[1;33m,\u001b[0m \u001b[0mn_jobs\u001b[0m\u001b[1;33m=\u001b[0m\u001b[0mself\u001b[0m\u001b[1;33m.\u001b[0m\u001b[0m_n_jobs\u001b[0m\u001b[1;33m)\u001b[0m\u001b[1;33m:\u001b[0m\u001b[1;33m\u001b[0m\u001b[1;33m\u001b[0m\u001b[0m\n\u001b[1;32m--> 262\u001b[1;33m             return [func(*args, **kwargs)\n\u001b[0m\u001b[0;32m    263\u001b[0m                     for func, args, kwargs in self.items]\n\u001b[0;32m    264\u001b[0m \u001b[1;33m\u001b[0m\u001b[0m\n",
      "\u001b[1;32m~\\miniconda3\\envs\\datathon\\lib\\site-packages\\joblib\\parallel.py\u001b[0m in \u001b[0;36m<listcomp>\u001b[1;34m(.0)\u001b[0m\n\u001b[0;32m    260\u001b[0m         \u001b[1;31m# change the default number of processes to -1\u001b[0m\u001b[1;33m\u001b[0m\u001b[1;33m\u001b[0m\u001b[1;33m\u001b[0m\u001b[0m\n\u001b[0;32m    261\u001b[0m         \u001b[1;32mwith\u001b[0m \u001b[0mparallel_backend\u001b[0m\u001b[1;33m(\u001b[0m\u001b[0mself\u001b[0m\u001b[1;33m.\u001b[0m\u001b[0m_backend\u001b[0m\u001b[1;33m,\u001b[0m \u001b[0mn_jobs\u001b[0m\u001b[1;33m=\u001b[0m\u001b[0mself\u001b[0m\u001b[1;33m.\u001b[0m\u001b[0m_n_jobs\u001b[0m\u001b[1;33m)\u001b[0m\u001b[1;33m:\u001b[0m\u001b[1;33m\u001b[0m\u001b[1;33m\u001b[0m\u001b[0m\n\u001b[1;32m--> 262\u001b[1;33m             return [func(*args, **kwargs)\n\u001b[0m\u001b[0;32m    263\u001b[0m                     for func, args, kwargs in self.items]\n\u001b[0;32m    264\u001b[0m \u001b[1;33m\u001b[0m\u001b[0m\n",
      "\u001b[1;32m~\\miniconda3\\envs\\datathon\\lib\\site-packages\\sklearn\\model_selection\\_validation.py\u001b[0m in \u001b[0;36m_fit_and_score\u001b[1;34m(estimator, X, y, scorer, train, test, verbose, parameters, fit_params, return_train_score, return_parameters, return_n_test_samples, return_times, return_estimator, error_score)\u001b[0m\n\u001b[0;32m    558\u001b[0m     \u001b[1;32melse\u001b[0m\u001b[1;33m:\u001b[0m\u001b[1;33m\u001b[0m\u001b[1;33m\u001b[0m\u001b[0m\n\u001b[0;32m    559\u001b[0m         \u001b[0mfit_time\u001b[0m \u001b[1;33m=\u001b[0m \u001b[0mtime\u001b[0m\u001b[1;33m.\u001b[0m\u001b[0mtime\u001b[0m\u001b[1;33m(\u001b[0m\u001b[1;33m)\u001b[0m \u001b[1;33m-\u001b[0m \u001b[0mstart_time\u001b[0m\u001b[1;33m\u001b[0m\u001b[1;33m\u001b[0m\u001b[0m\n\u001b[1;32m--> 560\u001b[1;33m         \u001b[0mtest_scores\u001b[0m \u001b[1;33m=\u001b[0m \u001b[0m_score\u001b[0m\u001b[1;33m(\u001b[0m\u001b[0mestimator\u001b[0m\u001b[1;33m,\u001b[0m \u001b[0mX_test\u001b[0m\u001b[1;33m,\u001b[0m \u001b[0my_test\u001b[0m\u001b[1;33m,\u001b[0m \u001b[0mscorer\u001b[0m\u001b[1;33m)\u001b[0m\u001b[1;33m\u001b[0m\u001b[1;33m\u001b[0m\u001b[0m\n\u001b[0m\u001b[0;32m    561\u001b[0m         \u001b[0mscore_time\u001b[0m \u001b[1;33m=\u001b[0m \u001b[0mtime\u001b[0m\u001b[1;33m.\u001b[0m\u001b[0mtime\u001b[0m\u001b[1;33m(\u001b[0m\u001b[1;33m)\u001b[0m \u001b[1;33m-\u001b[0m \u001b[0mstart_time\u001b[0m \u001b[1;33m-\u001b[0m \u001b[0mfit_time\u001b[0m\u001b[1;33m\u001b[0m\u001b[1;33m\u001b[0m\u001b[0m\n\u001b[0;32m    562\u001b[0m         \u001b[1;32mif\u001b[0m \u001b[0mreturn_train_score\u001b[0m\u001b[1;33m:\u001b[0m\u001b[1;33m\u001b[0m\u001b[1;33m\u001b[0m\u001b[0m\n",
      "\u001b[1;32m~\\miniconda3\\envs\\datathon\\lib\\site-packages\\sklearn\\model_selection\\_validation.py\u001b[0m in \u001b[0;36m_score\u001b[1;34m(estimator, X_test, y_test, scorer)\u001b[0m\n\u001b[0;32m    605\u001b[0m         \u001b[0mscores\u001b[0m \u001b[1;33m=\u001b[0m \u001b[0mscorer\u001b[0m\u001b[1;33m(\u001b[0m\u001b[0mestimator\u001b[0m\u001b[1;33m,\u001b[0m \u001b[0mX_test\u001b[0m\u001b[1;33m)\u001b[0m\u001b[1;33m\u001b[0m\u001b[1;33m\u001b[0m\u001b[0m\n\u001b[0;32m    606\u001b[0m     \u001b[1;32melse\u001b[0m\u001b[1;33m:\u001b[0m\u001b[1;33m\u001b[0m\u001b[1;33m\u001b[0m\u001b[0m\n\u001b[1;32m--> 607\u001b[1;33m         \u001b[0mscores\u001b[0m \u001b[1;33m=\u001b[0m \u001b[0mscorer\u001b[0m\u001b[1;33m(\u001b[0m\u001b[0mestimator\u001b[0m\u001b[1;33m,\u001b[0m \u001b[0mX_test\u001b[0m\u001b[1;33m,\u001b[0m \u001b[0my_test\u001b[0m\u001b[1;33m)\u001b[0m\u001b[1;33m\u001b[0m\u001b[1;33m\u001b[0m\u001b[0m\n\u001b[0m\u001b[0;32m    608\u001b[0m \u001b[1;33m\u001b[0m\u001b[0m\n\u001b[0;32m    609\u001b[0m     error_msg = (\"scoring must return a number, got %s (%s) \"\n",
      "\u001b[1;32m~\\miniconda3\\envs\\datathon\\lib\\site-packages\\sklearn\\metrics\\_scorer.py\u001b[0m in \u001b[0;36m__call__\u001b[1;34m(self, estimator, *args, **kwargs)\u001b[0m\n\u001b[0;32m     85\u001b[0m         \u001b[1;32mfor\u001b[0m \u001b[0mname\u001b[0m\u001b[1;33m,\u001b[0m \u001b[0mscorer\u001b[0m \u001b[1;32min\u001b[0m \u001b[0mself\u001b[0m\u001b[1;33m.\u001b[0m\u001b[0m_scorers\u001b[0m\u001b[1;33m.\u001b[0m\u001b[0mitems\u001b[0m\u001b[1;33m(\u001b[0m\u001b[1;33m)\u001b[0m\u001b[1;33m:\u001b[0m\u001b[1;33m\u001b[0m\u001b[1;33m\u001b[0m\u001b[0m\n\u001b[0;32m     86\u001b[0m             \u001b[1;32mif\u001b[0m \u001b[0misinstance\u001b[0m\u001b[1;33m(\u001b[0m\u001b[0mscorer\u001b[0m\u001b[1;33m,\u001b[0m \u001b[0m_BaseScorer\u001b[0m\u001b[1;33m)\u001b[0m\u001b[1;33m:\u001b[0m\u001b[1;33m\u001b[0m\u001b[1;33m\u001b[0m\u001b[0m\n\u001b[1;32m---> 87\u001b[1;33m                 score = scorer._score(cached_call, estimator,\n\u001b[0m\u001b[0;32m     88\u001b[0m                                       *args, **kwargs)\n\u001b[0;32m     89\u001b[0m             \u001b[1;32melse\u001b[0m\u001b[1;33m:\u001b[0m\u001b[1;33m\u001b[0m\u001b[1;33m\u001b[0m\u001b[0m\n",
      "\u001b[1;32m~\\miniconda3\\envs\\datathon\\lib\\site-packages\\sklearn\\metrics\\_scorer.py\u001b[0m in \u001b[0;36m_score\u001b[1;34m(self, method_caller, estimator, X, y_true, sample_weight)\u001b[0m\n\u001b[0;32m    204\u001b[0m         \"\"\"\n\u001b[0;32m    205\u001b[0m \u001b[1;33m\u001b[0m\u001b[0m\n\u001b[1;32m--> 206\u001b[1;33m         \u001b[0my_pred\u001b[0m \u001b[1;33m=\u001b[0m \u001b[0mmethod_caller\u001b[0m\u001b[1;33m(\u001b[0m\u001b[0mestimator\u001b[0m\u001b[1;33m,\u001b[0m \u001b[1;34m\"predict\"\u001b[0m\u001b[1;33m,\u001b[0m \u001b[0mX\u001b[0m\u001b[1;33m)\u001b[0m\u001b[1;33m\u001b[0m\u001b[1;33m\u001b[0m\u001b[0m\n\u001b[0m\u001b[0;32m    207\u001b[0m         \u001b[1;32mif\u001b[0m \u001b[0msample_weight\u001b[0m \u001b[1;32mis\u001b[0m \u001b[1;32mnot\u001b[0m \u001b[1;32mNone\u001b[0m\u001b[1;33m:\u001b[0m\u001b[1;33m\u001b[0m\u001b[1;33m\u001b[0m\u001b[0m\n\u001b[0;32m    208\u001b[0m             return self._sign * self._score_func(y_true, y_pred,\n",
      "\u001b[1;32m~\\miniconda3\\envs\\datathon\\lib\\site-packages\\sklearn\\metrics\\_scorer.py\u001b[0m in \u001b[0;36m_cached_call\u001b[1;34m(cache, estimator, method, *args, **kwargs)\u001b[0m\n\u001b[0;32m     51\u001b[0m     \u001b[1;34m\"\"\"Call estimator with method and args and kwargs.\"\"\"\u001b[0m\u001b[1;33m\u001b[0m\u001b[1;33m\u001b[0m\u001b[0m\n\u001b[0;32m     52\u001b[0m     \u001b[1;32mif\u001b[0m \u001b[0mcache\u001b[0m \u001b[1;32mis\u001b[0m \u001b[1;32mNone\u001b[0m\u001b[1;33m:\u001b[0m\u001b[1;33m\u001b[0m\u001b[1;33m\u001b[0m\u001b[0m\n\u001b[1;32m---> 53\u001b[1;33m         \u001b[1;32mreturn\u001b[0m \u001b[0mgetattr\u001b[0m\u001b[1;33m(\u001b[0m\u001b[0mestimator\u001b[0m\u001b[1;33m,\u001b[0m \u001b[0mmethod\u001b[0m\u001b[1;33m)\u001b[0m\u001b[1;33m(\u001b[0m\u001b[1;33m*\u001b[0m\u001b[0margs\u001b[0m\u001b[1;33m,\u001b[0m \u001b[1;33m**\u001b[0m\u001b[0mkwargs\u001b[0m\u001b[1;33m)\u001b[0m\u001b[1;33m\u001b[0m\u001b[1;33m\u001b[0m\u001b[0m\n\u001b[0m\u001b[0;32m     54\u001b[0m \u001b[1;33m\u001b[0m\u001b[0m\n\u001b[0;32m     55\u001b[0m     \u001b[1;32mtry\u001b[0m\u001b[1;33m:\u001b[0m\u001b[1;33m\u001b[0m\u001b[1;33m\u001b[0m\u001b[0m\n",
      "\u001b[1;31mAttributeError\u001b[0m: 'PolynomialFeatures' object has no attribute 'predict'"
     ]
    }
   ],
   "source": [
    "from sklearn.preprocessing import PolynomialFeatures\n",
    "\n",
    "## Recursive feature slection -- random forest \n",
    "from sklearn.model_selection import StratifiedKFold\n",
    "from sklearn.feature_selection import RFECV\n",
    "from sklearn.linear_model import LinearRegression\n",
    "\n",
    "# Create the RFE object and compute a cross-validated score.\n",
    "polyReg = PolynomialFeatures(degree = 2)\n",
    "\n",
    "from sklearn.model_selection import GridSearchCV\n",
    "polyReg = PolynomialFeatures()\n",
    "parameters = {'degree': [2,3,4,5]}\n",
    "clf = GridSearchCV(polyReg, parameters, verbose = 3, scoring = 'neg_mean_absolute_error')\n",
    "\n",
    "clf.fit(df_agg_merge_producer_train, df_agg_merge_producer_target)"
   ]
  },
  {
   "cell_type": "code",
   "execution_count": 387,
   "id": "vertical-norfolk",
   "metadata": {},
   "outputs": [
    {
     "name": "stdout",
     "output_type": "stream",
     "text": [
      "1\n",
      "-177.87297559462294\n",
      "2\n",
      "-354.2037333333334\n",
      "3\n",
      "-550.136099136522\n",
      "4\n",
      "-508.15474813322663\n",
      "5\n",
      "-499.3103599098778\n"
     ]
    }
   ],
   "source": [
    "from sklearn.preprocessing import PolynomialFeatures\n",
    "\n",
    "X_polyReg = df_agg_merge_producer_train.copy()\n",
    "X_polyReg.drop(X_polyReg.columns[np.where(rfecv.support_ == False)[0]], axis=1, inplace=True)\n",
    "\n",
    "y_polyReg = df_agg_merge_producer_target.copy()\n",
    "for nDeg in range(1, 6):\n",
    "    poly = PolynomialFeatures(degree= nDeg)\n",
    "    X_transform = poly.fit_transform(X_polyReg)\n",
    "\n",
    "    linearReg = LinearRegression()\n",
    "    print(nDeg)\n",
    "    print(cross_val_score(linearReg, X_transform, y_polyReg, scoring='neg_mean_absolute_error').mean())"
   ]
  },
  {
   "cell_type": "code",
   "execution_count": 378,
   "id": "integrated-integer",
   "metadata": {},
   "outputs": [
    {
     "name": "stdout",
     "output_type": "stream",
     "text": [
      "-451.5448571428571\n"
     ]
    }
   ],
   "source": []
  },
  {
   "cell_type": "code",
   "execution_count": null,
   "id": "headed-patrick",
   "metadata": {},
   "outputs": [],
   "source": []
  },
  {
   "cell_type": "code",
   "execution_count": null,
   "id": "mineral-criticism",
   "metadata": {},
   "outputs": [],
   "source": []
  },
  {
   "cell_type": "code",
   "execution_count": null,
   "id": "sexual-advance",
   "metadata": {},
   "outputs": [],
   "source": []
  },
  {
   "cell_type": "code",
   "execution_count": null,
   "id": "plastic-confusion",
   "metadata": {},
   "outputs": [],
   "source": []
  },
  {
   "cell_type": "code",
   "execution_count": 359,
   "id": "authorized-fountain",
   "metadata": {},
   "outputs": [
    {
     "data": {
      "text/html": [
       "<div>\n",
       "<style scoped>\n",
       "    .dataframe tbody tr th:only-of-type {\n",
       "        vertical-align: middle;\n",
       "    }\n",
       "\n",
       "    .dataframe tbody tr th {\n",
       "        vertical-align: top;\n",
       "    }\n",
       "\n",
       "    .dataframe thead th {\n",
       "        text-align: right;\n",
       "    }\n",
       "</style>\n",
       "<table border=\"1\" class=\"dataframe\">\n",
       "  <thead>\n",
       "    <tr style=\"text-align: right;\">\n",
       "      <th></th>\n",
       "      <th>Depth, m</th>\n",
       "      <th>Porosity, fraction</th>\n",
       "      <th>Permeability, mD</th>\n",
       "      <th>Acoustic Impedance, kg*s/m^2</th>\n",
       "      <th>Density, g/cm3</th>\n",
       "      <th>Compressible velocity, m/s</th>\n",
       "      <th>Youngs modulus, GPa</th>\n",
       "      <th>Shear modulus, GPa</th>\n",
       "    </tr>\n",
       "  </thead>\n",
       "  <tbody>\n",
       "    <tr>\n",
       "      <th>0</th>\n",
       "      <td>0.466151</td>\n",
       "      <td>0.556415</td>\n",
       "      <td>0.623871</td>\n",
       "      <td>0.233698</td>\n",
       "      <td>0.233698</td>\n",
       "      <td>0.393298</td>\n",
       "      <td>0.427098</td>\n",
       "      <td>0.435512</td>\n",
       "    </tr>\n",
       "    <tr>\n",
       "      <th>1</th>\n",
       "      <td>0.433752</td>\n",
       "      <td>0.556750</td>\n",
       "      <td>0.662642</td>\n",
       "      <td>0.194286</td>\n",
       "      <td>0.194286</td>\n",
       "      <td>0.497204</td>\n",
       "      <td>0.501196</td>\n",
       "      <td>0.371604</td>\n",
       "    </tr>\n",
       "    <tr>\n",
       "      <th>2</th>\n",
       "      <td>0.405706</td>\n",
       "      <td>0.629934</td>\n",
       "      <td>0.724543</td>\n",
       "      <td>0.235002</td>\n",
       "      <td>0.235002</td>\n",
       "      <td>0.423188</td>\n",
       "      <td>0.465686</td>\n",
       "      <td>0.412482</td>\n",
       "    </tr>\n",
       "    <tr>\n",
       "      <th>3</th>\n",
       "      <td>0.333172</td>\n",
       "      <td>0.662211</td>\n",
       "      <td>0.737881</td>\n",
       "      <td>0.237111</td>\n",
       "      <td>0.237111</td>\n",
       "      <td>0.393987</td>\n",
       "      <td>0.399644</td>\n",
       "      <td>0.469184</td>\n",
       "    </tr>\n",
       "    <tr>\n",
       "      <th>4</th>\n",
       "      <td>0.393617</td>\n",
       "      <td>0.627299</td>\n",
       "      <td>0.723498</td>\n",
       "      <td>0.184923</td>\n",
       "      <td>0.184923</td>\n",
       "      <td>0.488026</td>\n",
       "      <td>0.500232</td>\n",
       "      <td>0.357404</td>\n",
       "    </tr>\n",
       "    <tr>\n",
       "      <th>5</th>\n",
       "      <td>0.351064</td>\n",
       "      <td>0.710544</td>\n",
       "      <td>0.707353</td>\n",
       "      <td>0.194599</td>\n",
       "      <td>0.194599</td>\n",
       "      <td>0.486120</td>\n",
       "      <td>0.479875</td>\n",
       "      <td>0.379289</td>\n",
       "    </tr>\n",
       "    <tr>\n",
       "      <th>6</th>\n",
       "      <td>0.397104</td>\n",
       "      <td>0.572503</td>\n",
       "      <td>0.665246</td>\n",
       "      <td>0.271630</td>\n",
       "      <td>0.271630</td>\n",
       "      <td>0.388446</td>\n",
       "      <td>0.416560</td>\n",
       "      <td>0.443864</td>\n",
       "    </tr>\n",
       "    <tr>\n",
       "      <th>7</th>\n",
       "      <td>0.522244</td>\n",
       "      <td>0.552146</td>\n",
       "      <td>0.681205</td>\n",
       "      <td>0.186557</td>\n",
       "      <td>0.186557</td>\n",
       "      <td>0.536601</td>\n",
       "      <td>0.508758</td>\n",
       "      <td>0.374962</td>\n",
       "    </tr>\n",
       "    <tr>\n",
       "      <th>8</th>\n",
       "      <td>0.283849</td>\n",
       "      <td>0.555160</td>\n",
       "      <td>0.671504</td>\n",
       "      <td>0.307098</td>\n",
       "      <td>0.307098</td>\n",
       "      <td>0.377231</td>\n",
       "      <td>0.393566</td>\n",
       "      <td>0.460477</td>\n",
       "    </tr>\n",
       "    <tr>\n",
       "      <th>9</th>\n",
       "      <td>0.349613</td>\n",
       "      <td>0.541358</td>\n",
       "      <td>0.656580</td>\n",
       "      <td>0.181100</td>\n",
       "      <td>0.181100</td>\n",
       "      <td>0.482780</td>\n",
       "      <td>0.501467</td>\n",
       "      <td>0.388806</td>\n",
       "    </tr>\n",
       "  </tbody>\n",
       "</table>\n",
       "</div>"
      ],
      "text/plain": [
       "   Depth, m  Porosity, fraction  Permeability, mD  \\\n",
       "0  0.466151            0.556415          0.623871   \n",
       "1  0.433752            0.556750          0.662642   \n",
       "2  0.405706            0.629934          0.724543   \n",
       "3  0.333172            0.662211          0.737881   \n",
       "4  0.393617            0.627299          0.723498   \n",
       "5  0.351064            0.710544          0.707353   \n",
       "6  0.397104            0.572503          0.665246   \n",
       "7  0.522244            0.552146          0.681205   \n",
       "8  0.283849            0.555160          0.671504   \n",
       "9  0.349613            0.541358          0.656580   \n",
       "\n",
       "   Acoustic Impedance, kg*s/m^2  Density, g/cm3  Compressible velocity, m/s  \\\n",
       "0                      0.233698        0.233698                    0.393298   \n",
       "1                      0.194286        0.194286                    0.497204   \n",
       "2                      0.235002        0.235002                    0.423188   \n",
       "3                      0.237111        0.237111                    0.393987   \n",
       "4                      0.184923        0.184923                    0.488026   \n",
       "5                      0.194599        0.194599                    0.486120   \n",
       "6                      0.271630        0.271630                    0.388446   \n",
       "7                      0.186557        0.186557                    0.536601   \n",
       "8                      0.307098        0.307098                    0.377231   \n",
       "9                      0.181100        0.181100                    0.482780   \n",
       "\n",
       "   Youngs modulus, GPa  Shear modulus, GPa  \n",
       "0             0.427098            0.435512  \n",
       "1             0.501196            0.371604  \n",
       "2             0.465686            0.412482  \n",
       "3             0.399644            0.469184  \n",
       "4             0.500232            0.357404  \n",
       "5             0.479875            0.379289  \n",
       "6             0.416560            0.443864  \n",
       "7             0.508758            0.374962  \n",
       "8             0.393566            0.460477  \n",
       "9             0.501467            0.388806  "
      ]
     },
     "execution_count": 359,
     "metadata": {},
     "output_type": "execute_result"
    }
   ],
   "source": [
    "X_test"
   ]
  },
  {
   "cell_type": "code",
   "execution_count": null,
   "id": "competitive-roulette",
   "metadata": {},
   "outputs": [],
   "source": [
    "#Uncertainty \n",
    "\n",
    "for wellNumber in range(X_test.shape[0]):\n",
    "    pass"
   ]
  },
  {
   "cell_type": "code",
   "execution_count": null,
   "id": "gentle-hollow",
   "metadata": {},
   "outputs": [],
   "source": []
  },
  {
   "cell_type": "code",
   "execution_count": null,
   "id": "affiliated-norwegian",
   "metadata": {},
   "outputs": [],
   "source": []
  },
  {
   "cell_type": "code",
   "execution_count": null,
   "id": "comparable-costs",
   "metadata": {},
   "outputs": [],
   "source": []
  },
  {
   "cell_type": "code",
   "execution_count": null,
   "id": "mediterranean-scholar",
   "metadata": {},
   "outputs": [],
   "source": []
  },
  {
   "cell_type": "code",
   "execution_count": null,
   "id": "humanitarian-hunter",
   "metadata": {},
   "outputs": [],
   "source": []
  },
  {
   "cell_type": "code",
   "execution_count": null,
   "id": "moderate-morris",
   "metadata": {},
   "outputs": [],
   "source": []
  },
  {
   "cell_type": "code",
   "execution_count": null,
   "id": "individual-reasoning",
   "metadata": {},
   "outputs": [],
   "source": []
  },
  {
   "cell_type": "code",
   "execution_count": null,
   "id": "worldwide-vehicle",
   "metadata": {},
   "outputs": [],
   "source": []
  },
  {
   "cell_type": "code",
   "execution_count": null,
   "id": "going-composite",
   "metadata": {},
   "outputs": [],
   "source": []
  },
  {
   "cell_type": "code",
   "execution_count": 324,
   "id": "medium-midwest",
   "metadata": {},
   "outputs": [],
   "source": [
    "## Kevin data\n",
    "df_kevin = pd.read_csv(\"production_aggregate.csv\")\n",
    "df_kevin.tail()\n",
    "\n",
    "preProducer_Well_ID = ['Well_no_{}'.format(x) for x in range(74, 84)]\n",
    "\n",
    "df_kevin_producer = df_kevin[~df_kevin['Well_ID'].isin(preProducer_Well_ID)]\n",
    "df_kevin_preproducer = df_kevin[df_kevin['Well_ID'].isin(preProducer_Well_ID)]"
   ]
  },
  {
   "cell_type": "code",
   "execution_count": 325,
   "id": "continuing-vitamin",
   "metadata": {},
   "outputs": [],
   "source": [
    "X = df_kevin_producer.drop([\"Well_ID\", \"prod_cum_3yr\"],axis = 1)\n",
    "y = df_kevin_producer[\"prod_cum_3yr\"]"
   ]
  },
  {
   "cell_type": "code",
   "execution_count": 312,
   "id": "economic-binding",
   "metadata": {
    "collapsed": true,
    "jupyter": {
     "outputs_hidden": true
    }
   },
   "outputs": [
    {
     "name": "stdout",
     "output_type": "stream",
     "text": [
      "Fitting 5 folds for each of 30 candidates, totalling 150 fits\n",
      "[CV] max_depth=5, n_estimators=10 ....................................\n",
      "[CV] ..... max_depth=5, n_estimators=10, score=-196.314, total=   0.0s\n",
      "[CV] max_depth=5, n_estimators=10 ....................................\n",
      "[CV] ..... max_depth=5, n_estimators=10, score=-210.551, total=   0.0s\n",
      "[CV] max_depth=5, n_estimators=10 ....................................\n",
      "[CV] ..... max_depth=5, n_estimators=10, score=-231.921, total=   0.0s\n",
      "[CV] max_depth=5, n_estimators=10 ....................................\n",
      "[CV] ..... max_depth=5, n_estimators=10, score=-244.760, total=   0.0s\n",
      "[CV] max_depth=5, n_estimators=10 ....................................\n",
      "[CV] ..... max_depth=5, n_estimators=10, score=-203.685, total=   0.0s\n",
      "[CV] max_depth=5, n_estimators=25 ....................................\n",
      "[CV] ..... max_depth=5, n_estimators=25, score=-188.512, total=   0.0s\n",
      "[CV] max_depth=5, n_estimators=25 ....................................\n"
     ]
    },
    {
     "name": "stderr",
     "output_type": "stream",
     "text": [
      "[Parallel(n_jobs=1)]: Using backend SequentialBackend with 1 concurrent workers.\n",
      "[Parallel(n_jobs=1)]: Done   1 out of   1 | elapsed:    0.0s remaining:    0.0s\n",
      "[Parallel(n_jobs=1)]: Done   2 out of   2 | elapsed:    0.0s remaining:    0.0s\n"
     ]
    },
    {
     "name": "stdout",
     "output_type": "stream",
     "text": [
      "[CV] ..... max_depth=5, n_estimators=25, score=-206.247, total=   0.0s\n",
      "[CV] max_depth=5, n_estimators=25 ....................................\n",
      "[CV] ..... max_depth=5, n_estimators=25, score=-240.216, total=   0.0s\n",
      "[CV] max_depth=5, n_estimators=25 ....................................\n",
      "[CV] ..... max_depth=5, n_estimators=25, score=-224.270, total=   0.0s\n",
      "[CV] max_depth=5, n_estimators=25 ....................................\n",
      "[CV] ..... max_depth=5, n_estimators=25, score=-177.101, total=   0.0s\n",
      "[CV] max_depth=5, n_estimators=50 ....................................\n",
      "[CV] ..... max_depth=5, n_estimators=50, score=-181.832, total=   0.1s\n",
      "[CV] max_depth=5, n_estimators=50 ....................................\n",
      "[CV] ..... max_depth=5, n_estimators=50, score=-188.759, total=   0.1s\n",
      "[CV] max_depth=5, n_estimators=50 ....................................\n",
      "[CV] ..... max_depth=5, n_estimators=50, score=-227.342, total=   0.1s\n",
      "[CV] max_depth=5, n_estimators=50 ....................................\n",
      "[CV] ..... max_depth=5, n_estimators=50, score=-258.485, total=   0.1s\n",
      "[CV] max_depth=5, n_estimators=50 ....................................\n",
      "[CV] ..... max_depth=5, n_estimators=50, score=-191.000, total=   0.1s\n",
      "[CV] max_depth=5, n_estimators=75 ....................................\n",
      "[CV] ..... max_depth=5, n_estimators=75, score=-196.223, total=   0.1s\n",
      "[CV] max_depth=5, n_estimators=75 ....................................\n",
      "[CV] ..... max_depth=5, n_estimators=75, score=-215.428, total=   0.1s\n",
      "[CV] max_depth=5, n_estimators=75 ....................................\n",
      "[CV] ..... max_depth=5, n_estimators=75, score=-228.364, total=   0.1s\n",
      "[CV] max_depth=5, n_estimators=75 ....................................\n",
      "[CV] ..... max_depth=5, n_estimators=75, score=-255.662, total=   0.1s\n",
      "[CV] max_depth=5, n_estimators=75 ....................................\n",
      "[CV] ..... max_depth=5, n_estimators=75, score=-198.739, total=   0.1s\n",
      "[CV] max_depth=5, n_estimators=100 ...................................\n",
      "[CV] .... max_depth=5, n_estimators=100, score=-193.639, total=   0.2s\n",
      "[CV] max_depth=5, n_estimators=100 ...................................\n",
      "[CV] .... max_depth=5, n_estimators=100, score=-206.968, total=   0.1s\n",
      "[CV] max_depth=5, n_estimators=100 ...................................\n",
      "[CV] .... max_depth=5, n_estimators=100, score=-229.570, total=   0.1s\n",
      "[CV] max_depth=5, n_estimators=100 ...................................\n",
      "[CV] .... max_depth=5, n_estimators=100, score=-249.314, total=   0.2s\n",
      "[CV] max_depth=5, n_estimators=100 ...................................\n",
      "[CV] .... max_depth=5, n_estimators=100, score=-206.525, total=   0.2s\n",
      "[CV] max_depth=7, n_estimators=10 ....................................\n",
      "[CV] ..... max_depth=7, n_estimators=10, score=-205.395, total=   0.0s\n",
      "[CV] max_depth=7, n_estimators=10 ....................................\n",
      "[CV] ..... max_depth=7, n_estimators=10, score=-177.276, total=   0.0s\n",
      "[CV] max_depth=7, n_estimators=10 ....................................\n",
      "[CV] ..... max_depth=7, n_estimators=10, score=-254.410, total=   0.0s\n",
      "[CV] max_depth=7, n_estimators=10 ....................................\n",
      "[CV] ..... max_depth=7, n_estimators=10, score=-259.085, total=   0.0s\n",
      "[CV] max_depth=7, n_estimators=10 ....................................\n",
      "[CV] ..... max_depth=7, n_estimators=10, score=-192.554, total=   0.0s\n",
      "[CV] max_depth=7, n_estimators=25 ....................................\n",
      "[CV] ..... max_depth=7, n_estimators=25, score=-197.794, total=   0.0s\n",
      "[CV] max_depth=7, n_estimators=25 ....................................\n",
      "[CV] ..... max_depth=7, n_estimators=25, score=-205.595, total=   0.0s\n",
      "[CV] max_depth=7, n_estimators=25 ....................................\n",
      "[CV] ..... max_depth=7, n_estimators=25, score=-221.078, total=   0.0s\n",
      "[CV] max_depth=7, n_estimators=25 ....................................\n",
      "[CV] ..... max_depth=7, n_estimators=25, score=-244.087, total=   0.0s\n",
      "[CV] max_depth=7, n_estimators=25 ....................................\n",
      "[CV] ..... max_depth=7, n_estimators=25, score=-193.119, total=   0.0s\n",
      "[CV] max_depth=7, n_estimators=50 ....................................\n",
      "[CV] ..... max_depth=7, n_estimators=50, score=-178.908, total=   0.1s\n",
      "[CV] max_depth=7, n_estimators=50 ....................................\n",
      "[CV] ..... max_depth=7, n_estimators=50, score=-198.715, total=   0.1s\n",
      "[CV] max_depth=7, n_estimators=50 ....................................\n",
      "[CV] ..... max_depth=7, n_estimators=50, score=-241.884, total=   0.1s\n",
      "[CV] max_depth=7, n_estimators=50 ....................................\n",
      "[CV] ..... max_depth=7, n_estimators=50, score=-243.418, total=   0.1s\n",
      "[CV] max_depth=7, n_estimators=50 ....................................\n",
      "[CV] ..... max_depth=7, n_estimators=50, score=-203.976, total=   0.1s\n",
      "[CV] max_depth=7, n_estimators=75 ....................................\n",
      "[CV] ..... max_depth=7, n_estimators=75, score=-192.367, total=   0.1s\n",
      "[CV] max_depth=7, n_estimators=75 ....................................\n",
      "[CV] ..... max_depth=7, n_estimators=75, score=-199.946, total=   0.1s\n",
      "[CV] max_depth=7, n_estimators=75 ....................................\n",
      "[CV] ..... max_depth=7, n_estimators=75, score=-235.708, total=   0.1s\n",
      "[CV] max_depth=7, n_estimators=75 ....................................\n",
      "[CV] ..... max_depth=7, n_estimators=75, score=-246.692, total=   0.1s\n",
      "[CV] max_depth=7, n_estimators=75 ....................................\n",
      "[CV] ..... max_depth=7, n_estimators=75, score=-185.467, total=   0.1s\n",
      "[CV] max_depth=7, n_estimators=100 ...................................\n",
      "[CV] .... max_depth=7, n_estimators=100, score=-202.814, total=   0.2s\n",
      "[CV] max_depth=7, n_estimators=100 ...................................\n",
      "[CV] .... max_depth=7, n_estimators=100, score=-200.411, total=   0.2s\n",
      "[CV] max_depth=7, n_estimators=100 ...................................\n",
      "[CV] .... max_depth=7, n_estimators=100, score=-230.554, total=   0.2s\n",
      "[CV] max_depth=7, n_estimators=100 ...................................\n",
      "[CV] .... max_depth=7, n_estimators=100, score=-238.486, total=   0.2s\n",
      "[CV] max_depth=7, n_estimators=100 ...................................\n",
      "[CV] .... max_depth=7, n_estimators=100, score=-204.773, total=   0.2s\n",
      "[CV] max_depth=12, n_estimators=10 ...................................\n",
      "[CV] .... max_depth=12, n_estimators=10, score=-235.251, total=   0.0s\n",
      "[CV] max_depth=12, n_estimators=10 ...................................\n",
      "[CV] .... max_depth=12, n_estimators=10, score=-195.987, total=   0.0s\n",
      "[CV] max_depth=12, n_estimators=10 ...................................\n",
      "[CV] .... max_depth=12, n_estimators=10, score=-235.634, total=   0.0s\n",
      "[CV] max_depth=12, n_estimators=10 ...................................\n",
      "[CV] .... max_depth=12, n_estimators=10, score=-263.736, total=   0.0s\n",
      "[CV] max_depth=12, n_estimators=10 ...................................\n",
      "[CV] .... max_depth=12, n_estimators=10, score=-201.556, total=   0.0s\n",
      "[CV] max_depth=12, n_estimators=25 ...................................\n",
      "[CV] .... max_depth=12, n_estimators=25, score=-186.216, total=   0.0s\n",
      "[CV] max_depth=12, n_estimators=25 ...................................\n",
      "[CV] .... max_depth=12, n_estimators=25, score=-204.106, total=   0.0s\n",
      "[CV] max_depth=12, n_estimators=25 ...................................\n",
      "[CV] .... max_depth=12, n_estimators=25, score=-235.037, total=   0.1s\n",
      "[CV] max_depth=12, n_estimators=25 ...................................\n",
      "[CV] .... max_depth=12, n_estimators=25, score=-254.360, total=   0.1s\n",
      "[CV] max_depth=12, n_estimators=25 ...................................\n",
      "[CV] .... max_depth=12, n_estimators=25, score=-206.320, total=   0.0s\n",
      "[CV] max_depth=12, n_estimators=50 ...................................\n",
      "[CV] .... max_depth=12, n_estimators=50, score=-195.775, total=   0.1s\n",
      "[CV] max_depth=12, n_estimators=50 ...................................\n",
      "[CV] .... max_depth=12, n_estimators=50, score=-192.640, total=   0.1s\n",
      "[CV] max_depth=12, n_estimators=50 ...................................\n",
      "[CV] .... max_depth=12, n_estimators=50, score=-235.268, total=   0.1s\n",
      "[CV] max_depth=12, n_estimators=50 ...................................\n",
      "[CV] .... max_depth=12, n_estimators=50, score=-253.184, total=   0.1s\n",
      "[CV] max_depth=12, n_estimators=50 ...................................\n",
      "[CV] .... max_depth=12, n_estimators=50, score=-188.046, total=   0.1s\n",
      "[CV] max_depth=12, n_estimators=75 ...................................\n",
      "[CV] .... max_depth=12, n_estimators=75, score=-201.058, total=   0.1s\n",
      "[CV] max_depth=12, n_estimators=75 ...................................\n",
      "[CV] .... max_depth=12, n_estimators=75, score=-199.496, total=   0.1s\n",
      "[CV] max_depth=12, n_estimators=75 ...................................\n",
      "[CV] .... max_depth=12, n_estimators=75, score=-234.496, total=   0.1s\n",
      "[CV] max_depth=12, n_estimators=75 ...................................\n",
      "[CV] .... max_depth=12, n_estimators=75, score=-243.872, total=   0.1s\n",
      "[CV] max_depth=12, n_estimators=75 ...................................\n",
      "[CV] .... max_depth=12, n_estimators=75, score=-199.342, total=   0.1s\n",
      "[CV] max_depth=12, n_estimators=100 ..................................\n",
      "[CV] ... max_depth=12, n_estimators=100, score=-195.710, total=   0.2s\n",
      "[CV] max_depth=12, n_estimators=100 ..................................\n",
      "[CV] ... max_depth=12, n_estimators=100, score=-191.273, total=   0.2s\n",
      "[CV] max_depth=12, n_estimators=100 ..................................\n",
      "[CV] ... max_depth=12, n_estimators=100, score=-225.043, total=   0.2s\n",
      "[CV] max_depth=12, n_estimators=100 ..................................\n",
      "[CV] ... max_depth=12, n_estimators=100, score=-247.483, total=   0.2s\n",
      "[CV] max_depth=12, n_estimators=100 ..................................\n",
      "[CV] ... max_depth=12, n_estimators=100, score=-189.107, total=   0.2s\n",
      "[CV] max_depth=17, n_estimators=10 ...................................\n",
      "[CV] .... max_depth=17, n_estimators=10, score=-186.132, total=   0.0s\n",
      "[CV] max_depth=17, n_estimators=10 ...................................\n",
      "[CV] .... max_depth=17, n_estimators=10, score=-226.261, total=   0.0s\n",
      "[CV] max_depth=17, n_estimators=10 ...................................\n",
      "[CV] .... max_depth=17, n_estimators=10, score=-219.061, total=   0.0s\n",
      "[CV] max_depth=17, n_estimators=10 ...................................\n",
      "[CV] .... max_depth=17, n_estimators=10, score=-268.986, total=   0.0s\n",
      "[CV] max_depth=17, n_estimators=10 ...................................\n",
      "[CV] .... max_depth=17, n_estimators=10, score=-175.995, total=   0.0s\n",
      "[CV] max_depth=17, n_estimators=25 ...................................\n",
      "[CV] .... max_depth=17, n_estimators=25, score=-194.656, total=   0.1s\n",
      "[CV] max_depth=17, n_estimators=25 ...................................\n",
      "[CV] .... max_depth=17, n_estimators=25, score=-215.064, total=   0.1s\n",
      "[CV] max_depth=17, n_estimators=25 ...................................\n",
      "[CV] .... max_depth=17, n_estimators=25, score=-242.888, total=   0.1s\n",
      "[CV] max_depth=17, n_estimators=25 ...................................\n",
      "[CV] .... max_depth=17, n_estimators=25, score=-232.335, total=   0.0s\n",
      "[CV] max_depth=17, n_estimators=25 ...................................\n",
      "[CV] .... max_depth=17, n_estimators=25, score=-197.670, total=   0.1s\n",
      "[CV] max_depth=17, n_estimators=50 ...................................\n",
      "[CV] .... max_depth=17, n_estimators=50, score=-183.443, total=   0.1s\n",
      "[CV] max_depth=17, n_estimators=50 ...................................\n",
      "[CV] .... max_depth=17, n_estimators=50, score=-191.643, total=   0.1s\n",
      "[CV] max_depth=17, n_estimators=50 ...................................\n",
      "[CV] .... max_depth=17, n_estimators=50, score=-220.692, total=   0.1s\n",
      "[CV] max_depth=17, n_estimators=50 ...................................\n",
      "[CV] .... max_depth=17, n_estimators=50, score=-252.125, total=   0.1s\n",
      "[CV] max_depth=17, n_estimators=50 ...................................\n",
      "[CV] .... max_depth=17, n_estimators=50, score=-202.663, total=   0.1s\n",
      "[CV] max_depth=17, n_estimators=75 ...................................\n",
      "[CV] .... max_depth=17, n_estimators=75, score=-192.961, total=   0.1s\n",
      "[CV] max_depth=17, n_estimators=75 ...................................\n",
      "[CV] .... max_depth=17, n_estimators=75, score=-197.302, total=   0.1s\n",
      "[CV] max_depth=17, n_estimators=75 ...................................\n",
      "[CV] .... max_depth=17, n_estimators=75, score=-232.695, total=   0.1s\n",
      "[CV] max_depth=17, n_estimators=75 ...................................\n",
      "[CV] .... max_depth=17, n_estimators=75, score=-229.994, total=   0.1s\n",
      "[CV] max_depth=17, n_estimators=75 ...................................\n",
      "[CV] .... max_depth=17, n_estimators=75, score=-195.297, total=   0.1s\n",
      "[CV] max_depth=17, n_estimators=100 ..................................\n",
      "[CV] ... max_depth=17, n_estimators=100, score=-188.473, total=   0.2s\n",
      "[CV] max_depth=17, n_estimators=100 ..................................\n",
      "[CV] ... max_depth=17, n_estimators=100, score=-217.300, total=   0.2s\n",
      "[CV] max_depth=17, n_estimators=100 ..................................\n",
      "[CV] ... max_depth=17, n_estimators=100, score=-242.205, total=   0.2s\n",
      "[CV] max_depth=17, n_estimators=100 ..................................\n",
      "[CV] ... max_depth=17, n_estimators=100, score=-250.537, total=   0.2s\n",
      "[CV] max_depth=17, n_estimators=100 ..................................\n",
      "[CV] ... max_depth=17, n_estimators=100, score=-186.204, total=   0.2s\n",
      "[CV] max_depth=25, n_estimators=10 ...................................\n",
      "[CV] .... max_depth=25, n_estimators=10, score=-174.617, total=   0.0s\n",
      "[CV] max_depth=25, n_estimators=10 ...................................\n",
      "[CV] .... max_depth=25, n_estimators=10, score=-191.662, total=   0.0s\n",
      "[CV] max_depth=25, n_estimators=10 ...................................\n",
      "[CV] .... max_depth=25, n_estimators=10, score=-211.396, total=   0.0s\n",
      "[CV] max_depth=25, n_estimators=10 ...................................\n",
      "[CV] .... max_depth=25, n_estimators=10, score=-248.157, total=   0.0s\n",
      "[CV] max_depth=25, n_estimators=10 ...................................\n",
      "[CV] .... max_depth=25, n_estimators=10, score=-208.139, total=   0.0s\n",
      "[CV] max_depth=25, n_estimators=25 ...................................\n",
      "[CV] .... max_depth=25, n_estimators=25, score=-202.949, total=   0.0s\n",
      "[CV] max_depth=25, n_estimators=25 ...................................\n",
      "[CV] .... max_depth=25, n_estimators=25, score=-171.554, total=   0.0s\n",
      "[CV] max_depth=25, n_estimators=25 ...................................\n",
      "[CV] .... max_depth=25, n_estimators=25, score=-232.044, total=   0.1s\n",
      "[CV] max_depth=25, n_estimators=25 ...................................\n",
      "[CV] .... max_depth=25, n_estimators=25, score=-280.788, total=   0.0s\n",
      "[CV] max_depth=25, n_estimators=25 ...................................\n",
      "[CV] .... max_depth=25, n_estimators=25, score=-206.933, total=   0.0s\n",
      "[CV] max_depth=25, n_estimators=50 ...................................\n",
      "[CV] .... max_depth=25, n_estimators=50, score=-180.799, total=   0.1s\n",
      "[CV] max_depth=25, n_estimators=50 ...................................\n",
      "[CV] .... max_depth=25, n_estimators=50, score=-219.917, total=   0.1s\n",
      "[CV] max_depth=25, n_estimators=50 ...................................\n",
      "[CV] .... max_depth=25, n_estimators=50, score=-238.263, total=   0.1s\n",
      "[CV] max_depth=25, n_estimators=50 ...................................\n",
      "[CV] .... max_depth=25, n_estimators=50, score=-253.290, total=   0.1s\n",
      "[CV] max_depth=25, n_estimators=50 ...................................\n",
      "[CV] .... max_depth=25, n_estimators=50, score=-208.231, total=   0.1s\n",
      "[CV] max_depth=25, n_estimators=75 ...................................\n",
      "[CV] .... max_depth=25, n_estimators=75, score=-188.160, total=   0.1s\n",
      "[CV] max_depth=25, n_estimators=75 ...................................\n",
      "[CV] .... max_depth=25, n_estimators=75, score=-204.590, total=   0.1s\n",
      "[CV] max_depth=25, n_estimators=75 ...................................\n",
      "[CV] .... max_depth=25, n_estimators=75, score=-240.227, total=   0.1s\n",
      "[CV] max_depth=25, n_estimators=75 ...................................\n",
      "[CV] .... max_depth=25, n_estimators=75, score=-223.673, total=   0.1s\n",
      "[CV] max_depth=25, n_estimators=75 ...................................\n",
      "[CV] .... max_depth=25, n_estimators=75, score=-192.163, total=   0.1s\n",
      "[CV] max_depth=25, n_estimators=100 ..................................\n",
      "[CV] ... max_depth=25, n_estimators=100, score=-190.502, total=   0.2s\n",
      "[CV] max_depth=25, n_estimators=100 ..................................\n",
      "[CV] ... max_depth=25, n_estimators=100, score=-202.525, total=   0.2s\n",
      "[CV] max_depth=25, n_estimators=100 ..................................\n",
      "[CV] ... max_depth=25, n_estimators=100, score=-230.747, total=   0.2s\n",
      "[CV] max_depth=25, n_estimators=100 ..................................\n",
      "[CV] ... max_depth=25, n_estimators=100, score=-250.939, total=   0.1s\n",
      "[CV] max_depth=25, n_estimators=100 ..................................\n",
      "[CV] ... max_depth=25, n_estimators=100, score=-203.244, total=   0.2s\n",
      "[CV] max_depth=30, n_estimators=10 ...................................\n",
      "[CV] .... max_depth=30, n_estimators=10, score=-194.787, total=   0.0s\n",
      "[CV] max_depth=30, n_estimators=10 ...................................\n",
      "[CV] .... max_depth=30, n_estimators=10, score=-197.709, total=   0.0s\n",
      "[CV] max_depth=30, n_estimators=10 ...................................\n",
      "[CV] .... max_depth=30, n_estimators=10, score=-233.675, total=   0.0s\n",
      "[CV] max_depth=30, n_estimators=10 ...................................\n",
      "[CV] .... max_depth=30, n_estimators=10, score=-254.763, total=   0.0s\n",
      "[CV] max_depth=30, n_estimators=10 ...................................\n",
      "[CV] .... max_depth=30, n_estimators=10, score=-213.210, total=   0.0s\n",
      "[CV] max_depth=30, n_estimators=25 ...................................\n",
      "[CV] .... max_depth=30, n_estimators=25, score=-193.419, total=   0.0s\n",
      "[CV] max_depth=30, n_estimators=25 ...................................\n",
      "[CV] .... max_depth=30, n_estimators=25, score=-205.133, total=   0.0s\n",
      "[CV] max_depth=30, n_estimators=25 ...................................\n",
      "[CV] .... max_depth=30, n_estimators=25, score=-246.785, total=   0.0s\n",
      "[CV] max_depth=30, n_estimators=25 ...................................\n",
      "[CV] .... max_depth=30, n_estimators=25, score=-238.099, total=   0.0s\n",
      "[CV] max_depth=30, n_estimators=25 ...................................\n",
      "[CV] .... max_depth=30, n_estimators=25, score=-196.245, total=   0.0s\n",
      "[CV] max_depth=30, n_estimators=50 ...................................\n",
      "[CV] .... max_depth=30, n_estimators=50, score=-193.571, total=   0.1s\n",
      "[CV] max_depth=30, n_estimators=50 ...................................\n",
      "[CV] .... max_depth=30, n_estimators=50, score=-195.430, total=   0.1s\n",
      "[CV] max_depth=30, n_estimators=50 ...................................\n",
      "[CV] .... max_depth=30, n_estimators=50, score=-240.283, total=   0.1s\n",
      "[CV] max_depth=30, n_estimators=50 ...................................\n",
      "[CV] .... max_depth=30, n_estimators=50, score=-247.369, total=   0.1s\n",
      "[CV] max_depth=30, n_estimators=50 ...................................\n",
      "[CV] .... max_depth=30, n_estimators=50, score=-192.250, total=   0.1s\n",
      "[CV] max_depth=30, n_estimators=75 ...................................\n",
      "[CV] .... max_depth=30, n_estimators=75, score=-183.732, total=   0.1s\n",
      "[CV] max_depth=30, n_estimators=75 ...................................\n",
      "[CV] .... max_depth=30, n_estimators=75, score=-190.303, total=   0.1s\n",
      "[CV] max_depth=30, n_estimators=75 ...................................\n",
      "[CV] .... max_depth=30, n_estimators=75, score=-238.752, total=   0.1s\n",
      "[CV] max_depth=30, n_estimators=75 ...................................\n",
      "[CV] .... max_depth=30, n_estimators=75, score=-262.118, total=   0.1s\n",
      "[CV] max_depth=30, n_estimators=75 ...................................\n",
      "[CV] .... max_depth=30, n_estimators=75, score=-205.573, total=   0.1s\n",
      "[CV] max_depth=30, n_estimators=100 ..................................\n",
      "[CV] ... max_depth=30, n_estimators=100, score=-190.497, total=   0.2s\n",
      "[CV] max_depth=30, n_estimators=100 ..................................\n",
      "[CV] ... max_depth=30, n_estimators=100, score=-204.766, total=   0.1s\n",
      "[CV] max_depth=30, n_estimators=100 ..................................\n",
      "[CV] ... max_depth=30, n_estimators=100, score=-230.423, total=   0.2s\n",
      "[CV] max_depth=30, n_estimators=100 ..................................\n",
      "[CV] ... max_depth=30, n_estimators=100, score=-238.388, total=   0.2s\n",
      "[CV] max_depth=30, n_estimators=100 ..................................\n",
      "[CV] ... max_depth=30, n_estimators=100, score=-208.193, total=   0.1s\n"
     ]
    },
    {
     "name": "stderr",
     "output_type": "stream",
     "text": [
      "[Parallel(n_jobs=1)]: Done 150 out of 150 | elapsed:   13.3s finished\n"
     ]
    },
    {
     "data": {
      "text/plain": [
       "GridSearchCV(estimator=RandomForestRegressor(),\n",
       "             param_grid={'max_depth': [5, 7, 12, 17, 25, 30],\n",
       "                         'n_estimators': [10, 25, 50, 75, 100]},\n",
       "             scoring='neg_mean_absolute_error', verbose=3)"
      ]
     },
     "execution_count": 312,
     "metadata": {},
     "output_type": "execute_result"
    }
   ],
   "source": [
    "from sklearn.model_selection import GridSearchCV\n",
    "randomForest_tune = RandomForestRegressor()\n",
    "parameters = {'n_estimators': [10, 25, 50, 75, 100], 'max_depth': [5, 7, 12, 17, 25, 30]}\n",
    "clf = GridSearchCV(randomForest_tune, parameters, verbose = 3, scoring = 'neg_mean_absolute_error')\n",
    "\n",
    "clf.fit(X, y)"
   ]
  },
  {
   "cell_type": "code",
   "execution_count": 294,
   "id": "weekly-adelaide",
   "metadata": {},
   "outputs": [
    {
     "name": "stdout",
     "output_type": "stream",
     "text": [
      "{'max_depth': 5, 'n_estimators': 100}\n",
      "-206.88765872585518\n"
     ]
    }
   ],
   "source": [
    "print(clf.best_params_) \n",
    "print(clf.best_score_) "
   ]
  },
  {
   "cell_type": "code",
   "execution_count": 295,
   "id": "distant-tender",
   "metadata": {
    "collapsed": true,
    "jupyter": {
     "outputs_hidden": true
    }
   },
   "outputs": [
    {
     "name": "stdout",
     "output_type": "stream",
     "text": [
      "Fitting 5 folds for each of 60 candidates, totalling 300 fits\n",
      "[CV] learning_rate=0.01, max_depth=2, n_estimators=5 .................\n",
      "[CV]  learning_rate=0.01, max_depth=2, n_estimators=5, score=-286.587, total=   0.0s\n",
      "[CV] learning_rate=0.01, max_depth=2, n_estimators=5 .................\n",
      "[CV]  learning_rate=0.01, max_depth=2, n_estimators=5, score=-313.685, total=   0.0s\n",
      "[CV] learning_rate=0.01, max_depth=2, n_estimators=5 .................\n",
      "[CV]  learning_rate=0.01, max_depth=2, n_estimators=5, score=-386.288, total=   0.0s\n",
      "[CV] learning_rate=0.01, max_depth=2, n_estimators=5 .................\n",
      "[CV]  learning_rate=0.01, max_depth=2, n_estimators=5, score=-400.680, total=   0.0s\n",
      "[CV] learning_rate=0.01, max_depth=2, n_estimators=5 .................\n",
      "[CV]  learning_rate=0.01, max_depth=2, n_estimators=5, score=-247.693, total=   0.0s\n",
      "[CV] learning_rate=0.01, max_depth=2, n_estimators=10 ................\n",
      "[CV]  learning_rate=0.01, max_depth=2, n_estimators=10, score=-284.119, total=   0.0s\n",
      "[CV] learning_rate=0.01, max_depth=2, n_estimators=10 ................\n",
      "[CV]  learning_rate=0.01, max_depth=2, n_estimators=10, score=-310.404, total=   0.0s\n",
      "[CV] learning_rate=0.01, max_depth=2, n_estimators=10 ................\n",
      "[CV]  learning_rate=0.01, max_depth=2, n_estimators=10, score=-375.537, total=   0.0s\n",
      "[CV] learning_rate=0.01, max_depth=2, n_estimators=10 ................\n",
      "[CV]  learning_rate=0.01, max_depth=2, n_estimators=10, score=-383.332, total=   0.0s\n",
      "[CV] learning_rate=0.01, max_depth=2, n_estimators=10 ................\n",
      "[CV]  learning_rate=0.01, max_depth=2, n_estimators=10, score=-245.378, total=   0.0s\n",
      "[CV] learning_rate=0.01, max_depth=2, n_estimators=25 ................\n",
      "[CV]  learning_rate=0.01, max_depth=2, n_estimators=25, score=-274.260, total=   0.0s\n",
      "[CV] learning_rate=0.01, max_depth=2, n_estimators=25 ................\n",
      "[CV]  learning_rate=0.01, max_depth=2, n_estimators=25, score=-300.178, total=   0.0s\n",
      "[CV] learning_rate=0.01, max_depth=2, n_estimators=25 ................\n",
      "[CV]  learning_rate=0.01, max_depth=2, n_estimators=25, score=-352.850, total=   0.0s\n",
      "[CV] learning_rate=0.01, max_depth=2, n_estimators=25 ................\n",
      "[CV]  learning_rate=0.01, max_depth=2, n_estimators=25, score=-346.377, total=   0.0s\n",
      "[CV] learning_rate=0.01, max_depth=2, n_estimators=25 ................\n",
      "[CV]  learning_rate=0.01, max_depth=2, n_estimators=25, score=-233.491, total=   0.0s\n",
      "[CV] learning_rate=0.01, max_depth=2, n_estimators=50 ................\n"
     ]
    },
    {
     "name": "stderr",
     "output_type": "stream",
     "text": [
      "[Parallel(n_jobs=1)]: Using backend SequentialBackend with 1 concurrent workers.\n",
      "[Parallel(n_jobs=1)]: Done   1 out of   1 | elapsed:    0.0s remaining:    0.0s\n",
      "[Parallel(n_jobs=1)]: Done   2 out of   2 | elapsed:    0.0s remaining:    0.0s\n"
     ]
    },
    {
     "name": "stdout",
     "output_type": "stream",
     "text": [
      "[CV]  learning_rate=0.01, max_depth=2, n_estimators=50, score=-257.424, total=   0.0s\n",
      "[CV] learning_rate=0.01, max_depth=2, n_estimators=50 ................\n",
      "[CV]  learning_rate=0.01, max_depth=2, n_estimators=50, score=-279.043, total=   0.0s\n",
      "[CV] learning_rate=0.01, max_depth=2, n_estimators=50 ................\n",
      "[CV]  learning_rate=0.01, max_depth=2, n_estimators=50, score=-324.121, total=   0.0s\n",
      "[CV] learning_rate=0.01, max_depth=2, n_estimators=50 ................\n",
      "[CV]  learning_rate=0.01, max_depth=2, n_estimators=50, score=-310.096, total=   0.0s\n",
      "[CV] learning_rate=0.01, max_depth=2, n_estimators=50 ................\n",
      "[CV]  learning_rate=0.01, max_depth=2, n_estimators=50, score=-219.247, total=   0.0s\n",
      "[CV] learning_rate=0.01, max_depth=2, n_estimators=100 ...............\n",
      "[CV]  learning_rate=0.01, max_depth=2, n_estimators=100, score=-229.043, total=   0.0s\n",
      "[CV] learning_rate=0.01, max_depth=2, n_estimators=100 ...............\n",
      "[CV]  learning_rate=0.01, max_depth=2, n_estimators=100, score=-239.194, total=   0.0s\n",
      "[CV] learning_rate=0.01, max_depth=2, n_estimators=100 ...............\n",
      "[CV]  learning_rate=0.01, max_depth=2, n_estimators=100, score=-279.738, total=   0.0s\n",
      "[CV] learning_rate=0.01, max_depth=2, n_estimators=100 ...............\n",
      "[CV]  learning_rate=0.01, max_depth=2, n_estimators=100, score=-259.658, total=   0.0s\n",
      "[CV] learning_rate=0.01, max_depth=2, n_estimators=100 ...............\n",
      "[CV]  learning_rate=0.01, max_depth=2, n_estimators=100, score=-198.745, total=   0.0s\n",
      "[CV] learning_rate=0.01, max_depth=4, n_estimators=5 .................\n",
      "[CV]  learning_rate=0.01, max_depth=4, n_estimators=5, score=-282.630, total=   0.0s\n",
      "[CV] learning_rate=0.01, max_depth=4, n_estimators=5 .................\n",
      "[CV]  learning_rate=0.01, max_depth=4, n_estimators=5, score=-311.456, total=   0.0s\n",
      "[CV] learning_rate=0.01, max_depth=4, n_estimators=5 .................\n",
      "[CV]  learning_rate=0.01, max_depth=4, n_estimators=5, score=-385.650, total=   0.0s\n",
      "[CV] learning_rate=0.01, max_depth=4, n_estimators=5 .................\n",
      "[CV]  learning_rate=0.01, max_depth=4, n_estimators=5, score=-399.655, total=   0.0s\n",
      "[CV] learning_rate=0.01, max_depth=4, n_estimators=5 .................\n",
      "[CV]  learning_rate=0.01, max_depth=4, n_estimators=5, score=-248.782, total=   0.0s\n",
      "[CV] learning_rate=0.01, max_depth=4, n_estimators=10 ................\n",
      "[CV]  learning_rate=0.01, max_depth=4, n_estimators=10, score=-276.688, total=   0.0s\n",
      "[CV] learning_rate=0.01, max_depth=4, n_estimators=10 ................\n",
      "[CV]  learning_rate=0.01, max_depth=4, n_estimators=10, score=-307.298, total=   0.0s\n",
      "[CV] learning_rate=0.01, max_depth=4, n_estimators=10 ................\n",
      "[CV]  learning_rate=0.01, max_depth=4, n_estimators=10, score=-374.292, total=   0.0s\n",
      "[CV] learning_rate=0.01, max_depth=4, n_estimators=10 ................\n",
      "[CV]  learning_rate=0.01, max_depth=4, n_estimators=10, score=-380.313, total=   0.0s\n",
      "[CV] learning_rate=0.01, max_depth=4, n_estimators=10 ................\n",
      "[CV]  learning_rate=0.01, max_depth=4, n_estimators=10, score=-247.581, total=   0.0s\n",
      "[CV] learning_rate=0.01, max_depth=4, n_estimators=25 ................\n",
      "[CV]  learning_rate=0.01, max_depth=4, n_estimators=25, score=-262.218, total=   0.0s\n",
      "[CV] learning_rate=0.01, max_depth=4, n_estimators=25 ................\n",
      "[CV]  learning_rate=0.01, max_depth=4, n_estimators=25, score=-296.132, total=   0.0s\n",
      "[CV] learning_rate=0.01, max_depth=4, n_estimators=25 ................\n",
      "[CV]  learning_rate=0.01, max_depth=4, n_estimators=25, score=-342.363, total=   0.0s\n",
      "[CV] learning_rate=0.01, max_depth=4, n_estimators=25 ................\n",
      "[CV]  learning_rate=0.01, max_depth=4, n_estimators=25, score=-339.607, total=   0.0s\n",
      "[CV] learning_rate=0.01, max_depth=4, n_estimators=25 ................\n",
      "[CV]  learning_rate=0.01, max_depth=4, n_estimators=25, score=-242.319, total=   0.0s\n",
      "[CV] learning_rate=0.01, max_depth=4, n_estimators=50 ................\n",
      "[CV]  learning_rate=0.01, max_depth=4, n_estimators=50, score=-247.036, total=   0.0s\n",
      "[CV] learning_rate=0.01, max_depth=4, n_estimators=50 ................\n",
      "[CV]  learning_rate=0.01, max_depth=4, n_estimators=50, score=-284.947, total=   0.0s\n",
      "[CV] learning_rate=0.01, max_depth=4, n_estimators=50 ................\n",
      "[CV]  learning_rate=0.01, max_depth=4, n_estimators=50, score=-298.619, total=   0.0s\n",
      "[CV] learning_rate=0.01, max_depth=4, n_estimators=50 ................\n",
      "[CV]  learning_rate=0.01, max_depth=4, n_estimators=50, score=-294.380, total=   0.0s\n",
      "[CV] learning_rate=0.01, max_depth=4, n_estimators=50 ................\n",
      "[CV]  learning_rate=0.01, max_depth=4, n_estimators=50, score=-231.613, total=   0.0s\n",
      "[CV] learning_rate=0.01, max_depth=4, n_estimators=100 ...............\n",
      "[CV]  learning_rate=0.01, max_depth=4, n_estimators=100, score=-236.513, total=   0.1s\n",
      "[CV] learning_rate=0.01, max_depth=4, n_estimators=100 ...............\n",
      "[CV]  learning_rate=0.01, max_depth=4, n_estimators=100, score=-239.502, total=   0.1s\n",
      "[CV] learning_rate=0.01, max_depth=4, n_estimators=100 ...............\n",
      "[CV]  learning_rate=0.01, max_depth=4, n_estimators=100, score=-258.251, total=   0.0s\n",
      "[CV] learning_rate=0.01, max_depth=4, n_estimators=100 ...............\n",
      "[CV]  learning_rate=0.01, max_depth=4, n_estimators=100, score=-271.402, total=   0.1s\n",
      "[CV] learning_rate=0.01, max_depth=4, n_estimators=100 ...............\n",
      "[CV]  learning_rate=0.01, max_depth=4, n_estimators=100, score=-209.835, total=   0.1s\n",
      "[CV] learning_rate=0.01, max_depth=6, n_estimators=5 .................\n",
      "[CV]  learning_rate=0.01, max_depth=6, n_estimators=5, score=-284.313, total=   0.0s\n",
      "[CV] learning_rate=0.01, max_depth=6, n_estimators=5 .................\n",
      "[CV]  learning_rate=0.01, max_depth=6, n_estimators=5, score=-313.505, total=   0.0s\n",
      "[CV] learning_rate=0.01, max_depth=6, n_estimators=5 .................\n",
      "[CV]  learning_rate=0.01, max_depth=6, n_estimators=5, score=-383.941, total=   0.0s\n",
      "[CV] learning_rate=0.01, max_depth=6, n_estimators=5 .................\n",
      "[CV]  learning_rate=0.01, max_depth=6, n_estimators=5, score=-402.828, total=   0.0s\n",
      "[CV] learning_rate=0.01, max_depth=6, n_estimators=5 .................\n",
      "[CV]  learning_rate=0.01, max_depth=6, n_estimators=5, score=-248.022, total=   0.0s\n",
      "[CV] learning_rate=0.01, max_depth=6, n_estimators=10 ................\n",
      "[CV]  learning_rate=0.01, max_depth=6, n_estimators=10, score=-279.823, total=   0.0s\n",
      "[CV] learning_rate=0.01, max_depth=6, n_estimators=10 ................\n",
      "[CV]  learning_rate=0.01, max_depth=6, n_estimators=10, score=-311.310, total=   0.0s\n",
      "[CV] learning_rate=0.01, max_depth=6, n_estimators=10 ................\n",
      "[CV]  learning_rate=0.01, max_depth=6, n_estimators=10, score=-372.182, total=   0.0s\n",
      "[CV] learning_rate=0.01, max_depth=6, n_estimators=10 ................\n",
      "[CV]  learning_rate=0.01, max_depth=6, n_estimators=10, score=-385.599, total=   0.0s\n",
      "[CV] learning_rate=0.01, max_depth=6, n_estimators=10 ................\n",
      "[CV]  learning_rate=0.01, max_depth=6, n_estimators=10, score=-248.504, total=   0.0s\n",
      "[CV] learning_rate=0.01, max_depth=6, n_estimators=25 ................\n",
      "[CV]  learning_rate=0.01, max_depth=6, n_estimators=25, score=-266.096, total=   0.0s\n",
      "[CV] learning_rate=0.01, max_depth=6, n_estimators=25 ................\n",
      "[CV]  learning_rate=0.01, max_depth=6, n_estimators=25, score=-301.915, total=   0.0s\n",
      "[CV] learning_rate=0.01, max_depth=6, n_estimators=25 ................\n",
      "[CV]  learning_rate=0.01, max_depth=6, n_estimators=25, score=-339.333, total=   0.0s\n",
      "[CV] learning_rate=0.01, max_depth=6, n_estimators=25 ................\n",
      "[CV]  learning_rate=0.01, max_depth=6, n_estimators=25, score=-341.577, total=   0.0s\n",
      "[CV] learning_rate=0.01, max_depth=6, n_estimators=25 ................\n",
      "[CV]  learning_rate=0.01, max_depth=6, n_estimators=25, score=-247.730, total=   0.0s\n",
      "[CV] learning_rate=0.01, max_depth=6, n_estimators=50 ................\n",
      "[CV]  learning_rate=0.01, max_depth=6, n_estimators=50, score=-250.484, total=   0.0s\n",
      "[CV] learning_rate=0.01, max_depth=6, n_estimators=50 ................\n",
      "[CV]  learning_rate=0.01, max_depth=6, n_estimators=50, score=-286.401, total=   0.0s\n",
      "[CV] learning_rate=0.01, max_depth=6, n_estimators=50 ................\n",
      "[CV]  learning_rate=0.01, max_depth=6, n_estimators=50, score=-304.663, total=   0.0s\n",
      "[CV] learning_rate=0.01, max_depth=6, n_estimators=50 ................\n",
      "[CV]  learning_rate=0.01, max_depth=6, n_estimators=50, score=-306.723, total=   0.0s\n",
      "[CV] learning_rate=0.01, max_depth=6, n_estimators=50 ................\n",
      "[CV]  learning_rate=0.01, max_depth=6, n_estimators=50, score=-252.502, total=   0.0s\n",
      "[CV] learning_rate=0.01, max_depth=6, n_estimators=100 ...............\n",
      "[CV]  learning_rate=0.01, max_depth=6, n_estimators=100, score=-236.389, total=   0.1s\n",
      "[CV] learning_rate=0.01, max_depth=6, n_estimators=100 ...............\n",
      "[CV]  learning_rate=0.01, max_depth=6, n_estimators=100, score=-287.383, total=   0.1s\n",
      "[CV] learning_rate=0.01, max_depth=6, n_estimators=100 ...............\n",
      "[CV]  learning_rate=0.01, max_depth=6, n_estimators=100, score=-280.448, total=   0.1s\n",
      "[CV] learning_rate=0.01, max_depth=6, n_estimators=100 ...............\n",
      "[CV]  learning_rate=0.01, max_depth=6, n_estimators=100, score=-279.831, total=   0.1s\n",
      "[CV] learning_rate=0.01, max_depth=6, n_estimators=100 ...............\n",
      "[CV]  learning_rate=0.01, max_depth=6, n_estimators=100, score=-261.887, total=   0.1s\n",
      "[CV] learning_rate=0.01, max_depth=8, n_estimators=5 .................\n",
      "[CV]  learning_rate=0.01, max_depth=8, n_estimators=5, score=-284.730, total=   0.0s\n",
      "[CV] learning_rate=0.01, max_depth=8, n_estimators=5 .................\n",
      "[CV]  learning_rate=0.01, max_depth=8, n_estimators=5, score=-313.125, total=   0.0s\n",
      "[CV] learning_rate=0.01, max_depth=8, n_estimators=5 .................\n",
      "[CV]  learning_rate=0.01, max_depth=8, n_estimators=5, score=-384.815, total=   0.0s\n",
      "[CV] learning_rate=0.01, max_depth=8, n_estimators=5 .................\n",
      "[CV]  learning_rate=0.01, max_depth=8, n_estimators=5, score=-400.826, total=   0.0s\n",
      "[CV] learning_rate=0.01, max_depth=8, n_estimators=5 .................\n",
      "[CV]  learning_rate=0.01, max_depth=8, n_estimators=5, score=-246.496, total=   0.0s\n",
      "[CV] learning_rate=0.01, max_depth=8, n_estimators=10 ................\n",
      "[CV]  learning_rate=0.01, max_depth=8, n_estimators=10, score=-280.565, total=   0.0s\n",
      "[CV] learning_rate=0.01, max_depth=8, n_estimators=10 ................\n",
      "[CV]  learning_rate=0.01, max_depth=8, n_estimators=10, score=-308.574, total=   0.0s\n",
      "[CV] learning_rate=0.01, max_depth=8, n_estimators=10 ................\n",
      "[CV]  learning_rate=0.01, max_depth=8, n_estimators=10, score=-372.210, total=   0.0s\n",
      "[CV] learning_rate=0.01, max_depth=8, n_estimators=10 ................\n",
      "[CV]  learning_rate=0.01, max_depth=8, n_estimators=10, score=-385.125, total=   0.0s\n",
      "[CV] learning_rate=0.01, max_depth=8, n_estimators=10 ................\n",
      "[CV]  learning_rate=0.01, max_depth=8, n_estimators=10, score=-242.262, total=   0.0s\n",
      "[CV] learning_rate=0.01, max_depth=8, n_estimators=25 ................\n",
      "[CV]  learning_rate=0.01, max_depth=8, n_estimators=25, score=-266.166, total=   0.0s\n",
      "[CV] learning_rate=0.01, max_depth=8, n_estimators=25 ................\n",
      "[CV]  learning_rate=0.01, max_depth=8, n_estimators=25, score=-294.209, total=   0.0s\n",
      "[CV] learning_rate=0.01, max_depth=8, n_estimators=25 ................\n",
      "[CV]  learning_rate=0.01, max_depth=8, n_estimators=25, score=-338.631, total=   0.0s\n",
      "[CV] learning_rate=0.01, max_depth=8, n_estimators=25 ................\n",
      "[CV]  learning_rate=0.01, max_depth=8, n_estimators=25, score=-345.011, total=   0.0s\n",
      "[CV] learning_rate=0.01, max_depth=8, n_estimators=25 ................\n",
      "[CV]  learning_rate=0.01, max_depth=8, n_estimators=25, score=-241.447, total=   0.0s\n",
      "[CV] learning_rate=0.01, max_depth=8, n_estimators=50 ................\n",
      "[CV]  learning_rate=0.01, max_depth=8, n_estimators=50, score=-255.938, total=   0.0s\n",
      "[CV] learning_rate=0.01, max_depth=8, n_estimators=50 ................\n",
      "[CV]  learning_rate=0.01, max_depth=8, n_estimators=50, score=-277.514, total=   0.0s\n",
      "[CV] learning_rate=0.01, max_depth=8, n_estimators=50 ................\n",
      "[CV]  learning_rate=0.01, max_depth=8, n_estimators=50, score=-307.052, total=   0.0s\n",
      "[CV] learning_rate=0.01, max_depth=8, n_estimators=50 ................\n",
      "[CV]  learning_rate=0.01, max_depth=8, n_estimators=50, score=-302.357, total=   0.0s\n",
      "[CV] learning_rate=0.01, max_depth=8, n_estimators=50 ................\n",
      "[CV]  learning_rate=0.01, max_depth=8, n_estimators=50, score=-245.615, total=   0.0s\n",
      "[CV] learning_rate=0.01, max_depth=8, n_estimators=100 ...............\n",
      "[CV]  learning_rate=0.01, max_depth=8, n_estimators=100, score=-244.003, total=   0.1s\n",
      "[CV] learning_rate=0.01, max_depth=8, n_estimators=100 ...............\n",
      "[CV]  learning_rate=0.01, max_depth=8, n_estimators=100, score=-274.267, total=   0.1s\n",
      "[CV] learning_rate=0.01, max_depth=8, n_estimators=100 ...............\n",
      "[CV]  learning_rate=0.01, max_depth=8, n_estimators=100, score=-279.223, total=   0.1s\n",
      "[CV] learning_rate=0.01, max_depth=8, n_estimators=100 ...............\n",
      "[CV]  learning_rate=0.01, max_depth=8, n_estimators=100, score=-290.205, total=   0.1s\n",
      "[CV] learning_rate=0.01, max_depth=8, n_estimators=100 ...............\n",
      "[CV]  learning_rate=0.01, max_depth=8, n_estimators=100, score=-261.663, total=   0.1s\n",
      "[CV] learning_rate=0.1, max_depth=2, n_estimators=5 ..................\n",
      "[CV]  learning_rate=0.1, max_depth=2, n_estimators=5, score=-258.397, total=   0.0s\n",
      "[CV] learning_rate=0.1, max_depth=2, n_estimators=5 ..................\n",
      "[CV]  learning_rate=0.1, max_depth=2, n_estimators=5, score=-271.978, total=   0.0s\n",
      "[CV] learning_rate=0.1, max_depth=2, n_estimators=5 ..................\n",
      "[CV]  learning_rate=0.1, max_depth=2, n_estimators=5, score=-324.791, total=   0.0s\n",
      "[CV] learning_rate=0.1, max_depth=2, n_estimators=5 ..................\n",
      "[CV]  learning_rate=0.1, max_depth=2, n_estimators=5, score=-301.996, total=   0.0s\n",
      "[CV] learning_rate=0.1, max_depth=2, n_estimators=5 ..................\n",
      "[CV]  learning_rate=0.1, max_depth=2, n_estimators=5, score=-216.339, total=   0.0s\n",
      "[CV] learning_rate=0.1, max_depth=2, n_estimators=10 .................\n",
      "[CV]  learning_rate=0.1, max_depth=2, n_estimators=10, score=-223.849, total=   0.0s\n",
      "[CV] learning_rate=0.1, max_depth=2, n_estimators=10 .................\n",
      "[CV]  learning_rate=0.1, max_depth=2, n_estimators=10, score=-229.903, total=   0.0s\n",
      "[CV] learning_rate=0.1, max_depth=2, n_estimators=10 .................\n",
      "[CV]  learning_rate=0.1, max_depth=2, n_estimators=10, score=-283.432, total=   0.0s\n",
      "[CV] learning_rate=0.1, max_depth=2, n_estimators=10 .................\n",
      "[CV]  learning_rate=0.1, max_depth=2, n_estimators=10, score=-259.877, total=   0.0s\n",
      "[CV] learning_rate=0.1, max_depth=2, n_estimators=10 .................\n",
      "[CV]  learning_rate=0.1, max_depth=2, n_estimators=10, score=-200.060, total=   0.0s\n",
      "[CV] learning_rate=0.1, max_depth=2, n_estimators=25 .................\n",
      "[CV]  learning_rate=0.1, max_depth=2, n_estimators=25, score=-179.723, total=   0.0s\n",
      "[CV] learning_rate=0.1, max_depth=2, n_estimators=25 .................\n",
      "[CV]  learning_rate=0.1, max_depth=2, n_estimators=25, score=-205.509, total=   0.0s\n",
      "[CV] learning_rate=0.1, max_depth=2, n_estimators=25 .................\n",
      "[CV]  learning_rate=0.1, max_depth=2, n_estimators=25, score=-217.993, total=   0.0s\n",
      "[CV] learning_rate=0.1, max_depth=2, n_estimators=25 .................\n",
      "[CV]  learning_rate=0.1, max_depth=2, n_estimators=25, score=-248.018, total=   0.0s\n",
      "[CV] learning_rate=0.1, max_depth=2, n_estimators=25 .................\n",
      "[CV]  learning_rate=0.1, max_depth=2, n_estimators=25, score=-192.738, total=   0.0s\n",
      "[CV] learning_rate=0.1, max_depth=2, n_estimators=50 .................\n",
      "[CV]  learning_rate=0.1, max_depth=2, n_estimators=50, score=-169.707, total=   0.0s\n",
      "[CV] learning_rate=0.1, max_depth=2, n_estimators=50 .................\n",
      "[CV]  learning_rate=0.1, max_depth=2, n_estimators=50, score=-229.108, total=   0.0s\n",
      "[CV] learning_rate=0.1, max_depth=2, n_estimators=50 .................\n",
      "[CV]  learning_rate=0.1, max_depth=2, n_estimators=50, score=-210.354, total=   0.0s\n",
      "[CV] learning_rate=0.1, max_depth=2, n_estimators=50 .................\n",
      "[CV]  learning_rate=0.1, max_depth=2, n_estimators=50, score=-253.577, total=   0.0s\n",
      "[CV] learning_rate=0.1, max_depth=2, n_estimators=50 .................\n",
      "[CV]  learning_rate=0.1, max_depth=2, n_estimators=50, score=-188.177, total=   0.0s\n",
      "[CV] learning_rate=0.1, max_depth=2, n_estimators=100 ................\n",
      "[CV]  learning_rate=0.1, max_depth=2, n_estimators=100, score=-176.021, total=   0.0s\n",
      "[CV] learning_rate=0.1, max_depth=2, n_estimators=100 ................\n",
      "[CV]  learning_rate=0.1, max_depth=2, n_estimators=100, score=-259.265, total=   0.0s\n",
      "[CV] learning_rate=0.1, max_depth=2, n_estimators=100 ................\n",
      "[CV]  learning_rate=0.1, max_depth=2, n_estimators=100, score=-206.433, total=   0.0s\n",
      "[CV] learning_rate=0.1, max_depth=2, n_estimators=100 ................\n",
      "[CV]  learning_rate=0.1, max_depth=2, n_estimators=100, score=-260.367, total=   0.0s\n",
      "[CV] learning_rate=0.1, max_depth=2, n_estimators=100 ................\n",
      "[CV]  learning_rate=0.1, max_depth=2, n_estimators=100, score=-204.140, total=   0.0s\n",
      "[CV] learning_rate=0.1, max_depth=4, n_estimators=5 ..................\n",
      "[CV]  learning_rate=0.1, max_depth=4, n_estimators=5, score=-248.068, total=   0.0s\n",
      "[CV] learning_rate=0.1, max_depth=4, n_estimators=5 ..................\n",
      "[CV]  learning_rate=0.1, max_depth=4, n_estimators=5, score=-282.873, total=   0.0s\n",
      "[CV] learning_rate=0.1, max_depth=4, n_estimators=5 ..................\n",
      "[CV]  learning_rate=0.1, max_depth=4, n_estimators=5, score=-299.037, total=   0.0s\n",
      "[CV] learning_rate=0.1, max_depth=4, n_estimators=5 ..................\n",
      "[CV]  learning_rate=0.1, max_depth=4, n_estimators=5, score=-289.262, total=   0.0s\n",
      "[CV] learning_rate=0.1, max_depth=4, n_estimators=5 ..................\n",
      "[CV]  learning_rate=0.1, max_depth=4, n_estimators=5, score=-225.710, total=   0.0s\n",
      "[CV] learning_rate=0.1, max_depth=4, n_estimators=10 .................\n",
      "[CV]  learning_rate=0.1, max_depth=4, n_estimators=10, score=-226.417, total=   0.0s\n",
      "[CV] learning_rate=0.1, max_depth=4, n_estimators=10 .................\n",
      "[CV]  learning_rate=0.1, max_depth=4, n_estimators=10, score=-242.885, total=   0.0s\n",
      "[CV] learning_rate=0.1, max_depth=4, n_estimators=10 .................\n",
      "[CV]  learning_rate=0.1, max_depth=4, n_estimators=10, score=-248.116, total=   0.0s\n",
      "[CV] learning_rate=0.1, max_depth=4, n_estimators=10 .................\n",
      "[CV]  learning_rate=0.1, max_depth=4, n_estimators=10, score=-275.313, total=   0.0s\n",
      "[CV] learning_rate=0.1, max_depth=4, n_estimators=10 .................\n",
      "[CV]  learning_rate=0.1, max_depth=4, n_estimators=10, score=-209.080, total=   0.0s\n",
      "[CV] learning_rate=0.1, max_depth=4, n_estimators=25 .................\n",
      "[CV]  learning_rate=0.1, max_depth=4, n_estimators=25, score=-195.712, total=   0.0s\n",
      "[CV] learning_rate=0.1, max_depth=4, n_estimators=25 .................\n",
      "[CV]  learning_rate=0.1, max_depth=4, n_estimators=25, score=-202.953, total=   0.0s\n",
      "[CV] learning_rate=0.1, max_depth=4, n_estimators=25 .................\n",
      "[CV]  learning_rate=0.1, max_depth=4, n_estimators=25, score=-218.911, total=   0.0s\n",
      "[CV] learning_rate=0.1, max_depth=4, n_estimators=25 .................\n",
      "[CV]  learning_rate=0.1, max_depth=4, n_estimators=25, score=-270.448, total=   0.0s\n",
      "[CV] learning_rate=0.1, max_depth=4, n_estimators=25 .................\n",
      "[CV]  learning_rate=0.1, max_depth=4, n_estimators=25, score=-229.650, total=   0.0s\n",
      "[CV] learning_rate=0.1, max_depth=4, n_estimators=50 .................\n",
      "[CV]  learning_rate=0.1, max_depth=4, n_estimators=50, score=-196.319, total=   0.0s\n",
      "[CV] learning_rate=0.1, max_depth=4, n_estimators=50 .................\n",
      "[CV]  learning_rate=0.1, max_depth=4, n_estimators=50, score=-210.307, total=   0.0s\n",
      "[CV] learning_rate=0.1, max_depth=4, n_estimators=50 .................\n",
      "[CV]  learning_rate=0.1, max_depth=4, n_estimators=50, score=-228.863, total=   0.0s\n",
      "[CV] learning_rate=0.1, max_depth=4, n_estimators=50 .................\n",
      "[CV]  learning_rate=0.1, max_depth=4, n_estimators=50, score=-278.264, total=   0.0s\n",
      "[CV] learning_rate=0.1, max_depth=4, n_estimators=50 .................\n",
      "[CV]  learning_rate=0.1, max_depth=4, n_estimators=50, score=-230.875, total=   0.0s\n",
      "[CV] learning_rate=0.1, max_depth=4, n_estimators=100 ................\n",
      "[CV]  learning_rate=0.1, max_depth=4, n_estimators=100, score=-197.606, total=   0.1s\n",
      "[CV] learning_rate=0.1, max_depth=4, n_estimators=100 ................\n",
      "[CV]  learning_rate=0.1, max_depth=4, n_estimators=100, score=-206.923, total=   0.1s\n",
      "[CV] learning_rate=0.1, max_depth=4, n_estimators=100 ................\n",
      "[CV]  learning_rate=0.1, max_depth=4, n_estimators=100, score=-220.147, total=   0.1s\n",
      "[CV] learning_rate=0.1, max_depth=4, n_estimators=100 ................\n",
      "[CV]  learning_rate=0.1, max_depth=4, n_estimators=100, score=-284.402, total=   0.0s\n",
      "[CV] learning_rate=0.1, max_depth=4, n_estimators=100 ................\n",
      "[CV]  learning_rate=0.1, max_depth=4, n_estimators=100, score=-231.903, total=   0.1s\n",
      "[CV] learning_rate=0.1, max_depth=6, n_estimators=5 ..................\n",
      "[CV]  learning_rate=0.1, max_depth=6, n_estimators=5, score=-248.125, total=   0.0s\n",
      "[CV] learning_rate=0.1, max_depth=6, n_estimators=5 ..................\n",
      "[CV]  learning_rate=0.1, max_depth=6, n_estimators=5, score=-286.199, total=   0.0s\n",
      "[CV] learning_rate=0.1, max_depth=6, n_estimators=5 ..................\n",
      "[CV]  learning_rate=0.1, max_depth=6, n_estimators=5, score=-301.682, total=   0.0s\n",
      "[CV] learning_rate=0.1, max_depth=6, n_estimators=5 ..................\n",
      "[CV]  learning_rate=0.1, max_depth=6, n_estimators=5, score=-292.784, total=   0.0s\n",
      "[CV] learning_rate=0.1, max_depth=6, n_estimators=5 ..................\n",
      "[CV]  learning_rate=0.1, max_depth=6, n_estimators=5, score=-254.709, total=   0.0s\n",
      "[CV] learning_rate=0.1, max_depth=6, n_estimators=10 .................\n",
      "[CV]  learning_rate=0.1, max_depth=6, n_estimators=10, score=-242.801, total=   0.0s\n",
      "[CV] learning_rate=0.1, max_depth=6, n_estimators=10 .................\n",
      "[CV]  learning_rate=0.1, max_depth=6, n_estimators=10, score=-280.308, total=   0.0s\n",
      "[CV] learning_rate=0.1, max_depth=6, n_estimators=10 .................\n",
      "[CV]  learning_rate=0.1, max_depth=6, n_estimators=10, score=-277.037, total=   0.0s\n",
      "[CV] learning_rate=0.1, max_depth=6, n_estimators=10 .................\n",
      "[CV]  learning_rate=0.1, max_depth=6, n_estimators=10, score=-279.696, total=   0.0s\n",
      "[CV] learning_rate=0.1, max_depth=6, n_estimators=10 .................\n",
      "[CV]  learning_rate=0.1, max_depth=6, n_estimators=10, score=-261.132, total=   0.0s\n",
      "[CV] learning_rate=0.1, max_depth=6, n_estimators=25 .................\n",
      "[CV]  learning_rate=0.1, max_depth=6, n_estimators=25, score=-233.035, total=   0.0s\n",
      "[CV] learning_rate=0.1, max_depth=6, n_estimators=25 .................\n",
      "[CV]  learning_rate=0.1, max_depth=6, n_estimators=25, score=-280.025, total=   0.0s\n",
      "[CV] learning_rate=0.1, max_depth=6, n_estimators=25 .................\n",
      "[CV]  learning_rate=0.1, max_depth=6, n_estimators=25, score=-253.867, total=   0.0s\n",
      "[CV] learning_rate=0.1, max_depth=6, n_estimators=25 .................\n",
      "[CV]  learning_rate=0.1, max_depth=6, n_estimators=25, score=-293.668, total=   0.0s\n",
      "[CV] learning_rate=0.1, max_depth=6, n_estimators=25 .................\n",
      "[CV]  learning_rate=0.1, max_depth=6, n_estimators=25, score=-309.788, total=   0.0s\n",
      "[CV] learning_rate=0.1, max_depth=6, n_estimators=50 .................\n",
      "[CV]  learning_rate=0.1, max_depth=6, n_estimators=50, score=-229.888, total=   0.0s\n",
      "[CV] learning_rate=0.1, max_depth=6, n_estimators=50 .................\n",
      "[CV]  learning_rate=0.1, max_depth=6, n_estimators=50, score=-272.277, total=   0.0s\n",
      "[CV] learning_rate=0.1, max_depth=6, n_estimators=50 .................\n",
      "[CV]  learning_rate=0.1, max_depth=6, n_estimators=50, score=-246.748, total=   0.0s\n",
      "[CV] learning_rate=0.1, max_depth=6, n_estimators=50 .................\n",
      "[CV]  learning_rate=0.1, max_depth=6, n_estimators=50, score=-314.874, total=   0.0s\n",
      "[CV] learning_rate=0.1, max_depth=6, n_estimators=50 .................\n",
      "[CV]  learning_rate=0.1, max_depth=6, n_estimators=50, score=-324.454, total=   0.0s\n",
      "[CV] learning_rate=0.1, max_depth=6, n_estimators=100 ................\n",
      "[CV]  learning_rate=0.1, max_depth=6, n_estimators=100, score=-227.940, total=   0.1s\n",
      "[CV] learning_rate=0.1, max_depth=6, n_estimators=100 ................\n",
      "[CV]  learning_rate=0.1, max_depth=6, n_estimators=100, score=-273.664, total=   0.1s\n",
      "[CV] learning_rate=0.1, max_depth=6, n_estimators=100 ................\n",
      "[CV]  learning_rate=0.1, max_depth=6, n_estimators=100, score=-240.528, total=   0.1s\n",
      "[CV] learning_rate=0.1, max_depth=6, n_estimators=100 ................\n",
      "[CV]  learning_rate=0.1, max_depth=6, n_estimators=100, score=-300.291, total=   0.1s\n",
      "[CV] learning_rate=0.1, max_depth=6, n_estimators=100 ................\n",
      "[CV]  learning_rate=0.1, max_depth=6, n_estimators=100, score=-325.908, total=   0.1s\n",
      "[CV] learning_rate=0.1, max_depth=8, n_estimators=5 ..................\n",
      "[CV]  learning_rate=0.1, max_depth=8, n_estimators=5, score=-254.353, total=   0.0s\n",
      "[CV] learning_rate=0.1, max_depth=8, n_estimators=5 ..................\n",
      "[CV]  learning_rate=0.1, max_depth=8, n_estimators=5, score=-281.421, total=   0.0s\n",
      "[CV] learning_rate=0.1, max_depth=8, n_estimators=5 ..................\n",
      "[CV]  learning_rate=0.1, max_depth=8, n_estimators=5, score=-303.437, total=   0.0s\n",
      "[CV] learning_rate=0.1, max_depth=8, n_estimators=5 ..................\n",
      "[CV]  learning_rate=0.1, max_depth=8, n_estimators=5, score=-291.730, total=   0.0s\n",
      "[CV] learning_rate=0.1, max_depth=8, n_estimators=5 ..................\n",
      "[CV]  learning_rate=0.1, max_depth=8, n_estimators=5, score=-242.015, total=   0.0s\n",
      "[CV] learning_rate=0.1, max_depth=8, n_estimators=10 .................\n",
      "[CV]  learning_rate=0.1, max_depth=8, n_estimators=10, score=-246.532, total=   0.0s\n",
      "[CV] learning_rate=0.1, max_depth=8, n_estimators=10 .................\n",
      "[CV]  learning_rate=0.1, max_depth=8, n_estimators=10, score=-274.401, total=   0.0s\n",
      "[CV] learning_rate=0.1, max_depth=8, n_estimators=10 .................\n",
      "[CV]  learning_rate=0.1, max_depth=8, n_estimators=10, score=-267.438, total=   0.0s\n",
      "[CV] learning_rate=0.1, max_depth=8, n_estimators=10 .................\n",
      "[CV]  learning_rate=0.1, max_depth=8, n_estimators=10, score=-281.713, total=   0.0s\n",
      "[CV] learning_rate=0.1, max_depth=8, n_estimators=10 .................\n",
      "[CV]  learning_rate=0.1, max_depth=8, n_estimators=10, score=-263.665, total=   0.0s\n",
      "[CV] learning_rate=0.1, max_depth=8, n_estimators=25 .................\n",
      "[CV]  learning_rate=0.1, max_depth=8, n_estimators=25, score=-247.072, total=   0.0s\n",
      "[CV] learning_rate=0.1, max_depth=8, n_estimators=25 .................\n",
      "[CV]  learning_rate=0.1, max_depth=8, n_estimators=25, score=-305.037, total=   0.0s\n",
      "[CV] learning_rate=0.1, max_depth=8, n_estimators=25 .................\n",
      "[CV]  learning_rate=0.1, max_depth=8, n_estimators=25, score=-255.888, total=   0.0s\n",
      "[CV] learning_rate=0.1, max_depth=8, n_estimators=25 .................\n",
      "[CV]  learning_rate=0.1, max_depth=8, n_estimators=25, score=-317.025, total=   0.0s\n",
      "[CV] learning_rate=0.1, max_depth=8, n_estimators=25 .................\n",
      "[CV]  learning_rate=0.1, max_depth=8, n_estimators=25, score=-330.430, total=   0.0s\n",
      "[CV] learning_rate=0.1, max_depth=8, n_estimators=50 .................\n",
      "[CV]  learning_rate=0.1, max_depth=8, n_estimators=50, score=-246.755, total=   0.0s\n",
      "[CV] learning_rate=0.1, max_depth=8, n_estimators=50 .................\n",
      "[CV]  learning_rate=0.1, max_depth=8, n_estimators=50, score=-314.921, total=   0.0s\n",
      "[CV] learning_rate=0.1, max_depth=8, n_estimators=50 .................\n",
      "[CV]  learning_rate=0.1, max_depth=8, n_estimators=50, score=-271.568, total=   0.0s\n",
      "[CV] learning_rate=0.1, max_depth=8, n_estimators=50 .................\n",
      "[CV]  learning_rate=0.1, max_depth=8, n_estimators=50, score=-336.221, total=   0.0s\n",
      "[CV] learning_rate=0.1, max_depth=8, n_estimators=50 .................\n",
      "[CV]  learning_rate=0.1, max_depth=8, n_estimators=50, score=-331.391, total=   0.0s\n",
      "[CV] learning_rate=0.1, max_depth=8, n_estimators=100 ................\n",
      "[CV]  learning_rate=0.1, max_depth=8, n_estimators=100, score=-251.059, total=   0.1s\n",
      "[CV] learning_rate=0.1, max_depth=8, n_estimators=100 ................\n",
      "[CV]  learning_rate=0.1, max_depth=8, n_estimators=100, score=-306.794, total=   0.1s\n",
      "[CV] learning_rate=0.1, max_depth=8, n_estimators=100 ................\n",
      "[CV]  learning_rate=0.1, max_depth=8, n_estimators=100, score=-263.863, total=   0.1s\n",
      "[CV] learning_rate=0.1, max_depth=8, n_estimators=100 ................\n",
      "[CV]  learning_rate=0.1, max_depth=8, n_estimators=100, score=-329.774, total=   0.1s\n",
      "[CV] learning_rate=0.1, max_depth=8, n_estimators=100 ................\n",
      "[CV]  learning_rate=0.1, max_depth=8, n_estimators=100, score=-341.761, total=   0.1s\n",
      "[CV] learning_rate=0.3, max_depth=2, n_estimators=5 ..................\n",
      "[CV]  learning_rate=0.3, max_depth=2, n_estimators=5, score=-211.043, total=   0.0s\n",
      "[CV] learning_rate=0.3, max_depth=2, n_estimators=5 ..................\n",
      "[CV]  learning_rate=0.3, max_depth=2, n_estimators=5, score=-210.051, total=   0.0s\n",
      "[CV] learning_rate=0.3, max_depth=2, n_estimators=5 ..................\n",
      "[CV]  learning_rate=0.3, max_depth=2, n_estimators=5, score=-284.429, total=   0.0s\n",
      "[CV] learning_rate=0.3, max_depth=2, n_estimators=5 ..................\n",
      "[CV]  learning_rate=0.3, max_depth=2, n_estimators=5, score=-250.399, total=   0.0s\n",
      "[CV] learning_rate=0.3, max_depth=2, n_estimators=5 ..................\n",
      "[CV]  learning_rate=0.3, max_depth=2, n_estimators=5, score=-184.137, total=   0.0s\n",
      "[CV] learning_rate=0.3, max_depth=2, n_estimators=10 .................\n",
      "[CV]  learning_rate=0.3, max_depth=2, n_estimators=10, score=-188.604, total=   0.0s\n",
      "[CV] learning_rate=0.3, max_depth=2, n_estimators=10 .................\n",
      "[CV]  learning_rate=0.3, max_depth=2, n_estimators=10, score=-200.326, total=   0.0s\n",
      "[CV] learning_rate=0.3, max_depth=2, n_estimators=10 .................\n",
      "[CV]  learning_rate=0.3, max_depth=2, n_estimators=10, score=-246.990, total=   0.0s\n",
      "[CV] learning_rate=0.3, max_depth=2, n_estimators=10 .................\n",
      "[CV]  learning_rate=0.3, max_depth=2, n_estimators=10, score=-243.907, total=   0.0s\n",
      "[CV] learning_rate=0.3, max_depth=2, n_estimators=10 .................\n",
      "[CV]  learning_rate=0.3, max_depth=2, n_estimators=10, score=-198.356, total=   0.0s\n",
      "[CV] learning_rate=0.3, max_depth=2, n_estimators=25 .................\n",
      "[CV]  learning_rate=0.3, max_depth=2, n_estimators=25, score=-194.375, total=   0.0s\n",
      "[CV] learning_rate=0.3, max_depth=2, n_estimators=25 .................\n",
      "[CV]  learning_rate=0.3, max_depth=2, n_estimators=25, score=-230.894, total=   0.0s\n",
      "[CV] learning_rate=0.3, max_depth=2, n_estimators=25 .................\n",
      "[CV]  learning_rate=0.3, max_depth=2, n_estimators=25, score=-222.272, total=   0.0s\n",
      "[CV] learning_rate=0.3, max_depth=2, n_estimators=25 .................\n",
      "[CV]  learning_rate=0.3, max_depth=2, n_estimators=25, score=-235.979, total=   0.0s\n",
      "[CV] learning_rate=0.3, max_depth=2, n_estimators=25 .................\n",
      "[CV]  learning_rate=0.3, max_depth=2, n_estimators=25, score=-224.702, total=   0.0s\n",
      "[CV] learning_rate=0.3, max_depth=2, n_estimators=50 .................\n",
      "[CV]  learning_rate=0.3, max_depth=2, n_estimators=50, score=-198.151, total=   0.0s\n",
      "[CV] learning_rate=0.3, max_depth=2, n_estimators=50 .................\n",
      "[CV]  learning_rate=0.3, max_depth=2, n_estimators=50, score=-246.787, total=   0.0s\n",
      "[CV] learning_rate=0.3, max_depth=2, n_estimators=50 .................\n",
      "[CV]  learning_rate=0.3, max_depth=2, n_estimators=50, score=-224.721, total=   0.0s\n",
      "[CV] learning_rate=0.3, max_depth=2, n_estimators=50 .................\n",
      "[CV]  learning_rate=0.3, max_depth=2, n_estimators=50, score=-240.583, total=   0.0s\n",
      "[CV] learning_rate=0.3, max_depth=2, n_estimators=50 .................\n",
      "[CV]  learning_rate=0.3, max_depth=2, n_estimators=50, score=-219.999, total=   0.0s\n",
      "[CV] learning_rate=0.3, max_depth=2, n_estimators=100 ................\n",
      "[CV]  learning_rate=0.3, max_depth=2, n_estimators=100, score=-205.624, total=   0.0s\n",
      "[CV] learning_rate=0.3, max_depth=2, n_estimators=100 ................\n",
      "[CV]  learning_rate=0.3, max_depth=2, n_estimators=100, score=-240.148, total=   0.0s\n",
      "[CV] learning_rate=0.3, max_depth=2, n_estimators=100 ................\n",
      "[CV]  learning_rate=0.3, max_depth=2, n_estimators=100, score=-245.543, total=   0.0s\n",
      "[CV] learning_rate=0.3, max_depth=2, n_estimators=100 ................\n",
      "[CV]  learning_rate=0.3, max_depth=2, n_estimators=100, score=-240.203, total=   0.0s\n",
      "[CV] learning_rate=0.3, max_depth=2, n_estimators=100 ................\n",
      "[CV]  learning_rate=0.3, max_depth=2, n_estimators=100, score=-221.056, total=   0.0s\n",
      "[CV] learning_rate=0.3, max_depth=4, n_estimators=5 ..................\n",
      "[CV]  learning_rate=0.3, max_depth=4, n_estimators=5, score=-207.438, total=   0.0s\n",
      "[CV] learning_rate=0.3, max_depth=4, n_estimators=5 ..................\n",
      "[CV]  learning_rate=0.3, max_depth=4, n_estimators=5, score=-192.160, total=   0.0s\n",
      "[CV] learning_rate=0.3, max_depth=4, n_estimators=5 ..................\n",
      "[CV]  learning_rate=0.3, max_depth=4, n_estimators=5, score=-218.992, total=   0.0s\n",
      "[CV] learning_rate=0.3, max_depth=4, n_estimators=5 ..................\n",
      "[CV]  learning_rate=0.3, max_depth=4, n_estimators=5, score=-271.887, total=   0.0s\n",
      "[CV] learning_rate=0.3, max_depth=4, n_estimators=5 ..................\n",
      "[CV]  learning_rate=0.3, max_depth=4, n_estimators=5, score=-218.933, total=   0.0s\n",
      "[CV] learning_rate=0.3, max_depth=4, n_estimators=10 .................\n",
      "[CV]  learning_rate=0.3, max_depth=4, n_estimators=10, score=-191.348, total=   0.0s\n",
      "[CV] learning_rate=0.3, max_depth=4, n_estimators=10 .................\n",
      "[CV]  learning_rate=0.3, max_depth=4, n_estimators=10, score=-197.109, total=   0.0s\n",
      "[CV] learning_rate=0.3, max_depth=4, n_estimators=10 .................\n",
      "[CV]  learning_rate=0.3, max_depth=4, n_estimators=10, score=-229.422, total=   0.0s\n",
      "[CV] learning_rate=0.3, max_depth=4, n_estimators=10 .................\n",
      "[CV]  learning_rate=0.3, max_depth=4, n_estimators=10, score=-307.056, total=   0.0s\n",
      "[CV] learning_rate=0.3, max_depth=4, n_estimators=10 .................\n",
      "[CV]  learning_rate=0.3, max_depth=4, n_estimators=10, score=-213.131, total=   0.0s\n",
      "[CV] learning_rate=0.3, max_depth=4, n_estimators=25 .................\n",
      "[CV]  learning_rate=0.3, max_depth=4, n_estimators=25, score=-176.291, total=   0.0s\n",
      "[CV] learning_rate=0.3, max_depth=4, n_estimators=25 .................\n",
      "[CV]  learning_rate=0.3, max_depth=4, n_estimators=25, score=-231.770, total=   0.0s\n",
      "[CV] learning_rate=0.3, max_depth=4, n_estimators=25 .................\n",
      "[CV]  learning_rate=0.3, max_depth=4, n_estimators=25, score=-236.216, total=   0.0s\n",
      "[CV] learning_rate=0.3, max_depth=4, n_estimators=25 .................\n",
      "[CV]  learning_rate=0.3, max_depth=4, n_estimators=25, score=-315.860, total=   0.0s\n",
      "[CV] learning_rate=0.3, max_depth=4, n_estimators=25 .................\n",
      "[CV]  learning_rate=0.3, max_depth=4, n_estimators=25, score=-214.674, total=   0.0s\n",
      "[CV] learning_rate=0.3, max_depth=4, n_estimators=50 .................\n",
      "[CV]  learning_rate=0.3, max_depth=4, n_estimators=50, score=-187.638, total=   0.0s\n",
      "[CV] learning_rate=0.3, max_depth=4, n_estimators=50 .................\n",
      "[CV]  learning_rate=0.3, max_depth=4, n_estimators=50, score=-246.564, total=   0.0s\n",
      "[CV] learning_rate=0.3, max_depth=4, n_estimators=50 .................\n",
      "[CV]  learning_rate=0.3, max_depth=4, n_estimators=50, score=-240.351, total=   0.0s\n",
      "[CV] learning_rate=0.3, max_depth=4, n_estimators=50 .................\n",
      "[CV]  learning_rate=0.3, max_depth=4, n_estimators=50, score=-303.304, total=   0.0s\n",
      "[CV] learning_rate=0.3, max_depth=4, n_estimators=50 .................\n",
      "[CV]  learning_rate=0.3, max_depth=4, n_estimators=50, score=-213.765, total=   0.0s\n",
      "[CV] learning_rate=0.3, max_depth=4, n_estimators=100 ................\n",
      "[CV]  learning_rate=0.3, max_depth=4, n_estimators=100, score=-200.481, total=   0.0s\n",
      "[CV] learning_rate=0.3, max_depth=4, n_estimators=100 ................\n",
      "[CV]  learning_rate=0.3, max_depth=4, n_estimators=100, score=-215.137, total=   0.0s\n",
      "[CV] learning_rate=0.3, max_depth=4, n_estimators=100 ................\n",
      "[CV]  learning_rate=0.3, max_depth=4, n_estimators=100, score=-236.831, total=   0.1s\n",
      "[CV] learning_rate=0.3, max_depth=4, n_estimators=100 ................\n",
      "[CV]  learning_rate=0.3, max_depth=4, n_estimators=100, score=-298.562, total=   0.1s\n",
      "[CV] learning_rate=0.3, max_depth=4, n_estimators=100 ................\n",
      "[CV]  learning_rate=0.3, max_depth=4, n_estimators=100, score=-212.272, total=   0.1s\n",
      "[CV] learning_rate=0.3, max_depth=6, n_estimators=5 ..................\n",
      "[CV]  learning_rate=0.3, max_depth=6, n_estimators=5, score=-227.121, total=   0.0s\n",
      "[CV] learning_rate=0.3, max_depth=6, n_estimators=5 ..................\n",
      "[CV]  learning_rate=0.3, max_depth=6, n_estimators=5, score=-301.285, total=   0.0s\n",
      "[CV] learning_rate=0.3, max_depth=6, n_estimators=5 ..................\n",
      "[CV]  learning_rate=0.3, max_depth=6, n_estimators=5, score=-246.266, total=   0.0s\n",
      "[CV] learning_rate=0.3, max_depth=6, n_estimators=5 ..................\n",
      "[CV]  learning_rate=0.3, max_depth=6, n_estimators=5, score=-299.751, total=   0.0s\n",
      "[CV] learning_rate=0.3, max_depth=6, n_estimators=5 ..................\n",
      "[CV]  learning_rate=0.3, max_depth=6, n_estimators=5, score=-282.915, total=   0.0s\n",
      "[CV] learning_rate=0.3, max_depth=6, n_estimators=10 .................\n",
      "[CV]  learning_rate=0.3, max_depth=6, n_estimators=10, score=-229.158, total=   0.0s\n",
      "[CV] learning_rate=0.3, max_depth=6, n_estimators=10 .................\n",
      "[CV]  learning_rate=0.3, max_depth=6, n_estimators=10, score=-283.401, total=   0.0s\n",
      "[CV] learning_rate=0.3, max_depth=6, n_estimators=10 .................\n",
      "[CV]  learning_rate=0.3, max_depth=6, n_estimators=10, score=-250.832, total=   0.0s\n",
      "[CV] learning_rate=0.3, max_depth=6, n_estimators=10 .................\n",
      "[CV]  learning_rate=0.3, max_depth=6, n_estimators=10, score=-294.718, total=   0.0s\n",
      "[CV] learning_rate=0.3, max_depth=6, n_estimators=10 .................\n",
      "[CV]  learning_rate=0.3, max_depth=6, n_estimators=10, score=-317.023, total=   0.0s\n",
      "[CV] learning_rate=0.3, max_depth=6, n_estimators=25 .................\n",
      "[CV]  learning_rate=0.3, max_depth=6, n_estimators=25, score=-212.611, total=   0.0s\n",
      "[CV] learning_rate=0.3, max_depth=6, n_estimators=25 .................\n",
      "[CV]  learning_rate=0.3, max_depth=6, n_estimators=25, score=-284.403, total=   0.0s\n",
      "[CV] learning_rate=0.3, max_depth=6, n_estimators=25 .................\n",
      "[CV]  learning_rate=0.3, max_depth=6, n_estimators=25, score=-246.049, total=   0.0s\n",
      "[CV] learning_rate=0.3, max_depth=6, n_estimators=25 .................\n",
      "[CV]  learning_rate=0.3, max_depth=6, n_estimators=25, score=-299.060, total=   0.0s\n",
      "[CV] learning_rate=0.3, max_depth=6, n_estimators=25 .................\n",
      "[CV]  learning_rate=0.3, max_depth=6, n_estimators=25, score=-325.242, total=   0.0s\n",
      "[CV] learning_rate=0.3, max_depth=6, n_estimators=50 .................\n",
      "[CV]  learning_rate=0.3, max_depth=6, n_estimators=50, score=-228.155, total=   0.0s\n",
      "[CV] learning_rate=0.3, max_depth=6, n_estimators=50 .................\n",
      "[CV]  learning_rate=0.3, max_depth=6, n_estimators=50, score=-263.916, total=   0.0s\n",
      "[CV] learning_rate=0.3, max_depth=6, n_estimators=50 .................\n",
      "[CV]  learning_rate=0.3, max_depth=6, n_estimators=50, score=-222.794, total=   0.0s\n",
      "[CV] learning_rate=0.3, max_depth=6, n_estimators=50 .................\n",
      "[CV]  learning_rate=0.3, max_depth=6, n_estimators=50, score=-297.026, total=   0.0s\n",
      "[CV] learning_rate=0.3, max_depth=6, n_estimators=50 .................\n",
      "[CV]  learning_rate=0.3, max_depth=6, n_estimators=50, score=-314.124, total=   0.0s\n",
      "[CV] learning_rate=0.3, max_depth=6, n_estimators=100 ................\n",
      "[CV]  learning_rate=0.3, max_depth=6, n_estimators=100, score=-224.320, total=   0.1s\n",
      "[CV] learning_rate=0.3, max_depth=6, n_estimators=100 ................\n",
      "[CV]  learning_rate=0.3, max_depth=6, n_estimators=100, score=-287.715, total=   0.1s\n",
      "[CV] learning_rate=0.3, max_depth=6, n_estimators=100 ................\n",
      "[CV]  learning_rate=0.3, max_depth=6, n_estimators=100, score=-225.991, total=   0.1s\n",
      "[CV] learning_rate=0.3, max_depth=6, n_estimators=100 ................\n",
      "[CV]  learning_rate=0.3, max_depth=6, n_estimators=100, score=-294.180, total=   0.1s\n",
      "[CV] learning_rate=0.3, max_depth=6, n_estimators=100 ................\n",
      "[CV]  learning_rate=0.3, max_depth=6, n_estimators=100, score=-308.809, total=   0.1s\n",
      "[CV] learning_rate=0.3, max_depth=8, n_estimators=5 ..................\n",
      "[CV]  learning_rate=0.3, max_depth=8, n_estimators=5, score=-244.752, total=   0.0s\n",
      "[CV] learning_rate=0.3, max_depth=8, n_estimators=5 ..................\n",
      "[CV]  learning_rate=0.3, max_depth=8, n_estimators=5, score=-302.248, total=   0.0s\n",
      "[CV] learning_rate=0.3, max_depth=8, n_estimators=5 ..................\n",
      "[CV]  learning_rate=0.3, max_depth=8, n_estimators=5, score=-269.183, total=   0.0s\n",
      "[CV] learning_rate=0.3, max_depth=8, n_estimators=5 ..................\n",
      "[CV]  learning_rate=0.3, max_depth=8, n_estimators=5, score=-288.201, total=   0.0s\n",
      "[CV] learning_rate=0.3, max_depth=8, n_estimators=5 ..................\n",
      "[CV]  learning_rate=0.3, max_depth=8, n_estimators=5, score=-317.125, total=   0.0s\n",
      "[CV] learning_rate=0.3, max_depth=8, n_estimators=10 .................\n",
      "[CV]  learning_rate=0.3, max_depth=8, n_estimators=10, score=-251.397, total=   0.0s\n",
      "[CV] learning_rate=0.3, max_depth=8, n_estimators=10 .................\n",
      "[CV]  learning_rate=0.3, max_depth=8, n_estimators=10, score=-310.419, total=   0.0s\n",
      "[CV] learning_rate=0.3, max_depth=8, n_estimators=10 .................\n",
      "[CV]  learning_rate=0.3, max_depth=8, n_estimators=10, score=-293.010, total=   0.0s\n",
      "[CV] learning_rate=0.3, max_depth=8, n_estimators=10 .................\n",
      "[CV]  learning_rate=0.3, max_depth=8, n_estimators=10, score=-326.131, total=   0.0s\n",
      "[CV] learning_rate=0.3, max_depth=8, n_estimators=10 .................\n",
      "[CV]  learning_rate=0.3, max_depth=8, n_estimators=10, score=-348.201, total=   0.0s\n",
      "[CV] learning_rate=0.3, max_depth=8, n_estimators=25 .................\n",
      "[CV]  learning_rate=0.3, max_depth=8, n_estimators=25, score=-247.822, total=   0.0s\n",
      "[CV] learning_rate=0.3, max_depth=8, n_estimators=25 .................\n",
      "[CV]  learning_rate=0.3, max_depth=8, n_estimators=25, score=-291.171, total=   0.0s\n",
      "[CV] learning_rate=0.3, max_depth=8, n_estimators=25 .................\n",
      "[CV]  learning_rate=0.3, max_depth=8, n_estimators=25, score=-283.394, total=   0.0s\n",
      "[CV] learning_rate=0.3, max_depth=8, n_estimators=25 .................\n",
      "[CV]  learning_rate=0.3, max_depth=8, n_estimators=25, score=-317.760, total=   0.0s\n",
      "[CV] learning_rate=0.3, max_depth=8, n_estimators=25 .................\n",
      "[CV]  learning_rate=0.3, max_depth=8, n_estimators=25, score=-334.419, total=   0.0s\n",
      "[CV] learning_rate=0.3, max_depth=8, n_estimators=50 .................\n",
      "[CV]  learning_rate=0.3, max_depth=8, n_estimators=50, score=-245.010, total=   0.0s\n",
      "[CV] learning_rate=0.3, max_depth=8, n_estimators=50 .................\n",
      "[CV]  learning_rate=0.3, max_depth=8, n_estimators=50, score=-298.433, total=   0.0s\n",
      "[CV] learning_rate=0.3, max_depth=8, n_estimators=50 .................\n",
      "[CV]  learning_rate=0.3, max_depth=8, n_estimators=50, score=-271.215, total=   0.0s\n",
      "[CV] learning_rate=0.3, max_depth=8, n_estimators=50 .................\n",
      "[CV]  learning_rate=0.3, max_depth=8, n_estimators=50, score=-341.631, total=   0.0s\n",
      "[CV] learning_rate=0.3, max_depth=8, n_estimators=50 .................\n",
      "[CV]  learning_rate=0.3, max_depth=8, n_estimators=50, score=-345.280, total=   0.0s\n",
      "[CV] learning_rate=0.3, max_depth=8, n_estimators=100 ................\n",
      "[CV]  learning_rate=0.3, max_depth=8, n_estimators=100, score=-245.020, total=   0.1s\n",
      "[CV] learning_rate=0.3, max_depth=8, n_estimators=100 ................\n",
      "[CV]  learning_rate=0.3, max_depth=8, n_estimators=100, score=-324.690, total=   0.1s\n",
      "[CV] learning_rate=0.3, max_depth=8, n_estimators=100 ................\n",
      "[CV]  learning_rate=0.3, max_depth=8, n_estimators=100, score=-264.077, total=   0.1s\n",
      "[CV] learning_rate=0.3, max_depth=8, n_estimators=100 ................\n",
      "[CV]  learning_rate=0.3, max_depth=8, n_estimators=100, score=-319.527, total=   0.1s\n",
      "[CV] learning_rate=0.3, max_depth=8, n_estimators=100 ................\n",
      "[CV]  learning_rate=0.3, max_depth=8, n_estimators=100, score=-342.744, total=   0.1s\n"
     ]
    },
    {
     "name": "stderr",
     "output_type": "stream",
     "text": [
      "[Parallel(n_jobs=1)]: Done 300 out of 300 | elapsed:    7.6s finished\n"
     ]
    },
    {
     "data": {
      "text/plain": [
       "GridSearchCV(estimator=GradientBoostingRegressor(),\n",
       "             param_grid={'learning_rate': [0.01, 0.1, 0.3],\n",
       "                         'max_depth': [2, 4, 6, 8],\n",
       "                         'n_estimators': [5, 10, 25, 50, 100]},\n",
       "             scoring='neg_mean_absolute_error', verbose=3)"
      ]
     },
     "execution_count": 295,
     "metadata": {},
     "output_type": "execute_result"
    }
   ],
   "source": [
    "from sklearn.ensemble import GradientBoostingRegressor\n",
    "XGboost_tune = GradientBoostingRegressor()\n",
    "parameters = {'learning_rate': [0.01, 0.1, 0.3], 'n_estimators': [5, 10, 25, 50, 100], 'max_depth': [2, 4, 6, 8]}\n",
    "clf_XG = GridSearchCV(XGboost_tune, parameters, scoring = 'neg_mean_absolute_error', verbose = 3)\n",
    "clf_XG.fit(X, y)"
   ]
  },
  {
   "cell_type": "code",
   "execution_count": 296,
   "id": "chief-begin",
   "metadata": {},
   "outputs": [
    {
     "name": "stdout",
     "output_type": "stream",
     "text": [
      "{'learning_rate': 0.1, 'max_depth': 2, 'n_estimators': 25}\n",
      "-208.79627706688174\n"
     ]
    }
   ],
   "source": [
    "print(clf_XG.best_params_) \n",
    "print(clf_XG.best_score_) "
   ]
  },
  {
   "cell_type": "code",
   "execution_count": 297,
   "id": "brazilian-generator",
   "metadata": {},
   "outputs": [
    {
     "name": "stdout",
     "output_type": "stream",
     "text": [
      "-223.20078896601473\n"
     ]
    }
   ],
   "source": [
    "from sklearn.linear_model import LinearRegression\n",
    "linearReg = LinearRegression()\n",
    "print(cross_val_score(linearReg, X, y, scoring='neg_mean_absolute_error').mean())"
   ]
  },
  {
   "cell_type": "code",
   "execution_count": 300,
   "id": "sensitive-sydney",
   "metadata": {
    "collapsed": true,
    "jupyter": {
     "outputs_hidden": true
    }
   },
   "outputs": [
    {
     "name": "stdout",
     "output_type": "stream",
     "text": [
      "Fitting 5 folds for each of 7 candidates, totalling 35 fits\n",
      "[CV] n_neighbors=3 ...................................................\n",
      "[CV] .................... n_neighbors=3, score=-337.425, total=   0.0s\n",
      "[CV] n_neighbors=3 ...................................................\n",
      "[CV] .................... n_neighbors=3, score=-308.950, total=   0.0s\n",
      "[CV] n_neighbors=3 ...................................................\n",
      "[CV] .................... n_neighbors=3, score=-331.233, total=   0.0s\n",
      "[CV] n_neighbors=3 ...................................................\n",
      "[CV] .................... n_neighbors=3, score=-412.760, total=   0.0s\n",
      "[CV] n_neighbors=3 ...................................................\n",
      "[CV] .................... n_neighbors=3, score=-373.480, total=   0.0s\n",
      "[CV] n_neighbors=4 ...................................................\n",
      "[CV] .................... n_neighbors=4, score=-326.222, total=   0.0s\n",
      "[CV] n_neighbors=4 ...................................................\n",
      "[CV] .................... n_neighbors=4, score=-332.076, total=   0.0s\n",
      "[CV] n_neighbors=4 ...................................................\n",
      "[CV] .................... n_neighbors=4, score=-317.386, total=   0.0s\n",
      "[CV] n_neighbors=4 ...................................................\n",
      "[CV] .................... n_neighbors=4, score=-412.646, total=   0.0s\n",
      "[CV] n_neighbors=4 ...................................................\n",
      "[CV] .................... n_neighbors=4, score=-288.860, total=   0.0s\n",
      "[CV] n_neighbors=5 ...................................................\n",
      "[CV] .................... n_neighbors=5, score=-306.635, total=   0.0s\n",
      "[CV] n_neighbors=5 ...................................................\n",
      "[CV] .................... n_neighbors=5, score=-293.611, total=   0.0s\n",
      "[CV] n_neighbors=5 ...................................................\n",
      "[CV] .................... n_neighbors=5, score=-329.883, total=   0.0s\n",
      "[CV] n_neighbors=5 ...................................................\n",
      "[CV] .................... n_neighbors=5, score=-431.657, total=   0.0s\n",
      "[CV] n_neighbors=5 ...................................................\n",
      "[CV] .................... n_neighbors=5, score=-310.880, total=   0.0s\n",
      "[CV] n_neighbors=6 ...................................................\n",
      "[CV] .................... n_neighbors=6, score=-262.533, total=   0.0s\n",
      "[CV] n_neighbors=6 ...................................................\n",
      "[CV] .................... n_neighbors=6, score=-288.689, total=   0.0s\n",
      "[CV] n_neighbors=6 ...................................................\n",
      "[CV] .................... n_neighbors=6, score=-343.176, total=   0.0s\n",
      "[CV] n_neighbors=6 ...................................................\n",
      "[CV] .................... n_neighbors=6, score=-438.793, total=   0.0s\n",
      "[CV] n_neighbors=6 ...................................................\n",
      "[CV] .................... n_neighbors=6, score=-302.052, total=   0.0s\n",
      "[CV] n_neighbors=7 ...................................................\n",
      "[CV] .................... n_neighbors=7, score=-277.695, total=   0.0s\n",
      "[CV] n_neighbors=7 ...................................................\n",
      "[CV] .................... n_neighbors=7, score=-302.349, total=   0.0s\n",
      "[CV] n_neighbors=7 ...................................................\n",
      "[CV] .................... n_neighbors=7, score=-349.839, total=   0.0s\n",
      "[CV] n_neighbors=7 ...................................................\n",
      "[CV] .................... n_neighbors=7, score=-429.877, total=   0.0s\n",
      "[CV] n_neighbors=7 ...................................................\n",
      "[CV] .................... n_neighbors=7, score=-286.483, total=   0.0s\n",
      "[CV] n_neighbors=8 ...................................................\n",
      "[CV] .................... n_neighbors=8, score=-308.782, total=   0.0s\n",
      "[CV] n_neighbors=8 ...................................................\n"
     ]
    },
    {
     "name": "stderr",
     "output_type": "stream",
     "text": [
      "[Parallel(n_jobs=1)]: Using backend SequentialBackend with 1 concurrent workers.\n",
      "[Parallel(n_jobs=1)]: Done   1 out of   1 | elapsed:    0.0s remaining:    0.0s\n",
      "[Parallel(n_jobs=1)]: Done   2 out of   2 | elapsed:    0.0s remaining:    0.0s\n"
     ]
    },
    {
     "name": "stdout",
     "output_type": "stream",
     "text": [
      "[CV] .................... n_neighbors=8, score=-300.110, total=   0.0s\n",
      "[CV] n_neighbors=8 ...................................................\n",
      "[CV] .................... n_neighbors=8, score=-382.322, total=   0.0s\n",
      "[CV] n_neighbors=8 ...................................................\n",
      "[CV] .................... n_neighbors=8, score=-419.882, total=   0.0s\n",
      "[CV] n_neighbors=8 ...................................................\n",
      "[CV] .................... n_neighbors=8, score=-270.437, total=   0.0s\n",
      "[CV] n_neighbors=9 ...................................................\n",
      "[CV] .................... n_neighbors=9, score=-297.969, total=   0.0s\n",
      "[CV] n_neighbors=9 ...................................................\n",
      "[CV] .................... n_neighbors=9, score=-299.825, total=   0.0s\n",
      "[CV] n_neighbors=9 ...................................................\n",
      "[CV] .................... n_neighbors=9, score=-382.776, total=   0.0s\n",
      "[CV] n_neighbors=9 ...................................................\n",
      "[CV] .................... n_neighbors=9, score=-405.679, total=   0.0s\n",
      "[CV] n_neighbors=9 ...................................................\n",
      "[CV] .................... n_neighbors=9, score=-275.075, total=   0.0s\n"
     ]
    },
    {
     "name": "stderr",
     "output_type": "stream",
     "text": [
      "[Parallel(n_jobs=1)]: Done  35 out of  35 | elapsed:    0.2s finished\n"
     ]
    },
    {
     "data": {
      "text/plain": [
       "GridSearchCV(estimator=KNeighborsRegressor(),\n",
       "             param_grid={'n_neighbors': [3, 4, 5, 6, 7, 8, 9]},\n",
       "             scoring='neg_mean_absolute_error', verbose=3)"
      ]
     },
     "execution_count": 300,
     "metadata": {},
     "output_type": "execute_result"
    }
   ],
   "source": [
    "from sklearn.neighbors import KNeighborsRegressor\n",
    "kNN_tune = KNeighborsRegressor()\n",
    "parameters = {'n_neighbors': [3,4,5,6,7,8,9]}\n",
    "clf_kNN = GridSearchCV(kNN_tune, parameters, scoring = 'neg_mean_absolute_error', verbose = 3)\n",
    "clf_kNN.fit(X, y)"
   ]
  },
  {
   "cell_type": "code",
   "execution_count": 301,
   "id": "brutal-orchestra",
   "metadata": {},
   "outputs": [
    {
     "name": "stdout",
     "output_type": "stream",
     "text": [
      "{'n_neighbors': 6}\n",
      "-327.0484619047619\n"
     ]
    }
   ],
   "source": [
    "print(clf_kNN.best_params_) \n",
    "print(clf_kNN.best_score_) "
   ]
  },
  {
   "cell_type": "code",
   "execution_count": 326,
   "id": "white-feedback",
   "metadata": {},
   "outputs": [
    {
     "name": "stdout",
     "output_type": "stream",
     "text": [
      "Optimal number of features : 5\n"
     ]
    },
    {
     "data": {
      "image/png": "[encoded data removed]",
      "text/plain": [
       "<Figure size 432x288 with 1 Axes>"
      ]
     },
     "metadata": {
      "needs_background": "light"
     },
     "output_type": "display_data"
    },
    {
     "name": "stdout",
     "output_type": "stream",
     "text": [
      "[ 3  4  5  6  7  8 10 12 13]\n"
     ]
    }
   ],
   "source": [
    "## Recursive feature slection -- random forest \n",
    "from sklearn.model_selection import StratifiedKFold\n",
    "from sklearn.feature_selection import RFECV\n",
    "\n",
    "# Create the RFE object and compute a cross-validated score.\n",
    "RF_feature = RandomForestRegressor(max_depth = 7, n_estimators = 100)\n",
    "\n",
    "min_features_to_select = 1  # Minimum number of features to consider\n",
    "rfecv = RFECV(estimator=RF_feature, step=1, cv = 5,\n",
    "              scoring='neg_mean_absolute_error',\n",
    "              min_features_to_select = min_features_to_select)\n",
    "rfecv.fit(X, y)\n",
    "\n",
    "print(\"Optimal number of features : %d\" % rfecv.n_features_)\n",
    "\n",
    "# Plot number of features VS. cross-validation scores\n",
    "plt.figure()\n",
    "plt.xlabel(\"Number of features selected\")\n",
    "plt.ylabel(\"Cross validation score (nb of correct classifications)\")\n",
    "plt.plot(range(min_features_to_select,\n",
    "               len(rfecv.grid_scores_) + min_features_to_select),\n",
    "         rfecv.grid_scores_)\n",
    "plt.show()\n",
    "\n",
    "print(np.where(rfecv.support_ == False)[0])"
   ]
  },
  {
   "cell_type": "code",
   "execution_count": 327,
   "id": "british-memorial",
   "metadata": {},
   "outputs": [
    {
     "data": {
      "text/plain": [
       "RandomForestRegressor(max_depth=7)"
      ]
     },
     "execution_count": 327,
     "metadata": {},
     "output_type": "execute_result"
    }
   ],
   "source": [
    "### Fine tuning random forest\n",
    "from sklearn.model_selection import GridSearchCV\n",
    "RF_featureImportance = RandomForestRegressor(max_depth = 7, n_estimators = 100)\n",
    "\n",
    "RF_featureImportance.fit(X, y)"
   ]
  },
  {
   "cell_type": "code",
   "execution_count": 329,
   "id": "dimensional-medicare",
   "metadata": {},
   "outputs": [
    {
     "data": {
      "text/plain": [
       "<BarContainer object of 14 artists>"
      ]
     },
     "execution_count": 329,
     "metadata": {},
     "output_type": "execute_result"
    },
    {
     "data": {
      "image/png": "[encoded data removed]",
      "text/plain": [
       "<Figure size 432x288 with 1 Axes>"
      ]
     },
     "metadata": {
      "needs_background": "light"
     },
     "output_type": "display_data"
    }
   ],
   "source": [
    "plt.figure()\n",
    "plt.barh(X.columns, RF_featureImportance.feature_importances_)"
   ]
  },
  {
   "cell_type": "code",
   "execution_count": null,
   "id": "competitive-hearts",
   "metadata": {},
   "outputs": [],
   "source": []
  }
 ],
 "metadata": {
  "kernelspec": {
   "display_name": "Python 3",
   "language": "python",
   "name": "python3"
  },
  "language_info": {
   "codemirror_mode": {
    "name": "ipython",
    "version": 3
   },
   "file_extension": ".py",
   "mimetype": "text/x-python",
   "name": "python",
   "nbconvert_exporter": "python",
   "pygments_lexer": "ipython3",
   "version": "3.8.5"
  }
 },
 "nbformat": 4,
 "nbformat_minor": 5
}
